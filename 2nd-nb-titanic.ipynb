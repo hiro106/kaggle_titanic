{
 "cells": [
  {
   "cell_type": "code",
   "execution_count": 1,
   "id": "ef4875f8",
   "metadata": {
    "_cell_guid": "b1076dfc-b9ad-4769-8c92-a6c4dae69d19",
    "_uuid": "8f2839f25d086af736a60e9eeb907d3b93b6e0e5",
    "execution": {
     "iopub.execute_input": "2022-05-30T11:40:38.720168Z",
     "iopub.status.busy": "2022-05-30T11:40:38.719335Z",
     "iopub.status.idle": "2022-05-30T11:40:38.732652Z",
     "shell.execute_reply": "2022-05-30T11:40:38.731911Z"
    },
    "papermill": {
     "duration": 0.027569,
     "end_time": "2022-05-30T11:40:38.735209",
     "exception": false,
     "start_time": "2022-05-30T11:40:38.707640",
     "status": "completed"
    },
    "tags": []
   },
   "outputs": [
    {
     "name": "stdout",
     "output_type": "stream",
     "text": [
      "/kaggle/input/titanic/train.csv\n",
      "/kaggle/input/titanic/test.csv\n",
      "/kaggle/input/titanic/gender_submission.csv\n"
     ]
    }
   ],
   "source": [
    "# This Python 3 environment comes with many helpful analytics libraries installed\n",
    "# It is defined by the kaggle/python Docker image: https://github.com/kaggle/docker-python\n",
    "# For example, here's several helpful packages to load\n",
    "\n",
    "import numpy as np # linear algebra\n",
    "import pandas as pd # data processing, CSV file I/O (e.g. pd.read_csv)\n",
    "\n",
    "# Input data files are available in the read-only \"../input/\" directory\n",
    "# For example, running this (by clicking run or pressing Shift+Enter) will list all files under the input directory\n",
    "\n",
    "import os\n",
    "for dirname, _, filenames in os.walk('/kaggle/input'):\n",
    "    for filename in filenames:\n",
    "        print(os.path.join(dirname, filename))\n",
    "\n",
    "# You can write up to 20GB to the current directory (/kaggle/working/) that gets preserved as output when you create a version using \"Save & Run All\" \n",
    "# You can also write temporary files to /kaggle/temp/, but they won't be saved outside of the current session"
   ]
  },
  {
   "cell_type": "code",
   "execution_count": 2,
   "id": "51dc1b6d",
   "metadata": {
    "execution": {
     "iopub.execute_input": "2022-05-30T11:40:38.756120Z",
     "iopub.status.busy": "2022-05-30T11:40:38.755600Z",
     "iopub.status.idle": "2022-05-30T11:40:38.762552Z",
     "shell.execute_reply": "2022-05-30T11:40:38.761967Z"
    },
    "papermill": {
     "duration": 0.018976,
     "end_time": "2022-05-30T11:40:38.764371",
     "exception": false,
     "start_time": "2022-05-30T11:40:38.745395",
     "status": "completed"
    },
    "tags": []
   },
   "outputs": [
    {
     "data": {
      "text/plain": [
       "<generator object walk at 0x7fac55357350>"
      ]
     },
     "execution_count": 2,
     "metadata": {},
     "output_type": "execute_result"
    }
   ],
   "source": [
    "os.walk('/kaggle/input')"
   ]
  },
  {
   "cell_type": "code",
   "execution_count": 3,
   "id": "52c4a0d9",
   "metadata": {
    "execution": {
     "iopub.execute_input": "2022-05-30T11:40:38.784804Z",
     "iopub.status.busy": "2022-05-30T11:40:38.784291Z",
     "iopub.status.idle": "2022-05-30T11:40:38.790288Z",
     "shell.execute_reply": "2022-05-30T11:40:38.789558Z"
    },
    "papermill": {
     "duration": 0.018445,
     "end_time": "2022-05-30T11:40:38.792093",
     "exception": false,
     "start_time": "2022-05-30T11:40:38.773648",
     "status": "completed"
    },
    "tags": []
   },
   "outputs": [
    {
     "data": {
      "text/plain": [
       "[('/kaggle/input', ['titanic'], []),\n",
       " ('/kaggle/input/titanic',\n",
       "  [],\n",
       "  ['train.csv', 'test.csv', 'gender_submission.csv'])]"
      ]
     },
     "execution_count": 3,
     "metadata": {},
     "output_type": "execute_result"
    }
   ],
   "source": [
    "list(os.walk('/kaggle/input'))"
   ]
  },
  {
   "cell_type": "code",
   "execution_count": 4,
   "id": "35598cd8",
   "metadata": {
    "execution": {
     "iopub.execute_input": "2022-05-30T11:40:38.812438Z",
     "iopub.status.busy": "2022-05-30T11:40:38.811927Z",
     "iopub.status.idle": "2022-05-30T11:40:38.818304Z",
     "shell.execute_reply": "2022-05-30T11:40:38.817635Z"
    },
    "papermill": {
     "duration": 0.018543,
     "end_time": "2022-05-30T11:40:38.820075",
     "exception": false,
     "start_time": "2022-05-30T11:40:38.801532",
     "status": "completed"
    },
    "tags": []
   },
   "outputs": [
    {
     "data": {
      "text/plain": [
       "[('/kaggle', ['src', 'lib', 'input', 'working'], []),\n",
       " ('/kaggle/src', [], ['script.ipynb']),\n",
       " ('/kaggle/lib', ['kaggle'], []),\n",
       " ('/kaggle/lib/kaggle', [], ['gcp.py']),\n",
       " ('/kaggle/input', ['titanic'], []),\n",
       " ('/kaggle/input/titanic',\n",
       "  [],\n",
       "  ['train.csv', 'test.csv', 'gender_submission.csv']),\n",
       " ('/kaggle/working', [], ['__notebook__.ipynb'])]"
      ]
     },
     "execution_count": 4,
     "metadata": {},
     "output_type": "execute_result"
    }
   ],
   "source": [
    "list(os.walk('/kaggle'))"
   ]
  },
  {
   "cell_type": "code",
   "execution_count": 5,
   "id": "fbad46e0",
   "metadata": {
    "execution": {
     "iopub.execute_input": "2022-05-30T11:40:38.840538Z",
     "iopub.status.busy": "2022-05-30T11:40:38.840033Z",
     "iopub.status.idle": "2022-05-30T11:40:38.843254Z",
     "shell.execute_reply": "2022-05-30T11:40:38.842634Z"
    },
    "papermill": {
     "duration": 0.01561,
     "end_time": "2022-05-30T11:40:38.845094",
     "exception": false,
     "start_time": "2022-05-30T11:40:38.829484",
     "status": "completed"
    },
    "tags": []
   },
   "outputs": [],
   "source": [
    "# len(list(os.walk('/')))"
   ]
  },
  {
   "cell_type": "code",
   "execution_count": 6,
   "id": "c8ffb38f",
   "metadata": {
    "execution": {
     "iopub.execute_input": "2022-05-30T11:40:38.865443Z",
     "iopub.status.busy": "2022-05-30T11:40:38.864906Z",
     "iopub.status.idle": "2022-05-30T11:40:38.882256Z",
     "shell.execute_reply": "2022-05-30T11:40:38.881602Z"
    },
    "papermill": {
     "duration": 0.029843,
     "end_time": "2022-05-30T11:40:38.884316",
     "exception": false,
     "start_time": "2022-05-30T11:40:38.854473",
     "status": "completed"
    },
    "tags": []
   },
   "outputs": [],
   "source": [
    "train_data = pd.read_csv(\"/kaggle/input/titanic/train.csv\")"
   ]
  },
  {
   "cell_type": "code",
   "execution_count": 7,
   "id": "cc263297",
   "metadata": {
    "execution": {
     "iopub.execute_input": "2022-05-30T11:40:38.905841Z",
     "iopub.status.busy": "2022-05-30T11:40:38.905324Z",
     "iopub.status.idle": "2022-05-30T11:40:38.926385Z",
     "shell.execute_reply": "2022-05-30T11:40:38.925731Z"
    },
    "papermill": {
     "duration": 0.034558,
     "end_time": "2022-05-30T11:40:38.928319",
     "exception": false,
     "start_time": "2022-05-30T11:40:38.893761",
     "status": "completed"
    },
    "tags": []
   },
   "outputs": [
    {
     "data": {
      "text/html": [
       "<div>\n",
       "<style scoped>\n",
       "    .dataframe tbody tr th:only-of-type {\n",
       "        vertical-align: middle;\n",
       "    }\n",
       "\n",
       "    .dataframe tbody tr th {\n",
       "        vertical-align: top;\n",
       "    }\n",
       "\n",
       "    .dataframe thead th {\n",
       "        text-align: right;\n",
       "    }\n",
       "</style>\n",
       "<table border=\"1\" class=\"dataframe\">\n",
       "  <thead>\n",
       "    <tr style=\"text-align: right;\">\n",
       "      <th></th>\n",
       "      <th>PassengerId</th>\n",
       "      <th>Survived</th>\n",
       "      <th>Pclass</th>\n",
       "      <th>Name</th>\n",
       "      <th>Sex</th>\n",
       "      <th>Age</th>\n",
       "      <th>SibSp</th>\n",
       "      <th>Parch</th>\n",
       "      <th>Ticket</th>\n",
       "      <th>Fare</th>\n",
       "      <th>Cabin</th>\n",
       "      <th>Embarked</th>\n",
       "    </tr>\n",
       "  </thead>\n",
       "  <tbody>\n",
       "    <tr>\n",
       "      <th>0</th>\n",
       "      <td>1</td>\n",
       "      <td>0</td>\n",
       "      <td>3</td>\n",
       "      <td>Braund, Mr. Owen Harris</td>\n",
       "      <td>male</td>\n",
       "      <td>22.0</td>\n",
       "      <td>1</td>\n",
       "      <td>0</td>\n",
       "      <td>A/5 21171</td>\n",
       "      <td>7.2500</td>\n",
       "      <td>NaN</td>\n",
       "      <td>S</td>\n",
       "    </tr>\n",
       "    <tr>\n",
       "      <th>1</th>\n",
       "      <td>2</td>\n",
       "      <td>1</td>\n",
       "      <td>1</td>\n",
       "      <td>Cumings, Mrs. John Bradley (Florence Briggs Th...</td>\n",
       "      <td>female</td>\n",
       "      <td>38.0</td>\n",
       "      <td>1</td>\n",
       "      <td>0</td>\n",
       "      <td>PC 17599</td>\n",
       "      <td>71.2833</td>\n",
       "      <td>C85</td>\n",
       "      <td>C</td>\n",
       "    </tr>\n",
       "    <tr>\n",
       "      <th>2</th>\n",
       "      <td>3</td>\n",
       "      <td>1</td>\n",
       "      <td>3</td>\n",
       "      <td>Heikkinen, Miss. Laina</td>\n",
       "      <td>female</td>\n",
       "      <td>26.0</td>\n",
       "      <td>0</td>\n",
       "      <td>0</td>\n",
       "      <td>STON/O2. 3101282</td>\n",
       "      <td>7.9250</td>\n",
       "      <td>NaN</td>\n",
       "      <td>S</td>\n",
       "    </tr>\n",
       "    <tr>\n",
       "      <th>3</th>\n",
       "      <td>4</td>\n",
       "      <td>1</td>\n",
       "      <td>1</td>\n",
       "      <td>Futrelle, Mrs. Jacques Heath (Lily May Peel)</td>\n",
       "      <td>female</td>\n",
       "      <td>35.0</td>\n",
       "      <td>1</td>\n",
       "      <td>0</td>\n",
       "      <td>113803</td>\n",
       "      <td>53.1000</td>\n",
       "      <td>C123</td>\n",
       "      <td>S</td>\n",
       "    </tr>\n",
       "    <tr>\n",
       "      <th>4</th>\n",
       "      <td>5</td>\n",
       "      <td>0</td>\n",
       "      <td>3</td>\n",
       "      <td>Allen, Mr. William Henry</td>\n",
       "      <td>male</td>\n",
       "      <td>35.0</td>\n",
       "      <td>0</td>\n",
       "      <td>0</td>\n",
       "      <td>373450</td>\n",
       "      <td>8.0500</td>\n",
       "      <td>NaN</td>\n",
       "      <td>S</td>\n",
       "    </tr>\n",
       "  </tbody>\n",
       "</table>\n",
       "</div>"
      ],
      "text/plain": [
       "   PassengerId  Survived  Pclass  \\\n",
       "0            1         0       3   \n",
       "1            2         1       1   \n",
       "2            3         1       3   \n",
       "3            4         1       1   \n",
       "4            5         0       3   \n",
       "\n",
       "                                                Name     Sex   Age  SibSp  \\\n",
       "0                            Braund, Mr. Owen Harris    male  22.0      1   \n",
       "1  Cumings, Mrs. John Bradley (Florence Briggs Th...  female  38.0      1   \n",
       "2                             Heikkinen, Miss. Laina  female  26.0      0   \n",
       "3       Futrelle, Mrs. Jacques Heath (Lily May Peel)  female  35.0      1   \n",
       "4                           Allen, Mr. William Henry    male  35.0      0   \n",
       "\n",
       "   Parch            Ticket     Fare Cabin Embarked  \n",
       "0      0         A/5 21171   7.2500   NaN        S  \n",
       "1      0          PC 17599  71.2833   C85        C  \n",
       "2      0  STON/O2. 3101282   7.9250   NaN        S  \n",
       "3      0            113803  53.1000  C123        S  \n",
       "4      0            373450   8.0500   NaN        S  "
      ]
     },
     "execution_count": 7,
     "metadata": {},
     "output_type": "execute_result"
    }
   ],
   "source": [
    "train_data.head()"
   ]
  },
  {
   "cell_type": "code",
   "execution_count": 8,
   "id": "1bf0e61e",
   "metadata": {
    "execution": {
     "iopub.execute_input": "2022-05-30T11:40:38.949231Z",
     "iopub.status.busy": "2022-05-30T11:40:38.948680Z",
     "iopub.status.idle": "2022-05-30T11:40:38.959560Z",
     "shell.execute_reply": "2022-05-30T11:40:38.958567Z"
    },
    "papermill": {
     "duration": 0.023576,
     "end_time": "2022-05-30T11:40:38.961510",
     "exception": false,
     "start_time": "2022-05-30T11:40:38.937934",
     "status": "completed"
    },
    "tags": []
   },
   "outputs": [],
   "source": [
    "test_data = pd.read_csv(\"/kaggle/input/titanic/test.csv\")"
   ]
  },
  {
   "cell_type": "code",
   "execution_count": 9,
   "id": "8041b690",
   "metadata": {
    "execution": {
     "iopub.execute_input": "2022-05-30T11:40:38.983598Z",
     "iopub.status.busy": "2022-05-30T11:40:38.982714Z",
     "iopub.status.idle": "2022-05-30T11:40:38.997924Z",
     "shell.execute_reply": "2022-05-30T11:40:38.997273Z"
    },
    "papermill": {
     "duration": 0.028869,
     "end_time": "2022-05-30T11:40:38.999919",
     "exception": false,
     "start_time": "2022-05-30T11:40:38.971050",
     "status": "completed"
    },
    "tags": []
   },
   "outputs": [
    {
     "data": {
      "text/html": [
       "<div>\n",
       "<style scoped>\n",
       "    .dataframe tbody tr th:only-of-type {\n",
       "        vertical-align: middle;\n",
       "    }\n",
       "\n",
       "    .dataframe tbody tr th {\n",
       "        vertical-align: top;\n",
       "    }\n",
       "\n",
       "    .dataframe thead th {\n",
       "        text-align: right;\n",
       "    }\n",
       "</style>\n",
       "<table border=\"1\" class=\"dataframe\">\n",
       "  <thead>\n",
       "    <tr style=\"text-align: right;\">\n",
       "      <th></th>\n",
       "      <th>PassengerId</th>\n",
       "      <th>Pclass</th>\n",
       "      <th>Name</th>\n",
       "      <th>Sex</th>\n",
       "      <th>Age</th>\n",
       "      <th>SibSp</th>\n",
       "      <th>Parch</th>\n",
       "      <th>Ticket</th>\n",
       "      <th>Fare</th>\n",
       "      <th>Cabin</th>\n",
       "      <th>Embarked</th>\n",
       "    </tr>\n",
       "  </thead>\n",
       "  <tbody>\n",
       "    <tr>\n",
       "      <th>0</th>\n",
       "      <td>892</td>\n",
       "      <td>3</td>\n",
       "      <td>Kelly, Mr. James</td>\n",
       "      <td>male</td>\n",
       "      <td>34.5</td>\n",
       "      <td>0</td>\n",
       "      <td>0</td>\n",
       "      <td>330911</td>\n",
       "      <td>7.8292</td>\n",
       "      <td>NaN</td>\n",
       "      <td>Q</td>\n",
       "    </tr>\n",
       "    <tr>\n",
       "      <th>1</th>\n",
       "      <td>893</td>\n",
       "      <td>3</td>\n",
       "      <td>Wilkes, Mrs. James (Ellen Needs)</td>\n",
       "      <td>female</td>\n",
       "      <td>47.0</td>\n",
       "      <td>1</td>\n",
       "      <td>0</td>\n",
       "      <td>363272</td>\n",
       "      <td>7.0000</td>\n",
       "      <td>NaN</td>\n",
       "      <td>S</td>\n",
       "    </tr>\n",
       "    <tr>\n",
       "      <th>2</th>\n",
       "      <td>894</td>\n",
       "      <td>2</td>\n",
       "      <td>Myles, Mr. Thomas Francis</td>\n",
       "      <td>male</td>\n",
       "      <td>62.0</td>\n",
       "      <td>0</td>\n",
       "      <td>0</td>\n",
       "      <td>240276</td>\n",
       "      <td>9.6875</td>\n",
       "      <td>NaN</td>\n",
       "      <td>Q</td>\n",
       "    </tr>\n",
       "    <tr>\n",
       "      <th>3</th>\n",
       "      <td>895</td>\n",
       "      <td>3</td>\n",
       "      <td>Wirz, Mr. Albert</td>\n",
       "      <td>male</td>\n",
       "      <td>27.0</td>\n",
       "      <td>0</td>\n",
       "      <td>0</td>\n",
       "      <td>315154</td>\n",
       "      <td>8.6625</td>\n",
       "      <td>NaN</td>\n",
       "      <td>S</td>\n",
       "    </tr>\n",
       "    <tr>\n",
       "      <th>4</th>\n",
       "      <td>896</td>\n",
       "      <td>3</td>\n",
       "      <td>Hirvonen, Mrs. Alexander (Helga E Lindqvist)</td>\n",
       "      <td>female</td>\n",
       "      <td>22.0</td>\n",
       "      <td>1</td>\n",
       "      <td>1</td>\n",
       "      <td>3101298</td>\n",
       "      <td>12.2875</td>\n",
       "      <td>NaN</td>\n",
       "      <td>S</td>\n",
       "    </tr>\n",
       "  </tbody>\n",
       "</table>\n",
       "</div>"
      ],
      "text/plain": [
       "   PassengerId  Pclass                                          Name     Sex  \\\n",
       "0          892       3                              Kelly, Mr. James    male   \n",
       "1          893       3              Wilkes, Mrs. James (Ellen Needs)  female   \n",
       "2          894       2                     Myles, Mr. Thomas Francis    male   \n",
       "3          895       3                              Wirz, Mr. Albert    male   \n",
       "4          896       3  Hirvonen, Mrs. Alexander (Helga E Lindqvist)  female   \n",
       "\n",
       "    Age  SibSp  Parch   Ticket     Fare Cabin Embarked  \n",
       "0  34.5      0      0   330911   7.8292   NaN        Q  \n",
       "1  47.0      1      0   363272   7.0000   NaN        S  \n",
       "2  62.0      0      0   240276   9.6875   NaN        Q  \n",
       "3  27.0      0      0   315154   8.6625   NaN        S  \n",
       "4  22.0      1      1  3101298  12.2875   NaN        S  "
      ]
     },
     "execution_count": 9,
     "metadata": {},
     "output_type": "execute_result"
    }
   ],
   "source": [
    "test_data.head()"
   ]
  },
  {
   "cell_type": "code",
   "execution_count": 10,
   "id": "6090ba3d",
   "metadata": {
    "execution": {
     "iopub.execute_input": "2022-05-30T11:40:39.022533Z",
     "iopub.status.busy": "2022-05-30T11:40:39.021428Z",
     "iopub.status.idle": "2022-05-30T11:40:39.027738Z",
     "shell.execute_reply": "2022-05-30T11:40:39.026916Z"
    },
    "papermill": {
     "duration": 0.019603,
     "end_time": "2022-05-30T11:40:39.029806",
     "exception": false,
     "start_time": "2022-05-30T11:40:39.010203",
     "status": "completed"
    },
    "tags": []
   },
   "outputs": [
    {
     "data": {
      "text/plain": [
       "pandas.core.frame.DataFrame"
      ]
     },
     "execution_count": 10,
     "metadata": {},
     "output_type": "execute_result"
    }
   ],
   "source": [
    "type(test_data)"
   ]
  },
  {
   "cell_type": "code",
   "execution_count": 11,
   "id": "89595ef6",
   "metadata": {
    "execution": {
     "iopub.execute_input": "2022-05-30T11:40:39.051431Z",
     "iopub.status.busy": "2022-05-30T11:40:39.051072Z",
     "iopub.status.idle": "2022-05-30T11:40:39.056621Z",
     "shell.execute_reply": "2022-05-30T11:40:39.055984Z"
    },
    "papermill": {
     "duration": 0.018395,
     "end_time": "2022-05-30T11:40:39.058267",
     "exception": false,
     "start_time": "2022-05-30T11:40:39.039872",
     "status": "completed"
    },
    "tags": []
   },
   "outputs": [
    {
     "data": {
      "text/plain": [
       "418"
      ]
     },
     "execution_count": 11,
     "metadata": {},
     "output_type": "execute_result"
    }
   ],
   "source": [
    "len(test_data)"
   ]
  },
  {
   "cell_type": "code",
   "execution_count": 12,
   "id": "8bdea8ed",
   "metadata": {
    "execution": {
     "iopub.execute_input": "2022-05-30T11:40:39.081076Z",
     "iopub.status.busy": "2022-05-30T11:40:39.080484Z",
     "iopub.status.idle": "2022-05-30T11:40:39.085447Z",
     "shell.execute_reply": "2022-05-30T11:40:39.084735Z"
    },
    "papermill": {
     "duration": 0.018348,
     "end_time": "2022-05-30T11:40:39.087205",
     "exception": false,
     "start_time": "2022-05-30T11:40:39.068857",
     "status": "completed"
    },
    "tags": []
   },
   "outputs": [
    {
     "data": {
      "text/plain": [
       "(418, 11)"
      ]
     },
     "execution_count": 12,
     "metadata": {},
     "output_type": "execute_result"
    }
   ],
   "source": [
    "test_data.shape"
   ]
  },
  {
   "cell_type": "code",
   "execution_count": 13,
   "id": "5de8feb1",
   "metadata": {
    "execution": {
     "iopub.execute_input": "2022-05-30T11:40:39.109560Z",
     "iopub.status.busy": "2022-05-30T11:40:39.108925Z",
     "iopub.status.idle": "2022-05-30T11:40:39.132689Z",
     "shell.execute_reply": "2022-05-30T11:40:39.131865Z"
    },
    "papermill": {
     "duration": 0.038013,
     "end_time": "2022-05-30T11:40:39.135498",
     "exception": false,
     "start_time": "2022-05-30T11:40:39.097485",
     "status": "completed"
    },
    "tags": []
   },
   "outputs": [
    {
     "name": "stdout",
     "output_type": "stream",
     "text": [
      "<class 'pandas.core.frame.DataFrame'>\n",
      "RangeIndex: 418 entries, 0 to 417\n",
      "Data columns (total 11 columns):\n",
      " #   Column       Non-Null Count  Dtype  \n",
      "---  ------       --------------  -----  \n",
      " 0   PassengerId  418 non-null    int64  \n",
      " 1   Pclass       418 non-null    int64  \n",
      " 2   Name         418 non-null    object \n",
      " 3   Sex          418 non-null    object \n",
      " 4   Age          332 non-null    float64\n",
      " 5   SibSp        418 non-null    int64  \n",
      " 6   Parch        418 non-null    int64  \n",
      " 7   Ticket       418 non-null    object \n",
      " 8   Fare         417 non-null    float64\n",
      " 9   Cabin        91 non-null     object \n",
      " 10  Embarked     418 non-null    object \n",
      "dtypes: float64(2), int64(4), object(5)\n",
      "memory usage: 36.0+ KB\n"
     ]
    }
   ],
   "source": [
    "test_data.info()"
   ]
  },
  {
   "cell_type": "code",
   "execution_count": 14,
   "id": "140293c0",
   "metadata": {
    "execution": {
     "iopub.execute_input": "2022-05-30T11:40:39.159522Z",
     "iopub.status.busy": "2022-05-30T11:40:39.158985Z",
     "iopub.status.idle": "2022-05-30T11:40:39.164271Z",
     "shell.execute_reply": "2022-05-30T11:40:39.163486Z"
    },
    "papermill": {
     "duration": 0.019201,
     "end_time": "2022-05-30T11:40:39.166204",
     "exception": false,
     "start_time": "2022-05-30T11:40:39.147003",
     "status": "completed"
    },
    "tags": []
   },
   "outputs": [
    {
     "data": {
      "text/plain": [
       "4598"
      ]
     },
     "execution_count": 14,
     "metadata": {},
     "output_type": "execute_result"
    }
   ],
   "source": [
    "test_data.size"
   ]
  },
  {
   "cell_type": "code",
   "execution_count": 15,
   "id": "ff5d6767",
   "metadata": {
    "execution": {
     "iopub.execute_input": "2022-05-30T11:40:39.189255Z",
     "iopub.status.busy": "2022-05-30T11:40:39.188308Z",
     "iopub.status.idle": "2022-05-30T11:40:39.194556Z",
     "shell.execute_reply": "2022-05-30T11:40:39.193659Z"
    },
    "papermill": {
     "duration": 0.019712,
     "end_time": "2022-05-30T11:40:39.196401",
     "exception": false,
     "start_time": "2022-05-30T11:40:39.176689",
     "status": "completed"
    },
    "tags": []
   },
   "outputs": [
    {
     "data": {
      "text/plain": [
       "11"
      ]
     },
     "execution_count": 15,
     "metadata": {},
     "output_type": "execute_result"
    }
   ],
   "source": [
    "len(test_data.columns)"
   ]
  },
  {
   "cell_type": "code",
   "execution_count": 16,
   "id": "3d1b4953",
   "metadata": {
    "execution": {
     "iopub.execute_input": "2022-05-30T11:40:39.219790Z",
     "iopub.status.busy": "2022-05-30T11:40:39.218653Z",
     "iopub.status.idle": "2022-05-30T11:40:39.226747Z",
     "shell.execute_reply": "2022-05-30T11:40:39.225941Z"
    },
    "papermill": {
     "duration": 0.021601,
     "end_time": "2022-05-30T11:40:39.228722",
     "exception": false,
     "start_time": "2022-05-30T11:40:39.207121",
     "status": "completed"
    },
    "tags": []
   },
   "outputs": [],
   "source": [
    "women = train_data.loc[train_data.Sex == 'female']['Survived']"
   ]
  },
  {
   "cell_type": "code",
   "execution_count": 17,
   "id": "fca34210",
   "metadata": {
    "execution": {
     "iopub.execute_input": "2022-05-30T11:40:39.252253Z",
     "iopub.status.busy": "2022-05-30T11:40:39.251827Z",
     "iopub.status.idle": "2022-05-30T11:40:39.259635Z",
     "shell.execute_reply": "2022-05-30T11:40:39.258476Z"
    },
    "papermill": {
     "duration": 0.022196,
     "end_time": "2022-05-30T11:40:39.261564",
     "exception": false,
     "start_time": "2022-05-30T11:40:39.239368",
     "status": "completed"
    },
    "tags": []
   },
   "outputs": [
    {
     "data": {
      "text/plain": [
       "1      1\n",
       "2      1\n",
       "3      1\n",
       "8      1\n",
       "9      1\n",
       "      ..\n",
       "880    1\n",
       "882    0\n",
       "885    0\n",
       "887    1\n",
       "888    0\n",
       "Name: Survived, Length: 314, dtype: int64"
      ]
     },
     "execution_count": 17,
     "metadata": {},
     "output_type": "execute_result"
    }
   ],
   "source": [
    "women"
   ]
  },
  {
   "cell_type": "code",
   "execution_count": 18,
   "id": "28224889",
   "metadata": {
    "execution": {
     "iopub.execute_input": "2022-05-30T11:40:39.284828Z",
     "iopub.status.busy": "2022-05-30T11:40:39.284421Z",
     "iopub.status.idle": "2022-05-30T11:40:39.290470Z",
     "shell.execute_reply": "2022-05-30T11:40:39.289666Z"
    },
    "papermill": {
     "duration": 0.019868,
     "end_time": "2022-05-30T11:40:39.292389",
     "exception": false,
     "start_time": "2022-05-30T11:40:39.272521",
     "status": "completed"
    },
    "tags": []
   },
   "outputs": [
    {
     "data": {
      "text/plain": [
       "233"
      ]
     },
     "execution_count": 18,
     "metadata": {},
     "output_type": "execute_result"
    }
   ],
   "source": [
    "sum(women)"
   ]
  },
  {
   "cell_type": "code",
   "execution_count": 19,
   "id": "e587f897",
   "metadata": {
    "execution": {
     "iopub.execute_input": "2022-05-30T11:40:39.315937Z",
     "iopub.status.busy": "2022-05-30T11:40:39.315547Z",
     "iopub.status.idle": "2022-05-30T11:40:39.321905Z",
     "shell.execute_reply": "2022-05-30T11:40:39.320980Z"
    },
    "papermill": {
     "duration": 0.020573,
     "end_time": "2022-05-30T11:40:39.324098",
     "exception": false,
     "start_time": "2022-05-30T11:40:39.303525",
     "status": "completed"
    },
    "tags": []
   },
   "outputs": [
    {
     "data": {
      "text/plain": [
       "314"
      ]
     },
     "execution_count": 19,
     "metadata": {},
     "output_type": "execute_result"
    }
   ],
   "source": [
    "len(women)"
   ]
  },
  {
   "cell_type": "code",
   "execution_count": 20,
   "id": "9573847d",
   "metadata": {
    "execution": {
     "iopub.execute_input": "2022-05-30T11:40:39.347922Z",
     "iopub.status.busy": "2022-05-30T11:40:39.347525Z",
     "iopub.status.idle": "2022-05-30T11:40:39.353532Z",
     "shell.execute_reply": "2022-05-30T11:40:39.352610Z"
    },
    "papermill": {
     "duration": 0.020236,
     "end_time": "2022-05-30T11:40:39.355493",
     "exception": false,
     "start_time": "2022-05-30T11:40:39.335257",
     "status": "completed"
    },
    "tags": []
   },
   "outputs": [
    {
     "data": {
      "text/plain": [
       "pandas.core.series.Series"
      ]
     },
     "execution_count": 20,
     "metadata": {},
     "output_type": "execute_result"
    }
   ],
   "source": [
    "type(women)"
   ]
  },
  {
   "cell_type": "code",
   "execution_count": 21,
   "id": "d3c33142",
   "metadata": {
    "execution": {
     "iopub.execute_input": "2022-05-30T11:40:39.379587Z",
     "iopub.status.busy": "2022-05-30T11:40:39.379179Z",
     "iopub.status.idle": "2022-05-30T11:40:39.384105Z",
     "shell.execute_reply": "2022-05-30T11:40:39.383246Z"
    },
    "papermill": {
     "duration": 0.019247,
     "end_time": "2022-05-30T11:40:39.386084",
     "exception": false,
     "start_time": "2022-05-30T11:40:39.366837",
     "status": "completed"
    },
    "tags": []
   },
   "outputs": [],
   "source": [
    "num01 = pd.Series([0,1,1,2,2])"
   ]
  },
  {
   "cell_type": "code",
   "execution_count": 22,
   "id": "410307b6",
   "metadata": {
    "execution": {
     "iopub.execute_input": "2022-05-30T11:40:39.410195Z",
     "iopub.status.busy": "2022-05-30T11:40:39.409750Z",
     "iopub.status.idle": "2022-05-30T11:40:39.416482Z",
     "shell.execute_reply": "2022-05-30T11:40:39.415544Z"
    },
    "papermill": {
     "duration": 0.02115,
     "end_time": "2022-05-30T11:40:39.418556",
     "exception": false,
     "start_time": "2022-05-30T11:40:39.397406",
     "status": "completed"
    },
    "tags": []
   },
   "outputs": [
    {
     "data": {
      "text/plain": [
       "0    0\n",
       "1    1\n",
       "2    1\n",
       "3    2\n",
       "4    2\n",
       "dtype: int64"
      ]
     },
     "execution_count": 22,
     "metadata": {},
     "output_type": "execute_result"
    }
   ],
   "source": [
    "num01"
   ]
  },
  {
   "cell_type": "code",
   "execution_count": 23,
   "id": "13466ce8",
   "metadata": {
    "execution": {
     "iopub.execute_input": "2022-05-30T11:40:39.442772Z",
     "iopub.status.busy": "2022-05-30T11:40:39.442357Z",
     "iopub.status.idle": "2022-05-30T11:40:39.447846Z",
     "shell.execute_reply": "2022-05-30T11:40:39.447026Z"
    },
    "papermill": {
     "duration": 0.019939,
     "end_time": "2022-05-30T11:40:39.449872",
     "exception": false,
     "start_time": "2022-05-30T11:40:39.429933",
     "status": "completed"
    },
    "tags": []
   },
   "outputs": [
    {
     "data": {
      "text/plain": [
       "6"
      ]
     },
     "execution_count": 23,
     "metadata": {},
     "output_type": "execute_result"
    }
   ],
   "source": [
    "sum(num01)"
   ]
  },
  {
   "cell_type": "code",
   "execution_count": 24,
   "id": "bc0cd2ca",
   "metadata": {
    "execution": {
     "iopub.execute_input": "2022-05-30T11:40:39.474193Z",
     "iopub.status.busy": "2022-05-30T11:40:39.473769Z",
     "iopub.status.idle": "2022-05-30T11:40:39.479534Z",
     "shell.execute_reply": "2022-05-30T11:40:39.478862Z"
    },
    "papermill": {
     "duration": 0.020058,
     "end_time": "2022-05-30T11:40:39.481333",
     "exception": false,
     "start_time": "2022-05-30T11:40:39.461275",
     "status": "completed"
    },
    "tags": []
   },
   "outputs": [
    {
     "data": {
      "text/plain": [
       "0.7420382165605095"
      ]
     },
     "execution_count": 24,
     "metadata": {},
     "output_type": "execute_result"
    }
   ],
   "source": [
    "rate_women = sum(women)/len(women)\n",
    "rate_women"
   ]
  },
  {
   "cell_type": "code",
   "execution_count": 25,
   "id": "f9efc4bb",
   "metadata": {
    "execution": {
     "iopub.execute_input": "2022-05-30T11:40:39.506631Z",
     "iopub.status.busy": "2022-05-30T11:40:39.506225Z",
     "iopub.status.idle": "2022-05-30T11:40:39.511202Z",
     "shell.execute_reply": "2022-05-30T11:40:39.510252Z"
    },
    "papermill": {
     "duration": 0.019895,
     "end_time": "2022-05-30T11:40:39.513565",
     "exception": false,
     "start_time": "2022-05-30T11:40:39.493670",
     "status": "completed"
    },
    "tags": []
   },
   "outputs": [
    {
     "name": "stdout",
     "output_type": "stream",
     "text": [
      "% of women who survived: 0.7420382165605095\n"
     ]
    }
   ],
   "source": [
    "print(\"% of women who survived:\", rate_women)"
   ]
  },
  {
   "cell_type": "code",
   "execution_count": 26,
   "id": "51311717",
   "metadata": {
    "execution": {
     "iopub.execute_input": "2022-05-30T11:40:39.538986Z",
     "iopub.status.busy": "2022-05-30T11:40:39.538556Z",
     "iopub.status.idle": "2022-05-30T11:40:39.544870Z",
     "shell.execute_reply": "2022-05-30T11:40:39.543999Z"
    },
    "papermill": {
     "duration": 0.021322,
     "end_time": "2022-05-30T11:40:39.546879",
     "exception": false,
     "start_time": "2022-05-30T11:40:39.525557",
     "status": "completed"
    },
    "tags": []
   },
   "outputs": [],
   "source": [
    "men = train_data.loc[train_data.Sex=='male'][\"Survived\"]"
   ]
  },
  {
   "cell_type": "code",
   "execution_count": 27,
   "id": "6e7bae8f",
   "metadata": {
    "execution": {
     "iopub.execute_input": "2022-05-30T11:40:39.571884Z",
     "iopub.status.busy": "2022-05-30T11:40:39.571485Z",
     "iopub.status.idle": "2022-05-30T11:40:39.578047Z",
     "shell.execute_reply": "2022-05-30T11:40:39.577364Z"
    },
    "papermill": {
     "duration": 0.021158,
     "end_time": "2022-05-30T11:40:39.579803",
     "exception": false,
     "start_time": "2022-05-30T11:40:39.558645",
     "status": "completed"
    },
    "tags": []
   },
   "outputs": [
    {
     "data": {
      "text/plain": [
       "0      0\n",
       "4      0\n",
       "5      0\n",
       "6      0\n",
       "7      0\n",
       "      ..\n",
       "883    0\n",
       "884    0\n",
       "886    0\n",
       "889    1\n",
       "890    0\n",
       "Name: Survived, Length: 577, dtype: int64"
      ]
     },
     "execution_count": 27,
     "metadata": {},
     "output_type": "execute_result"
    }
   ],
   "source": [
    "men"
   ]
  },
  {
   "cell_type": "code",
   "execution_count": 28,
   "id": "c8f329d6",
   "metadata": {
    "execution": {
     "iopub.execute_input": "2022-05-30T11:40:39.604890Z",
     "iopub.status.busy": "2022-05-30T11:40:39.604495Z",
     "iopub.status.idle": "2022-05-30T11:40:39.610949Z",
     "shell.execute_reply": "2022-05-30T11:40:39.610031Z"
    },
    "papermill": {
     "duration": 0.021209,
     "end_time": "2022-05-30T11:40:39.612851",
     "exception": false,
     "start_time": "2022-05-30T11:40:39.591642",
     "status": "completed"
    },
    "tags": []
   },
   "outputs": [
    {
     "data": {
      "text/plain": [
       "0.18890814558058924"
      ]
     },
     "execution_count": 28,
     "metadata": {},
     "output_type": "execute_result"
    }
   ],
   "source": [
    "rate_men = sum(men)/len(men)\n",
    "rate_men"
   ]
  },
  {
   "cell_type": "code",
   "execution_count": 29,
   "id": "e8d647fd",
   "metadata": {
    "execution": {
     "iopub.execute_input": "2022-05-30T11:40:39.637864Z",
     "iopub.status.busy": "2022-05-30T11:40:39.637462Z",
     "iopub.status.idle": "2022-05-30T11:40:39.642594Z",
     "shell.execute_reply": "2022-05-30T11:40:39.641380Z"
    },
    "papermill": {
     "duration": 0.020066,
     "end_time": "2022-05-30T11:40:39.644671",
     "exception": false,
     "start_time": "2022-05-30T11:40:39.624605",
     "status": "completed"
    },
    "tags": []
   },
   "outputs": [
    {
     "name": "stdout",
     "output_type": "stream",
     "text": [
      "% of men who survived: 0.18890814558058924\n"
     ]
    }
   ],
   "source": [
    "print(\"% of men who survived:\", rate_men)"
   ]
  },
  {
   "cell_type": "code",
   "execution_count": null,
   "id": "1b9045b9",
   "metadata": {
    "papermill": {
     "duration": 0.011503,
     "end_time": "2022-05-30T11:40:39.668057",
     "exception": false,
     "start_time": "2022-05-30T11:40:39.656554",
     "status": "completed"
    },
    "tags": []
   },
   "outputs": [],
   "source": []
  },
  {
   "cell_type": "code",
   "execution_count": null,
   "id": "7b8c19da",
   "metadata": {
    "papermill": {
     "duration": 0.011578,
     "end_time": "2022-05-30T11:40:39.691466",
     "exception": false,
     "start_time": "2022-05-30T11:40:39.679888",
     "status": "completed"
    },
    "tags": []
   },
   "outputs": [],
   "source": []
  },
  {
   "cell_type": "code",
   "execution_count": null,
   "id": "e6605cb4",
   "metadata": {
    "papermill": {
     "duration": 0.0119,
     "end_time": "2022-05-30T11:40:39.715273",
     "exception": false,
     "start_time": "2022-05-30T11:40:39.703373",
     "status": "completed"
    },
    "tags": []
   },
   "outputs": [],
   "source": []
  },
  {
   "cell_type": "code",
   "execution_count": null,
   "id": "25c7c821",
   "metadata": {
    "papermill": {
     "duration": 0.011585,
     "end_time": "2022-05-30T11:40:39.739247",
     "exception": false,
     "start_time": "2022-05-30T11:40:39.727662",
     "status": "completed"
    },
    "tags": []
   },
   "outputs": [],
   "source": []
  },
  {
   "cell_type": "code",
   "execution_count": null,
   "id": "1f0f8d59",
   "metadata": {
    "papermill": {
     "duration": 0.011564,
     "end_time": "2022-05-30T11:40:39.762741",
     "exception": false,
     "start_time": "2022-05-30T11:40:39.751177",
     "status": "completed"
    },
    "tags": []
   },
   "outputs": [],
   "source": []
  }
 ],
 "metadata": {
  "kernelspec": {
   "display_name": "Python 3",
   "language": "python",
   "name": "python3"
  },
  "language_info": {
   "codemirror_mode": {
    "name": "ipython",
    "version": 3
   },
   "file_extension": ".py",
   "mimetype": "text/x-python",
   "name": "python",
   "nbconvert_exporter": "python",
   "pygments_lexer": "ipython3",
   "version": "3.7.12"
  },
  "papermill": {
   "default_parameters": {},
   "duration": 11.479144,
   "end_time": "2022-05-30T11:40:40.395809",
   "environment_variables": {},
   "exception": null,
   "input_path": "__notebook__.ipynb",
   "output_path": "__notebook__.ipynb",
   "parameters": {},
   "start_time": "2022-05-30T11:40:28.916665",
   "version": "2.3.4"
  }
 },
 "nbformat": 4,
 "nbformat_minor": 5
}
