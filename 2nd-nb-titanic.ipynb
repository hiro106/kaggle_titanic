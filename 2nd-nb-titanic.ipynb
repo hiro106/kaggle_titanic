{
 "cells": [
  {
   "cell_type": "code",
   "execution_count": 1,
   "id": "6f630032",
   "metadata": {
    "_cell_guid": "b1076dfc-b9ad-4769-8c92-a6c4dae69d19",
    "_uuid": "8f2839f25d086af736a60e9eeb907d3b93b6e0e5",
    "execution": {
     "iopub.execute_input": "2022-06-03T11:39:41.791703Z",
     "iopub.status.busy": "2022-06-03T11:39:41.791038Z",
     "iopub.status.idle": "2022-06-03T11:39:41.803415Z",
     "shell.execute_reply": "2022-06-03T11:39:41.802801Z"
    },
    "papermill": {
     "duration": 0.033469,
     "end_time": "2022-06-03T11:39:41.805743",
     "exception": false,
     "start_time": "2022-06-03T11:39:41.772274",
     "status": "completed"
    },
    "tags": []
   },
   "outputs": [
    {
     "name": "stdout",
     "output_type": "stream",
     "text": [
      "/kaggle/input/titanic/train.csv\n",
      "/kaggle/input/titanic/test.csv\n",
      "/kaggle/input/titanic/gender_submission.csv\n"
     ]
    }
   ],
   "source": [
    "# This Python 3 environment comes with many helpful analytics libraries installed\n",
    "# It is defined by the kaggle/python Docker image: https://github.com/kaggle/docker-python\n",
    "# For example, here's several helpful packages to load\n",
    "\n",
    "import numpy as np # linear algebra\n",
    "import pandas as pd # data processing, CSV file I/O (e.g. pd.read_csv)\n",
    "\n",
    "# Input data files are available in the read-only \"../input/\" directory\n",
    "# For example, running this (by clicking run or pressing Shift+Enter) will list all files under the input directory\n",
    "\n",
    "import os\n",
    "for dirname, _, filenames in os.walk('/kaggle/input'):\n",
    "    for filename in filenames:\n",
    "        print(os.path.join(dirname, filename))\n",
    "\n",
    "# You can write up to 20GB to the current directory (/kaggle/working/) that gets preserved as output when you create a version using \"Save & Run All\" \n",
    "# You can also write temporary files to /kaggle/temp/, but they won't be saved outside of the current session"
   ]
  },
  {
   "cell_type": "code",
   "execution_count": 2,
   "id": "b8fbd8dd",
   "metadata": {
    "execution": {
     "iopub.execute_input": "2022-06-03T11:39:41.838342Z",
     "iopub.status.busy": "2022-06-03T11:39:41.837742Z",
     "iopub.status.idle": "2022-06-03T11:39:41.845595Z",
     "shell.execute_reply": "2022-06-03T11:39:41.844665Z"
    },
    "papermill": {
     "duration": 0.026268,
     "end_time": "2022-06-03T11:39:41.847544",
     "exception": false,
     "start_time": "2022-06-03T11:39:41.821276",
     "status": "completed"
    },
    "tags": []
   },
   "outputs": [
    {
     "data": {
      "text/plain": [
       "<generator object walk at 0x7f897769e350>"
      ]
     },
     "execution_count": 2,
     "metadata": {},
     "output_type": "execute_result"
    }
   ],
   "source": [
    "os.walk('/kaggle/input')"
   ]
  },
  {
   "cell_type": "code",
   "execution_count": 3,
   "id": "e3a569fc",
   "metadata": {
    "execution": {
     "iopub.execute_input": "2022-06-03T11:39:41.881003Z",
     "iopub.status.busy": "2022-06-03T11:39:41.880386Z",
     "iopub.status.idle": "2022-06-03T11:39:41.886404Z",
     "shell.execute_reply": "2022-06-03T11:39:41.885610Z"
    },
    "papermill": {
     "duration": 0.024708,
     "end_time": "2022-06-03T11:39:41.888222",
     "exception": false,
     "start_time": "2022-06-03T11:39:41.863514",
     "status": "completed"
    },
    "tags": []
   },
   "outputs": [
    {
     "data": {
      "text/plain": [
       "[('/kaggle/input', ['titanic'], []),\n",
       " ('/kaggle/input/titanic',\n",
       "  [],\n",
       "  ['train.csv', 'test.csv', 'gender_submission.csv'])]"
      ]
     },
     "execution_count": 3,
     "metadata": {},
     "output_type": "execute_result"
    }
   ],
   "source": [
    "list(os.walk('/kaggle/input'))"
   ]
  },
  {
   "cell_type": "code",
   "execution_count": 4,
   "id": "3c2414ba",
   "metadata": {
    "execution": {
     "iopub.execute_input": "2022-06-03T11:39:41.922181Z",
     "iopub.status.busy": "2022-06-03T11:39:41.921570Z",
     "iopub.status.idle": "2022-06-03T11:39:41.928636Z",
     "shell.execute_reply": "2022-06-03T11:39:41.927717Z"
    },
    "papermill": {
     "duration": 0.026377,
     "end_time": "2022-06-03T11:39:41.930557",
     "exception": false,
     "start_time": "2022-06-03T11:39:41.904180",
     "status": "completed"
    },
    "tags": []
   },
   "outputs": [
    {
     "data": {
      "text/plain": [
       "[('/kaggle', ['src', 'lib', 'input', 'working'], []),\n",
       " ('/kaggle/src', [], ['script.ipynb']),\n",
       " ('/kaggle/lib', ['kaggle'], []),\n",
       " ('/kaggle/lib/kaggle', [], ['gcp.py']),\n",
       " ('/kaggle/input', ['titanic'], []),\n",
       " ('/kaggle/input/titanic',\n",
       "  [],\n",
       "  ['train.csv', 'test.csv', 'gender_submission.csv']),\n",
       " ('/kaggle/working', [], ['__notebook__.ipynb'])]"
      ]
     },
     "execution_count": 4,
     "metadata": {},
     "output_type": "execute_result"
    }
   ],
   "source": [
    "list(os.walk('/kaggle'))"
   ]
  },
  {
   "cell_type": "code",
   "execution_count": 5,
   "id": "11ffefdf",
   "metadata": {
    "execution": {
     "iopub.execute_input": "2022-06-03T11:39:41.964294Z",
     "iopub.status.busy": "2022-06-03T11:39:41.963620Z",
     "iopub.status.idle": "2022-06-03T11:39:41.967778Z",
     "shell.execute_reply": "2022-06-03T11:39:41.967141Z"
    },
    "papermill": {
     "duration": 0.022838,
     "end_time": "2022-06-03T11:39:41.969608",
     "exception": false,
     "start_time": "2022-06-03T11:39:41.946770",
     "status": "completed"
    },
    "tags": []
   },
   "outputs": [],
   "source": [
    "# len(list(os.walk('/')))"
   ]
  },
  {
   "cell_type": "code",
   "execution_count": 6,
   "id": "5a9db0f1",
   "metadata": {
    "execution": {
     "iopub.execute_input": "2022-06-03T11:39:42.002355Z",
     "iopub.status.busy": "2022-06-03T11:39:42.001928Z",
     "iopub.status.idle": "2022-06-03T11:39:42.023067Z",
     "shell.execute_reply": "2022-06-03T11:39:42.022373Z"
    },
    "papermill": {
     "duration": 0.040705,
     "end_time": "2022-06-03T11:39:42.025693",
     "exception": false,
     "start_time": "2022-06-03T11:39:41.984988",
     "status": "completed"
    },
    "tags": []
   },
   "outputs": [],
   "source": [
    "train_data = pd.read_csv(\"/kaggle/input/titanic/train.csv\")"
   ]
  },
  {
   "cell_type": "code",
   "execution_count": 7,
   "id": "8ee67838",
   "metadata": {
    "execution": {
     "iopub.execute_input": "2022-06-03T11:39:42.059018Z",
     "iopub.status.busy": "2022-06-03T11:39:42.058613Z",
     "iopub.status.idle": "2022-06-03T11:39:42.079401Z",
     "shell.execute_reply": "2022-06-03T11:39:42.078501Z"
    },
    "papermill": {
     "duration": 0.040211,
     "end_time": "2022-06-03T11:39:42.081375",
     "exception": false,
     "start_time": "2022-06-03T11:39:42.041164",
     "status": "completed"
    },
    "tags": []
   },
   "outputs": [
    {
     "data": {
      "text/html": [
       "<div>\n",
       "<style scoped>\n",
       "    .dataframe tbody tr th:only-of-type {\n",
       "        vertical-align: middle;\n",
       "    }\n",
       "\n",
       "    .dataframe tbody tr th {\n",
       "        vertical-align: top;\n",
       "    }\n",
       "\n",
       "    .dataframe thead th {\n",
       "        text-align: right;\n",
       "    }\n",
       "</style>\n",
       "<table border=\"1\" class=\"dataframe\">\n",
       "  <thead>\n",
       "    <tr style=\"text-align: right;\">\n",
       "      <th></th>\n",
       "      <th>PassengerId</th>\n",
       "      <th>Survived</th>\n",
       "      <th>Pclass</th>\n",
       "      <th>Name</th>\n",
       "      <th>Sex</th>\n",
       "      <th>Age</th>\n",
       "      <th>SibSp</th>\n",
       "      <th>Parch</th>\n",
       "      <th>Ticket</th>\n",
       "      <th>Fare</th>\n",
       "      <th>Cabin</th>\n",
       "      <th>Embarked</th>\n",
       "    </tr>\n",
       "  </thead>\n",
       "  <tbody>\n",
       "    <tr>\n",
       "      <th>0</th>\n",
       "      <td>1</td>\n",
       "      <td>0</td>\n",
       "      <td>3</td>\n",
       "      <td>Braund, Mr. Owen Harris</td>\n",
       "      <td>male</td>\n",
       "      <td>22.0</td>\n",
       "      <td>1</td>\n",
       "      <td>0</td>\n",
       "      <td>A/5 21171</td>\n",
       "      <td>7.2500</td>\n",
       "      <td>NaN</td>\n",
       "      <td>S</td>\n",
       "    </tr>\n",
       "    <tr>\n",
       "      <th>1</th>\n",
       "      <td>2</td>\n",
       "      <td>1</td>\n",
       "      <td>1</td>\n",
       "      <td>Cumings, Mrs. John Bradley (Florence Briggs Th...</td>\n",
       "      <td>female</td>\n",
       "      <td>38.0</td>\n",
       "      <td>1</td>\n",
       "      <td>0</td>\n",
       "      <td>PC 17599</td>\n",
       "      <td>71.2833</td>\n",
       "      <td>C85</td>\n",
       "      <td>C</td>\n",
       "    </tr>\n",
       "    <tr>\n",
       "      <th>2</th>\n",
       "      <td>3</td>\n",
       "      <td>1</td>\n",
       "      <td>3</td>\n",
       "      <td>Heikkinen, Miss. Laina</td>\n",
       "      <td>female</td>\n",
       "      <td>26.0</td>\n",
       "      <td>0</td>\n",
       "      <td>0</td>\n",
       "      <td>STON/O2. 3101282</td>\n",
       "      <td>7.9250</td>\n",
       "      <td>NaN</td>\n",
       "      <td>S</td>\n",
       "    </tr>\n",
       "    <tr>\n",
       "      <th>3</th>\n",
       "      <td>4</td>\n",
       "      <td>1</td>\n",
       "      <td>1</td>\n",
       "      <td>Futrelle, Mrs. Jacques Heath (Lily May Peel)</td>\n",
       "      <td>female</td>\n",
       "      <td>35.0</td>\n",
       "      <td>1</td>\n",
       "      <td>0</td>\n",
       "      <td>113803</td>\n",
       "      <td>53.1000</td>\n",
       "      <td>C123</td>\n",
       "      <td>S</td>\n",
       "    </tr>\n",
       "    <tr>\n",
       "      <th>4</th>\n",
       "      <td>5</td>\n",
       "      <td>0</td>\n",
       "      <td>3</td>\n",
       "      <td>Allen, Mr. William Henry</td>\n",
       "      <td>male</td>\n",
       "      <td>35.0</td>\n",
       "      <td>0</td>\n",
       "      <td>0</td>\n",
       "      <td>373450</td>\n",
       "      <td>8.0500</td>\n",
       "      <td>NaN</td>\n",
       "      <td>S</td>\n",
       "    </tr>\n",
       "  </tbody>\n",
       "</table>\n",
       "</div>"
      ],
      "text/plain": [
       "   PassengerId  Survived  Pclass  \\\n",
       "0            1         0       3   \n",
       "1            2         1       1   \n",
       "2            3         1       3   \n",
       "3            4         1       1   \n",
       "4            5         0       3   \n",
       "\n",
       "                                                Name     Sex   Age  SibSp  \\\n",
       "0                            Braund, Mr. Owen Harris    male  22.0      1   \n",
       "1  Cumings, Mrs. John Bradley (Florence Briggs Th...  female  38.0      1   \n",
       "2                             Heikkinen, Miss. Laina  female  26.0      0   \n",
       "3       Futrelle, Mrs. Jacques Heath (Lily May Peel)  female  35.0      1   \n",
       "4                           Allen, Mr. William Henry    male  35.0      0   \n",
       "\n",
       "   Parch            Ticket     Fare Cabin Embarked  \n",
       "0      0         A/5 21171   7.2500   NaN        S  \n",
       "1      0          PC 17599  71.2833   C85        C  \n",
       "2      0  STON/O2. 3101282   7.9250   NaN        S  \n",
       "3      0            113803  53.1000  C123        S  \n",
       "4      0            373450   8.0500   NaN        S  "
      ]
     },
     "execution_count": 7,
     "metadata": {},
     "output_type": "execute_result"
    }
   ],
   "source": [
    "train_data.head()"
   ]
  },
  {
   "cell_type": "code",
   "execution_count": 8,
   "id": "ed8482b0",
   "metadata": {
    "execution": {
     "iopub.execute_input": "2022-06-03T11:39:42.115101Z",
     "iopub.status.busy": "2022-06-03T11:39:42.114553Z",
     "iopub.status.idle": "2022-06-03T11:39:42.127722Z",
     "shell.execute_reply": "2022-06-03T11:39:42.126908Z"
    },
    "papermill": {
     "duration": 0.032717,
     "end_time": "2022-06-03T11:39:42.129888",
     "exception": false,
     "start_time": "2022-06-03T11:39:42.097171",
     "status": "completed"
    },
    "tags": []
   },
   "outputs": [],
   "source": [
    "test_data = pd.read_csv(\"/kaggle/input/titanic/test.csv\")"
   ]
  },
  {
   "cell_type": "code",
   "execution_count": 9,
   "id": "d89b52f6",
   "metadata": {
    "execution": {
     "iopub.execute_input": "2022-06-03T11:39:42.163712Z",
     "iopub.status.busy": "2022-06-03T11:39:42.163129Z",
     "iopub.status.idle": "2022-06-03T11:39:42.178097Z",
     "shell.execute_reply": "2022-06-03T11:39:42.177189Z"
    },
    "papermill": {
     "duration": 0.034188,
     "end_time": "2022-06-03T11:39:42.180064",
     "exception": false,
     "start_time": "2022-06-03T11:39:42.145876",
     "status": "completed"
    },
    "tags": []
   },
   "outputs": [
    {
     "data": {
      "text/html": [
       "<div>\n",
       "<style scoped>\n",
       "    .dataframe tbody tr th:only-of-type {\n",
       "        vertical-align: middle;\n",
       "    }\n",
       "\n",
       "    .dataframe tbody tr th {\n",
       "        vertical-align: top;\n",
       "    }\n",
       "\n",
       "    .dataframe thead th {\n",
       "        text-align: right;\n",
       "    }\n",
       "</style>\n",
       "<table border=\"1\" class=\"dataframe\">\n",
       "  <thead>\n",
       "    <tr style=\"text-align: right;\">\n",
       "      <th></th>\n",
       "      <th>PassengerId</th>\n",
       "      <th>Pclass</th>\n",
       "      <th>Name</th>\n",
       "      <th>Sex</th>\n",
       "      <th>Age</th>\n",
       "      <th>SibSp</th>\n",
       "      <th>Parch</th>\n",
       "      <th>Ticket</th>\n",
       "      <th>Fare</th>\n",
       "      <th>Cabin</th>\n",
       "      <th>Embarked</th>\n",
       "    </tr>\n",
       "  </thead>\n",
       "  <tbody>\n",
       "    <tr>\n",
       "      <th>0</th>\n",
       "      <td>892</td>\n",
       "      <td>3</td>\n",
       "      <td>Kelly, Mr. James</td>\n",
       "      <td>male</td>\n",
       "      <td>34.5</td>\n",
       "      <td>0</td>\n",
       "      <td>0</td>\n",
       "      <td>330911</td>\n",
       "      <td>7.8292</td>\n",
       "      <td>NaN</td>\n",
       "      <td>Q</td>\n",
       "    </tr>\n",
       "    <tr>\n",
       "      <th>1</th>\n",
       "      <td>893</td>\n",
       "      <td>3</td>\n",
       "      <td>Wilkes, Mrs. James (Ellen Needs)</td>\n",
       "      <td>female</td>\n",
       "      <td>47.0</td>\n",
       "      <td>1</td>\n",
       "      <td>0</td>\n",
       "      <td>363272</td>\n",
       "      <td>7.0000</td>\n",
       "      <td>NaN</td>\n",
       "      <td>S</td>\n",
       "    </tr>\n",
       "    <tr>\n",
       "      <th>2</th>\n",
       "      <td>894</td>\n",
       "      <td>2</td>\n",
       "      <td>Myles, Mr. Thomas Francis</td>\n",
       "      <td>male</td>\n",
       "      <td>62.0</td>\n",
       "      <td>0</td>\n",
       "      <td>0</td>\n",
       "      <td>240276</td>\n",
       "      <td>9.6875</td>\n",
       "      <td>NaN</td>\n",
       "      <td>Q</td>\n",
       "    </tr>\n",
       "    <tr>\n",
       "      <th>3</th>\n",
       "      <td>895</td>\n",
       "      <td>3</td>\n",
       "      <td>Wirz, Mr. Albert</td>\n",
       "      <td>male</td>\n",
       "      <td>27.0</td>\n",
       "      <td>0</td>\n",
       "      <td>0</td>\n",
       "      <td>315154</td>\n",
       "      <td>8.6625</td>\n",
       "      <td>NaN</td>\n",
       "      <td>S</td>\n",
       "    </tr>\n",
       "    <tr>\n",
       "      <th>4</th>\n",
       "      <td>896</td>\n",
       "      <td>3</td>\n",
       "      <td>Hirvonen, Mrs. Alexander (Helga E Lindqvist)</td>\n",
       "      <td>female</td>\n",
       "      <td>22.0</td>\n",
       "      <td>1</td>\n",
       "      <td>1</td>\n",
       "      <td>3101298</td>\n",
       "      <td>12.2875</td>\n",
       "      <td>NaN</td>\n",
       "      <td>S</td>\n",
       "    </tr>\n",
       "  </tbody>\n",
       "</table>\n",
       "</div>"
      ],
      "text/plain": [
       "   PassengerId  Pclass                                          Name     Sex  \\\n",
       "0          892       3                              Kelly, Mr. James    male   \n",
       "1          893       3              Wilkes, Mrs. James (Ellen Needs)  female   \n",
       "2          894       2                     Myles, Mr. Thomas Francis    male   \n",
       "3          895       3                              Wirz, Mr. Albert    male   \n",
       "4          896       3  Hirvonen, Mrs. Alexander (Helga E Lindqvist)  female   \n",
       "\n",
       "    Age  SibSp  Parch   Ticket     Fare Cabin Embarked  \n",
       "0  34.5      0      0   330911   7.8292   NaN        Q  \n",
       "1  47.0      1      0   363272   7.0000   NaN        S  \n",
       "2  62.0      0      0   240276   9.6875   NaN        Q  \n",
       "3  27.0      0      0   315154   8.6625   NaN        S  \n",
       "4  22.0      1      1  3101298  12.2875   NaN        S  "
      ]
     },
     "execution_count": 9,
     "metadata": {},
     "output_type": "execute_result"
    }
   ],
   "source": [
    "test_data.head()"
   ]
  },
  {
   "cell_type": "code",
   "execution_count": 10,
   "id": "839fcfbd",
   "metadata": {
    "execution": {
     "iopub.execute_input": "2022-06-03T11:39:42.214567Z",
     "iopub.status.busy": "2022-06-03T11:39:42.213994Z",
     "iopub.status.idle": "2022-06-03T11:39:42.219888Z",
     "shell.execute_reply": "2022-06-03T11:39:42.218966Z"
    },
    "papermill": {
     "duration": 0.025567,
     "end_time": "2022-06-03T11:39:42.221822",
     "exception": false,
     "start_time": "2022-06-03T11:39:42.196255",
     "status": "completed"
    },
    "tags": []
   },
   "outputs": [
    {
     "data": {
      "text/plain": [
       "pandas.core.frame.DataFrame"
      ]
     },
     "execution_count": 10,
     "metadata": {},
     "output_type": "execute_result"
    }
   ],
   "source": [
    "type(test_data)"
   ]
  },
  {
   "cell_type": "code",
   "execution_count": 11,
   "id": "5a705158",
   "metadata": {
    "execution": {
     "iopub.execute_input": "2022-06-03T11:39:42.256063Z",
     "iopub.status.busy": "2022-06-03T11:39:42.255510Z",
     "iopub.status.idle": "2022-06-03T11:39:42.261348Z",
     "shell.execute_reply": "2022-06-03T11:39:42.260647Z"
    },
    "papermill": {
     "duration": 0.02512,
     "end_time": "2022-06-03T11:39:42.263217",
     "exception": false,
     "start_time": "2022-06-03T11:39:42.238097",
     "status": "completed"
    },
    "tags": []
   },
   "outputs": [
    {
     "data": {
      "text/plain": [
       "418"
      ]
     },
     "execution_count": 11,
     "metadata": {},
     "output_type": "execute_result"
    }
   ],
   "source": [
    "len(test_data)"
   ]
  },
  {
   "cell_type": "code",
   "execution_count": 12,
   "id": "5e7fb4cb",
   "metadata": {
    "execution": {
     "iopub.execute_input": "2022-06-03T11:39:42.298291Z",
     "iopub.status.busy": "2022-06-03T11:39:42.297503Z",
     "iopub.status.idle": "2022-06-03T11:39:42.303826Z",
     "shell.execute_reply": "2022-06-03T11:39:42.302747Z"
    },
    "papermill": {
     "duration": 0.026049,
     "end_time": "2022-06-03T11:39:42.305747",
     "exception": false,
     "start_time": "2022-06-03T11:39:42.279698",
     "status": "completed"
    },
    "tags": []
   },
   "outputs": [
    {
     "data": {
      "text/plain": [
       "(418, 11)"
      ]
     },
     "execution_count": 12,
     "metadata": {},
     "output_type": "execute_result"
    }
   ],
   "source": [
    "test_data.shape"
   ]
  },
  {
   "cell_type": "code",
   "execution_count": 13,
   "id": "71727af9",
   "metadata": {
    "execution": {
     "iopub.execute_input": "2022-06-03T11:39:42.341831Z",
     "iopub.status.busy": "2022-06-03T11:39:42.341107Z",
     "iopub.status.idle": "2022-06-03T11:39:42.366778Z",
     "shell.execute_reply": "2022-06-03T11:39:42.365513Z"
    },
    "papermill": {
     "duration": 0.045888,
     "end_time": "2022-06-03T11:39:42.369445",
     "exception": false,
     "start_time": "2022-06-03T11:39:42.323557",
     "status": "completed"
    },
    "tags": []
   },
   "outputs": [
    {
     "name": "stdout",
     "output_type": "stream",
     "text": [
      "<class 'pandas.core.frame.DataFrame'>\n",
      "RangeIndex: 418 entries, 0 to 417\n",
      "Data columns (total 11 columns):\n",
      " #   Column       Non-Null Count  Dtype  \n",
      "---  ------       --------------  -----  \n",
      " 0   PassengerId  418 non-null    int64  \n",
      " 1   Pclass       418 non-null    int64  \n",
      " 2   Name         418 non-null    object \n",
      " 3   Sex          418 non-null    object \n",
      " 4   Age          332 non-null    float64\n",
      " 5   SibSp        418 non-null    int64  \n",
      " 6   Parch        418 non-null    int64  \n",
      " 7   Ticket       418 non-null    object \n",
      " 8   Fare         417 non-null    float64\n",
      " 9   Cabin        91 non-null     object \n",
      " 10  Embarked     418 non-null    object \n",
      "dtypes: float64(2), int64(4), object(5)\n",
      "memory usage: 36.0+ KB\n"
     ]
    }
   ],
   "source": [
    "test_data.info()"
   ]
  },
  {
   "cell_type": "code",
   "execution_count": 14,
   "id": "c6fc1a92",
   "metadata": {
    "execution": {
     "iopub.execute_input": "2022-06-03T11:39:42.404679Z",
     "iopub.status.busy": "2022-06-03T11:39:42.404102Z",
     "iopub.status.idle": "2022-06-03T11:39:42.410052Z",
     "shell.execute_reply": "2022-06-03T11:39:42.409251Z"
    },
    "papermill": {
     "duration": 0.025488,
     "end_time": "2022-06-03T11:39:42.411973",
     "exception": false,
     "start_time": "2022-06-03T11:39:42.386485",
     "status": "completed"
    },
    "tags": []
   },
   "outputs": [
    {
     "data": {
      "text/plain": [
       "4598"
      ]
     },
     "execution_count": 14,
     "metadata": {},
     "output_type": "execute_result"
    }
   ],
   "source": [
    "test_data.size"
   ]
  },
  {
   "cell_type": "code",
   "execution_count": 15,
   "id": "984ff130",
   "metadata": {
    "execution": {
     "iopub.execute_input": "2022-06-03T11:39:42.446994Z",
     "iopub.status.busy": "2022-06-03T11:39:42.446439Z",
     "iopub.status.idle": "2022-06-03T11:39:42.452542Z",
     "shell.execute_reply": "2022-06-03T11:39:42.451641Z"
    },
    "papermill": {
     "duration": 0.026063,
     "end_time": "2022-06-03T11:39:42.454570",
     "exception": false,
     "start_time": "2022-06-03T11:39:42.428507",
     "status": "completed"
    },
    "tags": []
   },
   "outputs": [
    {
     "data": {
      "text/plain": [
       "11"
      ]
     },
     "execution_count": 15,
     "metadata": {},
     "output_type": "execute_result"
    }
   ],
   "source": [
    "len(test_data.columns)"
   ]
  },
  {
   "cell_type": "code",
   "execution_count": 16,
   "id": "1d79fbc7",
   "metadata": {
    "execution": {
     "iopub.execute_input": "2022-06-03T11:39:42.489962Z",
     "iopub.status.busy": "2022-06-03T11:39:42.489588Z",
     "iopub.status.idle": "2022-06-03T11:39:42.496888Z",
     "shell.execute_reply": "2022-06-03T11:39:42.495837Z"
    },
    "papermill": {
     "duration": 0.027537,
     "end_time": "2022-06-03T11:39:42.499027",
     "exception": false,
     "start_time": "2022-06-03T11:39:42.471490",
     "status": "completed"
    },
    "tags": []
   },
   "outputs": [],
   "source": [
    "women = train_data.loc[train_data.Sex == 'female']['Survived']"
   ]
  },
  {
   "cell_type": "code",
   "execution_count": 17,
   "id": "8a06ca37",
   "metadata": {
    "execution": {
     "iopub.execute_input": "2022-06-03T11:39:42.535448Z",
     "iopub.status.busy": "2022-06-03T11:39:42.534293Z",
     "iopub.status.idle": "2022-06-03T11:39:42.541686Z",
     "shell.execute_reply": "2022-06-03T11:39:42.541029Z"
    },
    "papermill": {
     "duration": 0.027091,
     "end_time": "2022-06-03T11:39:42.543436",
     "exception": false,
     "start_time": "2022-06-03T11:39:42.516345",
     "status": "completed"
    },
    "tags": []
   },
   "outputs": [
    {
     "data": {
      "text/plain": [
       "1      1\n",
       "2      1\n",
       "3      1\n",
       "8      1\n",
       "9      1\n",
       "      ..\n",
       "880    1\n",
       "882    0\n",
       "885    0\n",
       "887    1\n",
       "888    0\n",
       "Name: Survived, Length: 314, dtype: int64"
      ]
     },
     "execution_count": 17,
     "metadata": {},
     "output_type": "execute_result"
    }
   ],
   "source": [
    "women"
   ]
  },
  {
   "cell_type": "code",
   "execution_count": 18,
   "id": "4c541397",
   "metadata": {
    "execution": {
     "iopub.execute_input": "2022-06-03T11:39:42.579676Z",
     "iopub.status.busy": "2022-06-03T11:39:42.578799Z",
     "iopub.status.idle": "2022-06-03T11:39:42.583989Z",
     "shell.execute_reply": "2022-06-03T11:39:42.583367Z"
    },
    "papermill": {
     "duration": 0.02534,
     "end_time": "2022-06-03T11:39:42.585995",
     "exception": false,
     "start_time": "2022-06-03T11:39:42.560655",
     "status": "completed"
    },
    "tags": []
   },
   "outputs": [
    {
     "data": {
      "text/plain": [
       "233"
      ]
     },
     "execution_count": 18,
     "metadata": {},
     "output_type": "execute_result"
    }
   ],
   "source": [
    "sum(women)"
   ]
  },
  {
   "cell_type": "code",
   "execution_count": 19,
   "id": "771315a2",
   "metadata": {
    "execution": {
     "iopub.execute_input": "2022-06-03T11:39:42.621937Z",
     "iopub.status.busy": "2022-06-03T11:39:42.621222Z",
     "iopub.status.idle": "2022-06-03T11:39:42.626192Z",
     "shell.execute_reply": "2022-06-03T11:39:42.625613Z"
    },
    "papermill": {
     "duration": 0.025069,
     "end_time": "2022-06-03T11:39:42.628033",
     "exception": false,
     "start_time": "2022-06-03T11:39:42.602964",
     "status": "completed"
    },
    "tags": []
   },
   "outputs": [
    {
     "data": {
      "text/plain": [
       "314"
      ]
     },
     "execution_count": 19,
     "metadata": {},
     "output_type": "execute_result"
    }
   ],
   "source": [
    "len(women)"
   ]
  },
  {
   "cell_type": "code",
   "execution_count": 20,
   "id": "79b7e743",
   "metadata": {
    "execution": {
     "iopub.execute_input": "2022-06-03T11:39:42.664795Z",
     "iopub.status.busy": "2022-06-03T11:39:42.663742Z",
     "iopub.status.idle": "2022-06-03T11:39:42.669671Z",
     "shell.execute_reply": "2022-06-03T11:39:42.669003Z"
    },
    "papermill": {
     "duration": 0.026128,
     "end_time": "2022-06-03T11:39:42.671493",
     "exception": false,
     "start_time": "2022-06-03T11:39:42.645365",
     "status": "completed"
    },
    "tags": []
   },
   "outputs": [
    {
     "data": {
      "text/plain": [
       "pandas.core.series.Series"
      ]
     },
     "execution_count": 20,
     "metadata": {},
     "output_type": "execute_result"
    }
   ],
   "source": [
    "type(women)"
   ]
  },
  {
   "cell_type": "code",
   "execution_count": 21,
   "id": "17077d37",
   "metadata": {
    "execution": {
     "iopub.execute_input": "2022-06-03T11:39:42.708211Z",
     "iopub.status.busy": "2022-06-03T11:39:42.707383Z",
     "iopub.status.idle": "2022-06-03T11:39:42.712395Z",
     "shell.execute_reply": "2022-06-03T11:39:42.711586Z"
    },
    "papermill": {
     "duration": 0.025441,
     "end_time": "2022-06-03T11:39:42.714376",
     "exception": false,
     "start_time": "2022-06-03T11:39:42.688935",
     "status": "completed"
    },
    "tags": []
   },
   "outputs": [],
   "source": [
    "num01 = pd.Series([0,1,1,2,2])"
   ]
  },
  {
   "cell_type": "code",
   "execution_count": 22,
   "id": "eb16754b",
   "metadata": {
    "execution": {
     "iopub.execute_input": "2022-06-03T11:39:42.750813Z",
     "iopub.status.busy": "2022-06-03T11:39:42.750410Z",
     "iopub.status.idle": "2022-06-03T11:39:42.756617Z",
     "shell.execute_reply": "2022-06-03T11:39:42.755917Z"
    },
    "papermill": {
     "duration": 0.026516,
     "end_time": "2022-06-03T11:39:42.758426",
     "exception": false,
     "start_time": "2022-06-03T11:39:42.731910",
     "status": "completed"
    },
    "tags": []
   },
   "outputs": [
    {
     "data": {
      "text/plain": [
       "0    0\n",
       "1    1\n",
       "2    1\n",
       "3    2\n",
       "4    2\n",
       "dtype: int64"
      ]
     },
     "execution_count": 22,
     "metadata": {},
     "output_type": "execute_result"
    }
   ],
   "source": [
    "num01"
   ]
  },
  {
   "cell_type": "code",
   "execution_count": 23,
   "id": "2e4b3a9e",
   "metadata": {
    "execution": {
     "iopub.execute_input": "2022-06-03T11:39:42.795750Z",
     "iopub.status.busy": "2022-06-03T11:39:42.794756Z",
     "iopub.status.idle": "2022-06-03T11:39:42.801005Z",
     "shell.execute_reply": "2022-06-03T11:39:42.800370Z"
    },
    "papermill": {
     "duration": 0.026824,
     "end_time": "2022-06-03T11:39:42.802850",
     "exception": false,
     "start_time": "2022-06-03T11:39:42.776026",
     "status": "completed"
    },
    "tags": []
   },
   "outputs": [
    {
     "data": {
      "text/plain": [
       "6"
      ]
     },
     "execution_count": 23,
     "metadata": {},
     "output_type": "execute_result"
    }
   ],
   "source": [
    "sum(num01)"
   ]
  },
  {
   "cell_type": "code",
   "execution_count": 24,
   "id": "643ef69c",
   "metadata": {
    "execution": {
     "iopub.execute_input": "2022-06-03T11:39:42.840415Z",
     "iopub.status.busy": "2022-06-03T11:39:42.839779Z",
     "iopub.status.idle": "2022-06-03T11:39:42.845248Z",
     "shell.execute_reply": "2022-06-03T11:39:42.844341Z"
    },
    "papermill": {
     "duration": 0.02651,
     "end_time": "2022-06-03T11:39:42.847158",
     "exception": false,
     "start_time": "2022-06-03T11:39:42.820648",
     "status": "completed"
    },
    "tags": []
   },
   "outputs": [
    {
     "data": {
      "text/plain": [
       "0.7420382165605095"
      ]
     },
     "execution_count": 24,
     "metadata": {},
     "output_type": "execute_result"
    }
   ],
   "source": [
    "rate_women = sum(women)/len(women)\n",
    "rate_women"
   ]
  },
  {
   "cell_type": "code",
   "execution_count": 25,
   "id": "9f562edc",
   "metadata": {
    "execution": {
     "iopub.execute_input": "2022-06-03T11:39:42.886449Z",
     "iopub.status.busy": "2022-06-03T11:39:42.886031Z",
     "iopub.status.idle": "2022-06-03T11:39:42.890074Z",
     "shell.execute_reply": "2022-06-03T11:39:42.889392Z"
    },
    "papermill": {
     "duration": 0.026949,
     "end_time": "2022-06-03T11:39:42.893152",
     "exception": false,
     "start_time": "2022-06-03T11:39:42.866203",
     "status": "completed"
    },
    "tags": []
   },
   "outputs": [
    {
     "name": "stdout",
     "output_type": "stream",
     "text": [
      "% of women who survived: 0.7420382165605095\n"
     ]
    }
   ],
   "source": [
    "print(\"% of women who survived:\", rate_women)"
   ]
  },
  {
   "cell_type": "code",
   "execution_count": 26,
   "id": "078bb0e7",
   "metadata": {
    "execution": {
     "iopub.execute_input": "2022-06-03T11:39:42.930725Z",
     "iopub.status.busy": "2022-06-03T11:39:42.930038Z",
     "iopub.status.idle": "2022-06-03T11:39:42.936381Z",
     "shell.execute_reply": "2022-06-03T11:39:42.935376Z"
    },
    "papermill": {
     "duration": 0.027898,
     "end_time": "2022-06-03T11:39:42.938879",
     "exception": false,
     "start_time": "2022-06-03T11:39:42.910981",
     "status": "completed"
    },
    "tags": []
   },
   "outputs": [],
   "source": [
    "men = train_data.loc[train_data.Sex=='male'][\"Survived\"]"
   ]
  },
  {
   "cell_type": "code",
   "execution_count": 27,
   "id": "564dbea9",
   "metadata": {
    "execution": {
     "iopub.execute_input": "2022-06-03T11:39:42.976262Z",
     "iopub.status.busy": "2022-06-03T11:39:42.975854Z",
     "iopub.status.idle": "2022-06-03T11:39:42.983036Z",
     "shell.execute_reply": "2022-06-03T11:39:42.982382Z"
    },
    "papermill": {
     "duration": 0.028007,
     "end_time": "2022-06-03T11:39:42.984858",
     "exception": false,
     "start_time": "2022-06-03T11:39:42.956851",
     "status": "completed"
    },
    "tags": []
   },
   "outputs": [
    {
     "data": {
      "text/plain": [
       "0      0\n",
       "4      0\n",
       "5      0\n",
       "6      0\n",
       "7      0\n",
       "      ..\n",
       "883    0\n",
       "884    0\n",
       "886    0\n",
       "889    1\n",
       "890    0\n",
       "Name: Survived, Length: 577, dtype: int64"
      ]
     },
     "execution_count": 27,
     "metadata": {},
     "output_type": "execute_result"
    }
   ],
   "source": [
    "men"
   ]
  },
  {
   "cell_type": "code",
   "execution_count": 28,
   "id": "e25c0863",
   "metadata": {
    "execution": {
     "iopub.execute_input": "2022-06-03T11:39:43.026142Z",
     "iopub.status.busy": "2022-06-03T11:39:43.025498Z",
     "iopub.status.idle": "2022-06-03T11:39:43.031987Z",
     "shell.execute_reply": "2022-06-03T11:39:43.031071Z"
    },
    "papermill": {
     "duration": 0.02949,
     "end_time": "2022-06-03T11:39:43.034247",
     "exception": false,
     "start_time": "2022-06-03T11:39:43.004757",
     "status": "completed"
    },
    "tags": []
   },
   "outputs": [
    {
     "data": {
      "text/plain": [
       "0.18890814558058924"
      ]
     },
     "execution_count": 28,
     "metadata": {},
     "output_type": "execute_result"
    }
   ],
   "source": [
    "rate_men = sum(men)/len(men)\n",
    "rate_men"
   ]
  },
  {
   "cell_type": "code",
   "execution_count": 29,
   "id": "875db881",
   "metadata": {
    "execution": {
     "iopub.execute_input": "2022-06-03T11:39:43.072615Z",
     "iopub.status.busy": "2022-06-03T11:39:43.072185Z",
     "iopub.status.idle": "2022-06-03T11:39:43.077285Z",
     "shell.execute_reply": "2022-06-03T11:39:43.076383Z"
    },
    "papermill": {
     "duration": 0.027118,
     "end_time": "2022-06-03T11:39:43.079632",
     "exception": false,
     "start_time": "2022-06-03T11:39:43.052514",
     "status": "completed"
    },
    "tags": []
   },
   "outputs": [
    {
     "name": "stdout",
     "output_type": "stream",
     "text": [
      "% of men who survived: 0.18890814558058924\n"
     ]
    }
   ],
   "source": [
    "print(\"% of men who survived:\", rate_men)"
   ]
  },
  {
   "cell_type": "code",
   "execution_count": null,
   "id": "7e6a5360",
   "metadata": {
    "papermill": {
     "duration": 0.01901,
     "end_time": "2022-06-03T11:39:43.123576",
     "exception": false,
     "start_time": "2022-06-03T11:39:43.104566",
     "status": "completed"
    },
    "tags": []
   },
   "outputs": [],
   "source": []
  },
  {
   "cell_type": "code",
   "execution_count": 30,
   "id": "12f4d79a",
   "metadata": {
    "execution": {
     "iopub.execute_input": "2022-06-03T11:39:43.161520Z",
     "iopub.status.busy": "2022-06-03T11:39:43.161119Z",
     "iopub.status.idle": "2022-06-03T11:39:44.624652Z",
     "shell.execute_reply": "2022-06-03T11:39:44.623615Z"
    },
    "papermill": {
     "duration": 1.48515,
     "end_time": "2022-06-03T11:39:44.627060",
     "exception": false,
     "start_time": "2022-06-03T11:39:43.141910",
     "status": "completed"
    },
    "tags": []
   },
   "outputs": [],
   "source": [
    "from sklearn.ensemble import RandomForestClassifier"
   ]
  },
  {
   "cell_type": "code",
   "execution_count": 31,
   "id": "bd1fbb82",
   "metadata": {
    "execution": {
     "iopub.execute_input": "2022-06-03T11:39:44.665119Z",
     "iopub.status.busy": "2022-06-03T11:39:44.664715Z",
     "iopub.status.idle": "2022-06-03T11:39:44.670502Z",
     "shell.execute_reply": "2022-06-03T11:39:44.669594Z"
    },
    "papermill": {
     "duration": 0.027513,
     "end_time": "2022-06-03T11:39:44.672772",
     "exception": false,
     "start_time": "2022-06-03T11:39:44.645259",
     "status": "completed"
    },
    "tags": []
   },
   "outputs": [
    {
     "data": {
      "text/plain": [
       "sklearn.ensemble._forest.RandomForestClassifier"
      ]
     },
     "execution_count": 31,
     "metadata": {},
     "output_type": "execute_result"
    }
   ],
   "source": [
    "RandomForestClassifier"
   ]
  },
  {
   "cell_type": "code",
   "execution_count": 32,
   "id": "b4072ab5",
   "metadata": {
    "execution": {
     "iopub.execute_input": "2022-06-03T11:39:44.710575Z",
     "iopub.status.busy": "2022-06-03T11:39:44.710167Z",
     "iopub.status.idle": "2022-06-03T11:39:44.715055Z",
     "shell.execute_reply": "2022-06-03T11:39:44.714168Z"
    },
    "papermill": {
     "duration": 0.026321,
     "end_time": "2022-06-03T11:39:44.717073",
     "exception": false,
     "start_time": "2022-06-03T11:39:44.690752",
     "status": "completed"
    },
    "tags": []
   },
   "outputs": [],
   "source": [
    "y = train_data[\"Survived\"]"
   ]
  },
  {
   "cell_type": "code",
   "execution_count": 33,
   "id": "15ef45f0",
   "metadata": {
    "execution": {
     "iopub.execute_input": "2022-06-03T11:39:44.755471Z",
     "iopub.status.busy": "2022-06-03T11:39:44.755044Z",
     "iopub.status.idle": "2022-06-03T11:39:44.762448Z",
     "shell.execute_reply": "2022-06-03T11:39:44.761409Z"
    },
    "papermill": {
     "duration": 0.02898,
     "end_time": "2022-06-03T11:39:44.764264",
     "exception": false,
     "start_time": "2022-06-03T11:39:44.735284",
     "status": "completed"
    },
    "tags": []
   },
   "outputs": [
    {
     "data": {
      "text/plain": [
       "0      0\n",
       "1      1\n",
       "2      1\n",
       "3      1\n",
       "4      0\n",
       "      ..\n",
       "886    0\n",
       "887    1\n",
       "888    0\n",
       "889    1\n",
       "890    0\n",
       "Name: Survived, Length: 891, dtype: int64"
      ]
     },
     "execution_count": 33,
     "metadata": {},
     "output_type": "execute_result"
    }
   ],
   "source": [
    "y"
   ]
  },
  {
   "cell_type": "code",
   "execution_count": 34,
   "id": "6b53d4ac",
   "metadata": {
    "execution": {
     "iopub.execute_input": "2022-06-03T11:39:44.803179Z",
     "iopub.status.busy": "2022-06-03T11:39:44.802779Z",
     "iopub.status.idle": "2022-06-03T11:39:44.807959Z",
     "shell.execute_reply": "2022-06-03T11:39:44.807252Z"
    },
    "papermill": {
     "duration": 0.026955,
     "end_time": "2022-06-03T11:39:44.809853",
     "exception": false,
     "start_time": "2022-06-03T11:39:44.782898",
     "status": "completed"
    },
    "tags": []
   },
   "outputs": [
    {
     "data": {
      "text/plain": [
       "pandas.core.series.Series"
      ]
     },
     "execution_count": 34,
     "metadata": {},
     "output_type": "execute_result"
    }
   ],
   "source": [
    "type(y)"
   ]
  },
  {
   "cell_type": "code",
   "execution_count": 35,
   "id": "db358b3a",
   "metadata": {
    "execution": {
     "iopub.execute_input": "2022-06-03T11:39:44.849549Z",
     "iopub.status.busy": "2022-06-03T11:39:44.848704Z",
     "iopub.status.idle": "2022-06-03T11:39:44.854676Z",
     "shell.execute_reply": "2022-06-03T11:39:44.853930Z"
    },
    "papermill": {
     "duration": 0.027885,
     "end_time": "2022-06-03T11:39:44.856556",
     "exception": false,
     "start_time": "2022-06-03T11:39:44.828671",
     "status": "completed"
    },
    "tags": []
   },
   "outputs": [
    {
     "data": {
      "text/plain": [
       "pandas.core.frame.DataFrame"
      ]
     },
     "execution_count": 35,
     "metadata": {},
     "output_type": "execute_result"
    }
   ],
   "source": [
    "type(train_data)"
   ]
  },
  {
   "cell_type": "code",
   "execution_count": 36,
   "id": "0b2a4d1d",
   "metadata": {
    "execution": {
     "iopub.execute_input": "2022-06-03T11:39:44.895980Z",
     "iopub.status.busy": "2022-06-03T11:39:44.895127Z",
     "iopub.status.idle": "2022-06-03T11:39:44.899308Z",
     "shell.execute_reply": "2022-06-03T11:39:44.898718Z"
    },
    "papermill": {
     "duration": 0.025592,
     "end_time": "2022-06-03T11:39:44.901054",
     "exception": false,
     "start_time": "2022-06-03T11:39:44.875462",
     "status": "completed"
    },
    "tags": []
   },
   "outputs": [],
   "source": [
    "features = [\"Pclass\", \"Sex\", \"SibSp\", \"Parch\"]"
   ]
  },
  {
   "cell_type": "code",
   "execution_count": 37,
   "id": "6417e895",
   "metadata": {
    "execution": {
     "iopub.execute_input": "2022-06-03T11:39:44.941143Z",
     "iopub.status.busy": "2022-06-03T11:39:44.940296Z",
     "iopub.status.idle": "2022-06-03T11:39:44.950531Z",
     "shell.execute_reply": "2022-06-03T11:39:44.949693Z"
    },
    "papermill": {
     "duration": 0.032808,
     "end_time": "2022-06-03T11:39:44.952514",
     "exception": false,
     "start_time": "2022-06-03T11:39:44.919706",
     "status": "completed"
    },
    "tags": []
   },
   "outputs": [],
   "source": [
    "X = pd.get_dummies(train_data[features])"
   ]
  },
  {
   "cell_type": "code",
   "execution_count": 38,
   "id": "3c775501",
   "metadata": {
    "execution": {
     "iopub.execute_input": "2022-06-03T11:39:44.991608Z",
     "iopub.status.busy": "2022-06-03T11:39:44.991170Z",
     "iopub.status.idle": "2022-06-03T11:39:45.002531Z",
     "shell.execute_reply": "2022-06-03T11:39:45.001894Z"
    },
    "papermill": {
     "duration": 0.033721,
     "end_time": "2022-06-03T11:39:45.004859",
     "exception": false,
     "start_time": "2022-06-03T11:39:44.971138",
     "status": "completed"
    },
    "tags": []
   },
   "outputs": [
    {
     "data": {
      "text/html": [
       "<div>\n",
       "<style scoped>\n",
       "    .dataframe tbody tr th:only-of-type {\n",
       "        vertical-align: middle;\n",
       "    }\n",
       "\n",
       "    .dataframe tbody tr th {\n",
       "        vertical-align: top;\n",
       "    }\n",
       "\n",
       "    .dataframe thead th {\n",
       "        text-align: right;\n",
       "    }\n",
       "</style>\n",
       "<table border=\"1\" class=\"dataframe\">\n",
       "  <thead>\n",
       "    <tr style=\"text-align: right;\">\n",
       "      <th></th>\n",
       "      <th>Pclass</th>\n",
       "      <th>SibSp</th>\n",
       "      <th>Parch</th>\n",
       "      <th>Sex_female</th>\n",
       "      <th>Sex_male</th>\n",
       "    </tr>\n",
       "  </thead>\n",
       "  <tbody>\n",
       "    <tr>\n",
       "      <th>0</th>\n",
       "      <td>3</td>\n",
       "      <td>1</td>\n",
       "      <td>0</td>\n",
       "      <td>0</td>\n",
       "      <td>1</td>\n",
       "    </tr>\n",
       "    <tr>\n",
       "      <th>1</th>\n",
       "      <td>1</td>\n",
       "      <td>1</td>\n",
       "      <td>0</td>\n",
       "      <td>1</td>\n",
       "      <td>0</td>\n",
       "    </tr>\n",
       "    <tr>\n",
       "      <th>2</th>\n",
       "      <td>3</td>\n",
       "      <td>0</td>\n",
       "      <td>0</td>\n",
       "      <td>1</td>\n",
       "      <td>0</td>\n",
       "    </tr>\n",
       "    <tr>\n",
       "      <th>3</th>\n",
       "      <td>1</td>\n",
       "      <td>1</td>\n",
       "      <td>0</td>\n",
       "      <td>1</td>\n",
       "      <td>0</td>\n",
       "    </tr>\n",
       "    <tr>\n",
       "      <th>4</th>\n",
       "      <td>3</td>\n",
       "      <td>0</td>\n",
       "      <td>0</td>\n",
       "      <td>0</td>\n",
       "      <td>1</td>\n",
       "    </tr>\n",
       "    <tr>\n",
       "      <th>...</th>\n",
       "      <td>...</td>\n",
       "      <td>...</td>\n",
       "      <td>...</td>\n",
       "      <td>...</td>\n",
       "      <td>...</td>\n",
       "    </tr>\n",
       "    <tr>\n",
       "      <th>886</th>\n",
       "      <td>2</td>\n",
       "      <td>0</td>\n",
       "      <td>0</td>\n",
       "      <td>0</td>\n",
       "      <td>1</td>\n",
       "    </tr>\n",
       "    <tr>\n",
       "      <th>887</th>\n",
       "      <td>1</td>\n",
       "      <td>0</td>\n",
       "      <td>0</td>\n",
       "      <td>1</td>\n",
       "      <td>0</td>\n",
       "    </tr>\n",
       "    <tr>\n",
       "      <th>888</th>\n",
       "      <td>3</td>\n",
       "      <td>1</td>\n",
       "      <td>2</td>\n",
       "      <td>1</td>\n",
       "      <td>0</td>\n",
       "    </tr>\n",
       "    <tr>\n",
       "      <th>889</th>\n",
       "      <td>1</td>\n",
       "      <td>0</td>\n",
       "      <td>0</td>\n",
       "      <td>0</td>\n",
       "      <td>1</td>\n",
       "    </tr>\n",
       "    <tr>\n",
       "      <th>890</th>\n",
       "      <td>3</td>\n",
       "      <td>0</td>\n",
       "      <td>0</td>\n",
       "      <td>0</td>\n",
       "      <td>1</td>\n",
       "    </tr>\n",
       "  </tbody>\n",
       "</table>\n",
       "<p>891 rows × 5 columns</p>\n",
       "</div>"
      ],
      "text/plain": [
       "     Pclass  SibSp  Parch  Sex_female  Sex_male\n",
       "0         3      1      0           0         1\n",
       "1         1      1      0           1         0\n",
       "2         3      0      0           1         0\n",
       "3         1      1      0           1         0\n",
       "4         3      0      0           0         1\n",
       "..      ...    ...    ...         ...       ...\n",
       "886       2      0      0           0         1\n",
       "887       1      0      0           1         0\n",
       "888       3      1      2           1         0\n",
       "889       1      0      0           0         1\n",
       "890       3      0      0           0         1\n",
       "\n",
       "[891 rows x 5 columns]"
      ]
     },
     "execution_count": 38,
     "metadata": {},
     "output_type": "execute_result"
    }
   ],
   "source": [
    "X"
   ]
  },
  {
   "cell_type": "code",
   "execution_count": 39,
   "id": "cfccc963",
   "metadata": {
    "execution": {
     "iopub.execute_input": "2022-06-03T11:39:45.044468Z",
     "iopub.status.busy": "2022-06-03T11:39:45.043636Z",
     "iopub.status.idle": "2022-06-03T11:39:45.059777Z",
     "shell.execute_reply": "2022-06-03T11:39:45.058944Z"
    },
    "papermill": {
     "duration": 0.038584,
     "end_time": "2022-06-03T11:39:45.062307",
     "exception": false,
     "start_time": "2022-06-03T11:39:45.023723",
     "status": "completed"
    },
    "tags": []
   },
   "outputs": [
    {
     "data": {
      "text/html": [
       "<div>\n",
       "<style scoped>\n",
       "    .dataframe tbody tr th:only-of-type {\n",
       "        vertical-align: middle;\n",
       "    }\n",
       "\n",
       "    .dataframe tbody tr th {\n",
       "        vertical-align: top;\n",
       "    }\n",
       "\n",
       "    .dataframe thead th {\n",
       "        text-align: right;\n",
       "    }\n",
       "</style>\n",
       "<table border=\"1\" class=\"dataframe\">\n",
       "  <thead>\n",
       "    <tr style=\"text-align: right;\">\n",
       "      <th></th>\n",
       "      <th>PassengerId</th>\n",
       "      <th>Survived</th>\n",
       "      <th>Pclass</th>\n",
       "      <th>Name</th>\n",
       "      <th>Sex</th>\n",
       "      <th>Age</th>\n",
       "      <th>SibSp</th>\n",
       "      <th>Parch</th>\n",
       "      <th>Ticket</th>\n",
       "      <th>Fare</th>\n",
       "      <th>Cabin</th>\n",
       "      <th>Embarked</th>\n",
       "    </tr>\n",
       "  </thead>\n",
       "  <tbody>\n",
       "    <tr>\n",
       "      <th>0</th>\n",
       "      <td>1</td>\n",
       "      <td>0</td>\n",
       "      <td>3</td>\n",
       "      <td>Braund, Mr. Owen Harris</td>\n",
       "      <td>male</td>\n",
       "      <td>22.0</td>\n",
       "      <td>1</td>\n",
       "      <td>0</td>\n",
       "      <td>A/5 21171</td>\n",
       "      <td>7.2500</td>\n",
       "      <td>NaN</td>\n",
       "      <td>S</td>\n",
       "    </tr>\n",
       "    <tr>\n",
       "      <th>1</th>\n",
       "      <td>2</td>\n",
       "      <td>1</td>\n",
       "      <td>1</td>\n",
       "      <td>Cumings, Mrs. John Bradley (Florence Briggs Th...</td>\n",
       "      <td>female</td>\n",
       "      <td>38.0</td>\n",
       "      <td>1</td>\n",
       "      <td>0</td>\n",
       "      <td>PC 17599</td>\n",
       "      <td>71.2833</td>\n",
       "      <td>C85</td>\n",
       "      <td>C</td>\n",
       "    </tr>\n",
       "    <tr>\n",
       "      <th>2</th>\n",
       "      <td>3</td>\n",
       "      <td>1</td>\n",
       "      <td>3</td>\n",
       "      <td>Heikkinen, Miss. Laina</td>\n",
       "      <td>female</td>\n",
       "      <td>26.0</td>\n",
       "      <td>0</td>\n",
       "      <td>0</td>\n",
       "      <td>STON/O2. 3101282</td>\n",
       "      <td>7.9250</td>\n",
       "      <td>NaN</td>\n",
       "      <td>S</td>\n",
       "    </tr>\n",
       "    <tr>\n",
       "      <th>3</th>\n",
       "      <td>4</td>\n",
       "      <td>1</td>\n",
       "      <td>1</td>\n",
       "      <td>Futrelle, Mrs. Jacques Heath (Lily May Peel)</td>\n",
       "      <td>female</td>\n",
       "      <td>35.0</td>\n",
       "      <td>1</td>\n",
       "      <td>0</td>\n",
       "      <td>113803</td>\n",
       "      <td>53.1000</td>\n",
       "      <td>C123</td>\n",
       "      <td>S</td>\n",
       "    </tr>\n",
       "    <tr>\n",
       "      <th>4</th>\n",
       "      <td>5</td>\n",
       "      <td>0</td>\n",
       "      <td>3</td>\n",
       "      <td>Allen, Mr. William Henry</td>\n",
       "      <td>male</td>\n",
       "      <td>35.0</td>\n",
       "      <td>0</td>\n",
       "      <td>0</td>\n",
       "      <td>373450</td>\n",
       "      <td>8.0500</td>\n",
       "      <td>NaN</td>\n",
       "      <td>S</td>\n",
       "    </tr>\n",
       "  </tbody>\n",
       "</table>\n",
       "</div>"
      ],
      "text/plain": [
       "   PassengerId  Survived  Pclass  \\\n",
       "0            1         0       3   \n",
       "1            2         1       1   \n",
       "2            3         1       3   \n",
       "3            4         1       1   \n",
       "4            5         0       3   \n",
       "\n",
       "                                                Name     Sex   Age  SibSp  \\\n",
       "0                            Braund, Mr. Owen Harris    male  22.0      1   \n",
       "1  Cumings, Mrs. John Bradley (Florence Briggs Th...  female  38.0      1   \n",
       "2                             Heikkinen, Miss. Laina  female  26.0      0   \n",
       "3       Futrelle, Mrs. Jacques Heath (Lily May Peel)  female  35.0      1   \n",
       "4                           Allen, Mr. William Henry    male  35.0      0   \n",
       "\n",
       "   Parch            Ticket     Fare Cabin Embarked  \n",
       "0      0         A/5 21171   7.2500   NaN        S  \n",
       "1      0          PC 17599  71.2833   C85        C  \n",
       "2      0  STON/O2. 3101282   7.9250   NaN        S  \n",
       "3      0            113803  53.1000  C123        S  \n",
       "4      0            373450   8.0500   NaN        S  "
      ]
     },
     "execution_count": 39,
     "metadata": {},
     "output_type": "execute_result"
    }
   ],
   "source": [
    "train_data.head()"
   ]
  },
  {
   "cell_type": "code",
   "execution_count": 40,
   "id": "6a8dd705",
   "metadata": {
    "execution": {
     "iopub.execute_input": "2022-06-03T11:39:45.102005Z",
     "iopub.status.busy": "2022-06-03T11:39:45.101647Z",
     "iopub.status.idle": "2022-06-03T11:39:45.107693Z",
     "shell.execute_reply": "2022-06-03T11:39:45.106712Z"
    },
    "papermill": {
     "duration": 0.02855,
     "end_time": "2022-06-03T11:39:45.110006",
     "exception": false,
     "start_time": "2022-06-03T11:39:45.081456",
     "status": "completed"
    },
    "tags": []
   },
   "outputs": [
    {
     "data": {
      "text/plain": [
       "function"
      ]
     },
     "execution_count": 40,
     "metadata": {},
     "output_type": "execute_result"
    }
   ],
   "source": [
    "type(pd.get_dummies)"
   ]
  },
  {
   "cell_type": "code",
   "execution_count": 41,
   "id": "d803253d",
   "metadata": {
    "execution": {
     "iopub.execute_input": "2022-06-03T11:39:45.150794Z",
     "iopub.status.busy": "2022-06-03T11:39:45.150416Z",
     "iopub.status.idle": "2022-06-03T11:39:45.159408Z",
     "shell.execute_reply": "2022-06-03T11:39:45.158406Z"
    },
    "papermill": {
     "duration": 0.031467,
     "end_time": "2022-06-03T11:39:45.161466",
     "exception": false,
     "start_time": "2022-06-03T11:39:45.129999",
     "status": "completed"
    },
    "tags": []
   },
   "outputs": [],
   "source": [
    "X_test = pd.get_dummies(test_data[features])"
   ]
  },
  {
   "cell_type": "code",
   "execution_count": 42,
   "id": "5f1d593b",
   "metadata": {
    "execution": {
     "iopub.execute_input": "2022-06-03T11:39:45.201597Z",
     "iopub.status.busy": "2022-06-03T11:39:45.201188Z",
     "iopub.status.idle": "2022-06-03T11:39:45.213516Z",
     "shell.execute_reply": "2022-06-03T11:39:45.212646Z"
    },
    "papermill": {
     "duration": 0.034592,
     "end_time": "2022-06-03T11:39:45.215442",
     "exception": false,
     "start_time": "2022-06-03T11:39:45.180850",
     "status": "completed"
    },
    "tags": []
   },
   "outputs": [
    {
     "data": {
      "text/html": [
       "<div>\n",
       "<style scoped>\n",
       "    .dataframe tbody tr th:only-of-type {\n",
       "        vertical-align: middle;\n",
       "    }\n",
       "\n",
       "    .dataframe tbody tr th {\n",
       "        vertical-align: top;\n",
       "    }\n",
       "\n",
       "    .dataframe thead th {\n",
       "        text-align: right;\n",
       "    }\n",
       "</style>\n",
       "<table border=\"1\" class=\"dataframe\">\n",
       "  <thead>\n",
       "    <tr style=\"text-align: right;\">\n",
       "      <th></th>\n",
       "      <th>Pclass</th>\n",
       "      <th>SibSp</th>\n",
       "      <th>Parch</th>\n",
       "      <th>Sex_female</th>\n",
       "      <th>Sex_male</th>\n",
       "    </tr>\n",
       "  </thead>\n",
       "  <tbody>\n",
       "    <tr>\n",
       "      <th>0</th>\n",
       "      <td>3</td>\n",
       "      <td>0</td>\n",
       "      <td>0</td>\n",
       "      <td>0</td>\n",
       "      <td>1</td>\n",
       "    </tr>\n",
       "    <tr>\n",
       "      <th>1</th>\n",
       "      <td>3</td>\n",
       "      <td>1</td>\n",
       "      <td>0</td>\n",
       "      <td>1</td>\n",
       "      <td>0</td>\n",
       "    </tr>\n",
       "    <tr>\n",
       "      <th>2</th>\n",
       "      <td>2</td>\n",
       "      <td>0</td>\n",
       "      <td>0</td>\n",
       "      <td>0</td>\n",
       "      <td>1</td>\n",
       "    </tr>\n",
       "    <tr>\n",
       "      <th>3</th>\n",
       "      <td>3</td>\n",
       "      <td>0</td>\n",
       "      <td>0</td>\n",
       "      <td>0</td>\n",
       "      <td>1</td>\n",
       "    </tr>\n",
       "    <tr>\n",
       "      <th>4</th>\n",
       "      <td>3</td>\n",
       "      <td>1</td>\n",
       "      <td>1</td>\n",
       "      <td>1</td>\n",
       "      <td>0</td>\n",
       "    </tr>\n",
       "    <tr>\n",
       "      <th>...</th>\n",
       "      <td>...</td>\n",
       "      <td>...</td>\n",
       "      <td>...</td>\n",
       "      <td>...</td>\n",
       "      <td>...</td>\n",
       "    </tr>\n",
       "    <tr>\n",
       "      <th>413</th>\n",
       "      <td>3</td>\n",
       "      <td>0</td>\n",
       "      <td>0</td>\n",
       "      <td>0</td>\n",
       "      <td>1</td>\n",
       "    </tr>\n",
       "    <tr>\n",
       "      <th>414</th>\n",
       "      <td>1</td>\n",
       "      <td>0</td>\n",
       "      <td>0</td>\n",
       "      <td>1</td>\n",
       "      <td>0</td>\n",
       "    </tr>\n",
       "    <tr>\n",
       "      <th>415</th>\n",
       "      <td>3</td>\n",
       "      <td>0</td>\n",
       "      <td>0</td>\n",
       "      <td>0</td>\n",
       "      <td>1</td>\n",
       "    </tr>\n",
       "    <tr>\n",
       "      <th>416</th>\n",
       "      <td>3</td>\n",
       "      <td>0</td>\n",
       "      <td>0</td>\n",
       "      <td>0</td>\n",
       "      <td>1</td>\n",
       "    </tr>\n",
       "    <tr>\n",
       "      <th>417</th>\n",
       "      <td>3</td>\n",
       "      <td>1</td>\n",
       "      <td>1</td>\n",
       "      <td>0</td>\n",
       "      <td>1</td>\n",
       "    </tr>\n",
       "  </tbody>\n",
       "</table>\n",
       "<p>418 rows × 5 columns</p>\n",
       "</div>"
      ],
      "text/plain": [
       "     Pclass  SibSp  Parch  Sex_female  Sex_male\n",
       "0         3      0      0           0         1\n",
       "1         3      1      0           1         0\n",
       "2         2      0      0           0         1\n",
       "3         3      0      0           0         1\n",
       "4         3      1      1           1         0\n",
       "..      ...    ...    ...         ...       ...\n",
       "413       3      0      0           0         1\n",
       "414       1      0      0           1         0\n",
       "415       3      0      0           0         1\n",
       "416       3      0      0           0         1\n",
       "417       3      1      1           0         1\n",
       "\n",
       "[418 rows x 5 columns]"
      ]
     },
     "execution_count": 42,
     "metadata": {},
     "output_type": "execute_result"
    }
   ],
   "source": [
    "X_test"
   ]
  },
  {
   "cell_type": "code",
   "execution_count": 43,
   "id": "ab81ec54",
   "metadata": {
    "execution": {
     "iopub.execute_input": "2022-06-03T11:39:45.256182Z",
     "iopub.status.busy": "2022-06-03T11:39:45.255773Z",
     "iopub.status.idle": "2022-06-03T11:39:45.261024Z",
     "shell.execute_reply": "2022-06-03T11:39:45.260046Z"
    },
    "papermill": {
     "duration": 0.027809,
     "end_time": "2022-06-03T11:39:45.262967",
     "exception": false,
     "start_time": "2022-06-03T11:39:45.235158",
     "status": "completed"
    },
    "tags": []
   },
   "outputs": [],
   "source": [
    "model = RandomForestClassifier(n_estimators=100, max_depth=5, random_state=1)"
   ]
  },
  {
   "cell_type": "code",
   "execution_count": 44,
   "id": "8980f29a",
   "metadata": {
    "execution": {
     "iopub.execute_input": "2022-06-03T11:39:45.304100Z",
     "iopub.status.busy": "2022-06-03T11:39:45.303748Z",
     "iopub.status.idle": "2022-06-03T11:39:45.505492Z",
     "shell.execute_reply": "2022-06-03T11:39:45.504567Z"
    },
    "papermill": {
     "duration": 0.22475,
     "end_time": "2022-06-03T11:39:45.507485",
     "exception": false,
     "start_time": "2022-06-03T11:39:45.282735",
     "status": "completed"
    },
    "tags": []
   },
   "outputs": [
    {
     "data": {
      "text/plain": [
       "RandomForestClassifier(max_depth=5, random_state=1)"
      ]
     },
     "execution_count": 44,
     "metadata": {},
     "output_type": "execute_result"
    }
   ],
   "source": [
    "model.fit(X, y)"
   ]
  },
  {
   "cell_type": "code",
   "execution_count": 45,
   "id": "ce4bb63b",
   "metadata": {
    "execution": {
     "iopub.execute_input": "2022-06-03T11:39:45.548611Z",
     "iopub.status.busy": "2022-06-03T11:39:45.548200Z",
     "iopub.status.idle": "2022-06-03T11:39:45.570355Z",
     "shell.execute_reply": "2022-06-03T11:39:45.569374Z"
    },
    "papermill": {
     "duration": 0.045502,
     "end_time": "2022-06-03T11:39:45.572671",
     "exception": false,
     "start_time": "2022-06-03T11:39:45.527169",
     "status": "completed"
    },
    "tags": []
   },
   "outputs": [],
   "source": [
    "predictions = model.predict(X_test)"
   ]
  },
  {
   "cell_type": "code",
   "execution_count": 46,
   "id": "5865095d",
   "metadata": {
    "execution": {
     "iopub.execute_input": "2022-06-03T11:39:45.614360Z",
     "iopub.status.busy": "2022-06-03T11:39:45.613770Z",
     "iopub.status.idle": "2022-06-03T11:39:45.620058Z",
     "shell.execute_reply": "2022-06-03T11:39:45.619260Z"
    },
    "papermill": {
     "duration": 0.029307,
     "end_time": "2022-06-03T11:39:45.621909",
     "exception": false,
     "start_time": "2022-06-03T11:39:45.592602",
     "status": "completed"
    },
    "tags": []
   },
   "outputs": [
    {
     "data": {
      "text/plain": [
       "array([0, 1, 0, 0, 1, 0, 1, 0, 1, 0, 0, 0, 1, 0, 1, 1, 0, 0, 1, 1, 0, 0,\n",
       "       1, 0, 1, 0, 1, 0, 0, 0, 0, 0, 0, 0, 0, 0, 1, 1, 0, 0, 0, 0, 0, 1,\n",
       "       1, 0, 0, 0, 1, 1, 0, 0, 1, 1, 0, 0, 0, 0, 0, 1, 0, 0, 0, 1, 1, 1,\n",
       "       1, 0, 0, 1, 1, 0, 1, 0, 1, 0, 0, 1, 0, 1, 0, 0, 0, 0, 0, 0, 1, 1,\n",
       "       1, 0, 1, 0, 1, 0, 0, 0, 1, 0, 1, 0, 1, 0, 0, 0, 1, 0, 0, 0, 0, 0,\n",
       "       0, 1, 1, 1, 1, 0, 0, 1, 0, 1, 1, 0, 1, 0, 0, 1, 0, 1, 0, 0, 0, 0,\n",
       "       0, 0, 0, 0, 0, 0, 1, 0, 0, 1, 1, 0, 0, 0, 0, 0, 0, 0, 1, 0, 0, 1,\n",
       "       0, 0, 1, 1, 0, 1, 1, 0, 1, 0, 0, 1, 0, 0, 1, 1, 0, 0, 0, 0, 0, 1,\n",
       "       1, 0, 1, 1, 0, 0, 1, 0, 1, 0, 1, 0, 0, 0, 0, 0, 0, 0, 1, 0, 0, 1,\n",
       "       0, 1, 1, 0, 0, 1, 0, 0, 1, 0, 1, 0, 0, 0, 0, 1, 0, 0, 1, 0, 1, 0,\n",
       "       1, 0, 1, 0, 1, 1, 0, 1, 0, 0, 0, 1, 0, 0, 0, 0, 0, 0, 1, 1, 1, 1,\n",
       "       0, 0, 0, 0, 1, 0, 1, 1, 1, 0, 0, 0, 0, 0, 0, 0, 1, 0, 0, 0, 1, 1,\n",
       "       0, 0, 0, 0, 1, 0, 0, 0, 1, 1, 0, 1, 0, 0, 0, 0, 1, 0, 1, 1, 1, 0,\n",
       "       0, 0, 0, 0, 0, 1, 0, 0, 0, 0, 1, 0, 0, 0, 0, 0, 0, 0, 1, 1, 1, 0,\n",
       "       0, 1, 0, 0, 0, 1, 1, 1, 0, 0, 0, 0, 0, 0, 0, 0, 1, 0, 1, 0, 0, 0,\n",
       "       1, 0, 0, 1, 0, 0, 0, 0, 0, 0, 0, 0, 0, 1, 0, 1, 0, 1, 0, 1, 1, 0,\n",
       "       0, 0, 0, 0, 1, 0, 0, 1, 0, 1, 1, 0, 1, 0, 0, 1, 1, 0, 0, 1, 0, 0,\n",
       "       1, 1, 1, 0, 0, 0, 0, 0, 1, 1, 0, 1, 0, 0, 0, 0, 0, 1, 0, 0, 0, 1,\n",
       "       0, 1, 0, 0, 1, 0, 1, 0, 0, 0, 0, 0, 1, 1, 1, 1, 1, 0, 1, 0, 0, 0])"
      ]
     },
     "execution_count": 46,
     "metadata": {},
     "output_type": "execute_result"
    }
   ],
   "source": [
    "predictions"
   ]
  },
  {
   "cell_type": "code",
   "execution_count": 47,
   "id": "1a4c1b61",
   "metadata": {
    "execution": {
     "iopub.execute_input": "2022-06-03T11:39:45.664015Z",
     "iopub.status.busy": "2022-06-03T11:39:45.663407Z",
     "iopub.status.idle": "2022-06-03T11:39:45.668246Z",
     "shell.execute_reply": "2022-06-03T11:39:45.667635Z"
    },
    "papermill": {
     "duration": 0.028182,
     "end_time": "2022-06-03T11:39:45.670093",
     "exception": false,
     "start_time": "2022-06-03T11:39:45.641911",
     "status": "completed"
    },
    "tags": []
   },
   "outputs": [
    {
     "data": {
      "text/plain": [
       "numpy.ndarray"
      ]
     },
     "execution_count": 47,
     "metadata": {},
     "output_type": "execute_result"
    }
   ],
   "source": [
    "type(predictions)"
   ]
  },
  {
   "cell_type": "code",
   "execution_count": 48,
   "id": "4e35b1ad",
   "metadata": {
    "execution": {
     "iopub.execute_input": "2022-06-03T11:39:45.712094Z",
     "iopub.status.busy": "2022-06-03T11:39:45.711470Z",
     "iopub.status.idle": "2022-06-03T11:39:45.715896Z",
     "shell.execute_reply": "2022-06-03T11:39:45.715345Z"
    },
    "papermill": {
     "duration": 0.027761,
     "end_time": "2022-06-03T11:39:45.717883",
     "exception": false,
     "start_time": "2022-06-03T11:39:45.690122",
     "status": "completed"
    },
    "tags": []
   },
   "outputs": [],
   "source": [
    "output = pd.DataFrame({'PassengerId': test_data.PassengerId, 'Survived': predictions})"
   ]
  },
  {
   "cell_type": "code",
   "execution_count": 49,
   "id": "a60f7747",
   "metadata": {
    "execution": {
     "iopub.execute_input": "2022-06-03T11:39:45.760730Z",
     "iopub.status.busy": "2022-06-03T11:39:45.760121Z",
     "iopub.status.idle": "2022-06-03T11:39:45.767755Z",
     "shell.execute_reply": "2022-06-03T11:39:45.766806Z"
    },
    "papermill": {
     "duration": 0.031542,
     "end_time": "2022-06-03T11:39:45.769958",
     "exception": false,
     "start_time": "2022-06-03T11:39:45.738416",
     "status": "completed"
    },
    "tags": []
   },
   "outputs": [],
   "source": [
    "output.to_csv('submission.csv', index=False)"
   ]
  },
  {
   "cell_type": "code",
   "execution_count": 50,
   "id": "7fa2594c",
   "metadata": {
    "execution": {
     "iopub.execute_input": "2022-06-03T11:39:45.811301Z",
     "iopub.status.busy": "2022-06-03T11:39:45.810738Z",
     "iopub.status.idle": "2022-06-03T11:39:45.815484Z",
     "shell.execute_reply": "2022-06-03T11:39:45.814350Z"
    },
    "papermill": {
     "duration": 0.027561,
     "end_time": "2022-06-03T11:39:45.817434",
     "exception": false,
     "start_time": "2022-06-03T11:39:45.789873",
     "status": "completed"
    },
    "tags": []
   },
   "outputs": [
    {
     "name": "stdout",
     "output_type": "stream",
     "text": [
      "You submission was successfully saved!\n"
     ]
    }
   ],
   "source": [
    "print(\"You submission was successfully saved!\")"
   ]
  },
  {
   "cell_type": "code",
   "execution_count": null,
   "id": "d7355305",
   "metadata": {
    "papermill": {
     "duration": 0.019486,
     "end_time": "2022-06-03T11:39:45.857071",
     "exception": false,
     "start_time": "2022-06-03T11:39:45.837585",
     "status": "completed"
    },
    "tags": []
   },
   "outputs": [],
   "source": []
  },
  {
   "cell_type": "code",
   "execution_count": null,
   "id": "bbd75dde",
   "metadata": {
    "papermill": {
     "duration": 0.019524,
     "end_time": "2022-06-03T11:39:45.896508",
     "exception": false,
     "start_time": "2022-06-03T11:39:45.876984",
     "status": "completed"
    },
    "tags": []
   },
   "outputs": [],
   "source": []
  },
  {
   "cell_type": "code",
   "execution_count": null,
   "id": "13539feb",
   "metadata": {
    "papermill": {
     "duration": 0.019408,
     "end_time": "2022-06-03T11:39:45.935706",
     "exception": false,
     "start_time": "2022-06-03T11:39:45.916298",
     "status": "completed"
    },
    "tags": []
   },
   "outputs": [],
   "source": []
  },
  {
   "cell_type": "code",
   "execution_count": null,
   "id": "db5fdaef",
   "metadata": {
    "papermill": {
     "duration": 0.019584,
     "end_time": "2022-06-03T11:39:45.975437",
     "exception": false,
     "start_time": "2022-06-03T11:39:45.955853",
     "status": "completed"
    },
    "tags": []
   },
   "outputs": [],
   "source": []
  },
  {
   "cell_type": "code",
   "execution_count": null,
   "id": "6427a5c1",
   "metadata": {
    "papermill": {
     "duration": 0.02016,
     "end_time": "2022-06-03T11:39:46.015310",
     "exception": false,
     "start_time": "2022-06-03T11:39:45.995150",
     "status": "completed"
    },
    "tags": []
   },
   "outputs": [],
   "source": []
  },
  {
   "cell_type": "code",
   "execution_count": null,
   "id": "1d4e199b",
   "metadata": {
    "papermill": {
     "duration": 0.019408,
     "end_time": "2022-06-03T11:39:46.054545",
     "exception": false,
     "start_time": "2022-06-03T11:39:46.035137",
     "status": "completed"
    },
    "tags": []
   },
   "outputs": [],
   "source": []
  },
  {
   "cell_type": "code",
   "execution_count": null,
   "id": "848865a9",
   "metadata": {
    "papermill": {
     "duration": 0.019465,
     "end_time": "2022-06-03T11:39:46.093710",
     "exception": false,
     "start_time": "2022-06-03T11:39:46.074245",
     "status": "completed"
    },
    "tags": []
   },
   "outputs": [],
   "source": []
  },
  {
   "cell_type": "code",
   "execution_count": null,
   "id": "9032829c",
   "metadata": {
    "papermill": {
     "duration": 0.019462,
     "end_time": "2022-06-03T11:39:46.132899",
     "exception": false,
     "start_time": "2022-06-03T11:39:46.113437",
     "status": "completed"
    },
    "tags": []
   },
   "outputs": [],
   "source": []
  },
  {
   "cell_type": "code",
   "execution_count": null,
   "id": "3243f3f3",
   "metadata": {
    "papermill": {
     "duration": 0.020038,
     "end_time": "2022-06-03T11:39:46.172798",
     "exception": false,
     "start_time": "2022-06-03T11:39:46.152760",
     "status": "completed"
    },
    "tags": []
   },
   "outputs": [],
   "source": []
  },
  {
   "cell_type": "code",
   "execution_count": null,
   "id": "15b1ff52",
   "metadata": {
    "papermill": {
     "duration": 0.019397,
     "end_time": "2022-06-03T11:39:46.212004",
     "exception": false,
     "start_time": "2022-06-03T11:39:46.192607",
     "status": "completed"
    },
    "tags": []
   },
   "outputs": [],
   "source": []
  },
  {
   "cell_type": "code",
   "execution_count": null,
   "id": "99175377",
   "metadata": {
    "papermill": {
     "duration": 0.019597,
     "end_time": "2022-06-03T11:39:46.251409",
     "exception": false,
     "start_time": "2022-06-03T11:39:46.231812",
     "status": "completed"
    },
    "tags": []
   },
   "outputs": [],
   "source": []
  },
  {
   "cell_type": "code",
   "execution_count": null,
   "id": "91d9525c",
   "metadata": {
    "papermill": {
     "duration": 0.019579,
     "end_time": "2022-06-03T11:39:46.290824",
     "exception": false,
     "start_time": "2022-06-03T11:39:46.271245",
     "status": "completed"
    },
    "tags": []
   },
   "outputs": [],
   "source": []
  }
 ],
 "metadata": {
  "kernelspec": {
   "display_name": "Python 3",
   "language": "python",
   "name": "python3"
  },
  "language_info": {
   "codemirror_mode": {
    "name": "ipython",
    "version": 3
   },
   "file_extension": ".py",
   "mimetype": "text/x-python",
   "name": "python",
   "nbconvert_exporter": "python",
   "pygments_lexer": "ipython3",
   "version": "3.7.12"
  },
  "papermill": {
   "default_parameters": {},
   "duration": 15.333477,
   "end_time": "2022-06-03T11:39:47.032332",
   "environment_variables": {},
   "exception": null,
   "input_path": "__notebook__.ipynb",
   "output_path": "__notebook__.ipynb",
   "parameters": {},
   "start_time": "2022-06-03T11:39:31.698855",
   "version": "2.3.4"
  }
 },
 "nbformat": 4,
 "nbformat_minor": 5
}
