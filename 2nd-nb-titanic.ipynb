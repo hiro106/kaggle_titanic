{
 "cells": [
  {
   "cell_type": "code",
   "execution_count": 1,
   "id": "f86c269d",
   "metadata": {
    "_cell_guid": "b1076dfc-b9ad-4769-8c92-a6c4dae69d19",
    "_uuid": "8f2839f25d086af736a60e9eeb907d3b93b6e0e5",
    "execution": {
     "iopub.execute_input": "2022-06-03T11:37:22.519374Z",
     "iopub.status.busy": "2022-06-03T11:37:22.518621Z",
     "iopub.status.idle": "2022-06-03T11:37:22.532207Z",
     "shell.execute_reply": "2022-06-03T11:37:22.531313Z"
    },
    "papermill": {
     "duration": 0.030034,
     "end_time": "2022-06-03T11:37:22.534579",
     "exception": false,
     "start_time": "2022-06-03T11:37:22.504545",
     "status": "completed"
    },
    "tags": []
   },
   "outputs": [
    {
     "name": "stdout",
     "output_type": "stream",
     "text": [
      "/kaggle/input/titanic/train.csv\n",
      "/kaggle/input/titanic/test.csv\n",
      "/kaggle/input/titanic/gender_submission.csv\n"
     ]
    }
   ],
   "source": [
    "# This Python 3 environment comes with many helpful analytics libraries installed\n",
    "# It is defined by the kaggle/python Docker image: https://github.com/kaggle/docker-python\n",
    "# For example, here's several helpful packages to load\n",
    "\n",
    "import numpy as np # linear algebra\n",
    "import pandas as pd # data processing, CSV file I/O (e.g. pd.read_csv)\n",
    "\n",
    "# Input data files are available in the read-only \"../input/\" directory\n",
    "# For example, running this (by clicking run or pressing Shift+Enter) will list all files under the input directory\n",
    "\n",
    "import os\n",
    "for dirname, _, filenames in os.walk('/kaggle/input'):\n",
    "    for filename in filenames:\n",
    "        print(os.path.join(dirname, filename))\n",
    "\n",
    "# You can write up to 20GB to the current directory (/kaggle/working/) that gets preserved as output when you create a version using \"Save & Run All\" \n",
    "# You can also write temporary files to /kaggle/temp/, but they won't be saved outside of the current session"
   ]
  },
  {
   "cell_type": "code",
   "execution_count": 2,
   "id": "9f2209ae",
   "metadata": {
    "execution": {
     "iopub.execute_input": "2022-06-03T11:37:22.558004Z",
     "iopub.status.busy": "2022-06-03T11:37:22.557445Z",
     "iopub.status.idle": "2022-06-03T11:37:22.564937Z",
     "shell.execute_reply": "2022-06-03T11:37:22.564013Z"
    },
    "papermill": {
     "duration": 0.021076,
     "end_time": "2022-06-03T11:37:22.566681",
     "exception": false,
     "start_time": "2022-06-03T11:37:22.545605",
     "status": "completed"
    },
    "tags": []
   },
   "outputs": [
    {
     "data": {
      "text/plain": [
       "<generator object walk at 0x7f1885525350>"
      ]
     },
     "execution_count": 2,
     "metadata": {},
     "output_type": "execute_result"
    }
   ],
   "source": [
    "os.walk('/kaggle/input')"
   ]
  },
  {
   "cell_type": "code",
   "execution_count": 3,
   "id": "781821c4",
   "metadata": {
    "execution": {
     "iopub.execute_input": "2022-06-03T11:37:22.590239Z",
     "iopub.status.busy": "2022-06-03T11:37:22.589709Z",
     "iopub.status.idle": "2022-06-03T11:37:22.596284Z",
     "shell.execute_reply": "2022-06-03T11:37:22.595600Z"
    },
    "papermill": {
     "duration": 0.020193,
     "end_time": "2022-06-03T11:37:22.597985",
     "exception": false,
     "start_time": "2022-06-03T11:37:22.577792",
     "status": "completed"
    },
    "tags": []
   },
   "outputs": [
    {
     "data": {
      "text/plain": [
       "[('/kaggle/input', ['titanic'], []),\n",
       " ('/kaggle/input/titanic',\n",
       "  [],\n",
       "  ['train.csv', 'test.csv', 'gender_submission.csv'])]"
      ]
     },
     "execution_count": 3,
     "metadata": {},
     "output_type": "execute_result"
    }
   ],
   "source": [
    "list(os.walk('/kaggle/input'))"
   ]
  },
  {
   "cell_type": "code",
   "execution_count": 4,
   "id": "a806c8b3",
   "metadata": {
    "execution": {
     "iopub.execute_input": "2022-06-03T11:37:22.621745Z",
     "iopub.status.busy": "2022-06-03T11:37:22.621130Z",
     "iopub.status.idle": "2022-06-03T11:37:22.628556Z",
     "shell.execute_reply": "2022-06-03T11:37:22.627500Z"
    },
    "papermill": {
     "duration": 0.021376,
     "end_time": "2022-06-03T11:37:22.630526",
     "exception": false,
     "start_time": "2022-06-03T11:37:22.609150",
     "status": "completed"
    },
    "tags": []
   },
   "outputs": [
    {
     "data": {
      "text/plain": [
       "[('/kaggle', ['src', 'lib', 'input', 'working'], []),\n",
       " ('/kaggle/src', [], ['script.ipynb']),\n",
       " ('/kaggle/lib', ['kaggle'], []),\n",
       " ('/kaggle/lib/kaggle', [], ['gcp.py']),\n",
       " ('/kaggle/input', ['titanic'], []),\n",
       " ('/kaggle/input/titanic',\n",
       "  [],\n",
       "  ['train.csv', 'test.csv', 'gender_submission.csv']),\n",
       " ('/kaggle/working', [], ['__notebook__.ipynb'])]"
      ]
     },
     "execution_count": 4,
     "metadata": {},
     "output_type": "execute_result"
    }
   ],
   "source": [
    "list(os.walk('/kaggle'))"
   ]
  },
  {
   "cell_type": "code",
   "execution_count": 5,
   "id": "7b009c69",
   "metadata": {
    "execution": {
     "iopub.execute_input": "2022-06-03T11:37:22.655057Z",
     "iopub.status.busy": "2022-06-03T11:37:22.654443Z",
     "iopub.status.idle": "2022-06-03T11:37:22.658049Z",
     "shell.execute_reply": "2022-06-03T11:37:22.657436Z"
    },
    "papermill": {
     "duration": 0.017475,
     "end_time": "2022-06-03T11:37:22.659689",
     "exception": false,
     "start_time": "2022-06-03T11:37:22.642214",
     "status": "completed"
    },
    "tags": []
   },
   "outputs": [],
   "source": [
    "# len(list(os.walk('/')))"
   ]
  },
  {
   "cell_type": "code",
   "execution_count": 6,
   "id": "937463d8",
   "metadata": {
    "execution": {
     "iopub.execute_input": "2022-06-03T11:37:22.683407Z",
     "iopub.status.busy": "2022-06-03T11:37:22.682698Z",
     "iopub.status.idle": "2022-06-03T11:37:22.700628Z",
     "shell.execute_reply": "2022-06-03T11:37:22.699926Z"
    },
    "papermill": {
     "duration": 0.032172,
     "end_time": "2022-06-03T11:37:22.702759",
     "exception": false,
     "start_time": "2022-06-03T11:37:22.670587",
     "status": "completed"
    },
    "tags": []
   },
   "outputs": [],
   "source": [
    "train_data = pd.read_csv(\"/kaggle/input/titanic/train.csv\")"
   ]
  },
  {
   "cell_type": "code",
   "execution_count": 7,
   "id": "33ceda77",
   "metadata": {
    "execution": {
     "iopub.execute_input": "2022-06-03T11:37:22.726663Z",
     "iopub.status.busy": "2022-06-03T11:37:22.725992Z",
     "iopub.status.idle": "2022-06-03T11:37:22.746744Z",
     "shell.execute_reply": "2022-06-03T11:37:22.745864Z"
    },
    "papermill": {
     "duration": 0.035051,
     "end_time": "2022-06-03T11:37:22.748685",
     "exception": false,
     "start_time": "2022-06-03T11:37:22.713634",
     "status": "completed"
    },
    "tags": []
   },
   "outputs": [
    {
     "data": {
      "text/html": [
       "<div>\n",
       "<style scoped>\n",
       "    .dataframe tbody tr th:only-of-type {\n",
       "        vertical-align: middle;\n",
       "    }\n",
       "\n",
       "    .dataframe tbody tr th {\n",
       "        vertical-align: top;\n",
       "    }\n",
       "\n",
       "    .dataframe thead th {\n",
       "        text-align: right;\n",
       "    }\n",
       "</style>\n",
       "<table border=\"1\" class=\"dataframe\">\n",
       "  <thead>\n",
       "    <tr style=\"text-align: right;\">\n",
       "      <th></th>\n",
       "      <th>PassengerId</th>\n",
       "      <th>Survived</th>\n",
       "      <th>Pclass</th>\n",
       "      <th>Name</th>\n",
       "      <th>Sex</th>\n",
       "      <th>Age</th>\n",
       "      <th>SibSp</th>\n",
       "      <th>Parch</th>\n",
       "      <th>Ticket</th>\n",
       "      <th>Fare</th>\n",
       "      <th>Cabin</th>\n",
       "      <th>Embarked</th>\n",
       "    </tr>\n",
       "  </thead>\n",
       "  <tbody>\n",
       "    <tr>\n",
       "      <th>0</th>\n",
       "      <td>1</td>\n",
       "      <td>0</td>\n",
       "      <td>3</td>\n",
       "      <td>Braund, Mr. Owen Harris</td>\n",
       "      <td>male</td>\n",
       "      <td>22.0</td>\n",
       "      <td>1</td>\n",
       "      <td>0</td>\n",
       "      <td>A/5 21171</td>\n",
       "      <td>7.2500</td>\n",
       "      <td>NaN</td>\n",
       "      <td>S</td>\n",
       "    </tr>\n",
       "    <tr>\n",
       "      <th>1</th>\n",
       "      <td>2</td>\n",
       "      <td>1</td>\n",
       "      <td>1</td>\n",
       "      <td>Cumings, Mrs. John Bradley (Florence Briggs Th...</td>\n",
       "      <td>female</td>\n",
       "      <td>38.0</td>\n",
       "      <td>1</td>\n",
       "      <td>0</td>\n",
       "      <td>PC 17599</td>\n",
       "      <td>71.2833</td>\n",
       "      <td>C85</td>\n",
       "      <td>C</td>\n",
       "    </tr>\n",
       "    <tr>\n",
       "      <th>2</th>\n",
       "      <td>3</td>\n",
       "      <td>1</td>\n",
       "      <td>3</td>\n",
       "      <td>Heikkinen, Miss. Laina</td>\n",
       "      <td>female</td>\n",
       "      <td>26.0</td>\n",
       "      <td>0</td>\n",
       "      <td>0</td>\n",
       "      <td>STON/O2. 3101282</td>\n",
       "      <td>7.9250</td>\n",
       "      <td>NaN</td>\n",
       "      <td>S</td>\n",
       "    </tr>\n",
       "    <tr>\n",
       "      <th>3</th>\n",
       "      <td>4</td>\n",
       "      <td>1</td>\n",
       "      <td>1</td>\n",
       "      <td>Futrelle, Mrs. Jacques Heath (Lily May Peel)</td>\n",
       "      <td>female</td>\n",
       "      <td>35.0</td>\n",
       "      <td>1</td>\n",
       "      <td>0</td>\n",
       "      <td>113803</td>\n",
       "      <td>53.1000</td>\n",
       "      <td>C123</td>\n",
       "      <td>S</td>\n",
       "    </tr>\n",
       "    <tr>\n",
       "      <th>4</th>\n",
       "      <td>5</td>\n",
       "      <td>0</td>\n",
       "      <td>3</td>\n",
       "      <td>Allen, Mr. William Henry</td>\n",
       "      <td>male</td>\n",
       "      <td>35.0</td>\n",
       "      <td>0</td>\n",
       "      <td>0</td>\n",
       "      <td>373450</td>\n",
       "      <td>8.0500</td>\n",
       "      <td>NaN</td>\n",
       "      <td>S</td>\n",
       "    </tr>\n",
       "  </tbody>\n",
       "</table>\n",
       "</div>"
      ],
      "text/plain": [
       "   PassengerId  Survived  Pclass  \\\n",
       "0            1         0       3   \n",
       "1            2         1       1   \n",
       "2            3         1       3   \n",
       "3            4         1       1   \n",
       "4            5         0       3   \n",
       "\n",
       "                                                Name     Sex   Age  SibSp  \\\n",
       "0                            Braund, Mr. Owen Harris    male  22.0      1   \n",
       "1  Cumings, Mrs. John Bradley (Florence Briggs Th...  female  38.0      1   \n",
       "2                             Heikkinen, Miss. Laina  female  26.0      0   \n",
       "3       Futrelle, Mrs. Jacques Heath (Lily May Peel)  female  35.0      1   \n",
       "4                           Allen, Mr. William Henry    male  35.0      0   \n",
       "\n",
       "   Parch            Ticket     Fare Cabin Embarked  \n",
       "0      0         A/5 21171   7.2500   NaN        S  \n",
       "1      0          PC 17599  71.2833   C85        C  \n",
       "2      0  STON/O2. 3101282   7.9250   NaN        S  \n",
       "3      0            113803  53.1000  C123        S  \n",
       "4      0            373450   8.0500   NaN        S  "
      ]
     },
     "execution_count": 7,
     "metadata": {},
     "output_type": "execute_result"
    }
   ],
   "source": [
    "train_data.head()"
   ]
  },
  {
   "cell_type": "code",
   "execution_count": 8,
   "id": "67fd5c4a",
   "metadata": {
    "execution": {
     "iopub.execute_input": "2022-06-03T11:37:22.772889Z",
     "iopub.status.busy": "2022-06-03T11:37:22.772499Z",
     "iopub.status.idle": "2022-06-03T11:37:22.784495Z",
     "shell.execute_reply": "2022-06-03T11:37:22.783687Z"
    },
    "papermill": {
     "duration": 0.02636,
     "end_time": "2022-06-03T11:37:22.786606",
     "exception": false,
     "start_time": "2022-06-03T11:37:22.760246",
     "status": "completed"
    },
    "tags": []
   },
   "outputs": [],
   "source": [
    "test_data = pd.read_csv(\"/kaggle/input/titanic/test.csv\")"
   ]
  },
  {
   "cell_type": "code",
   "execution_count": 9,
   "id": "04f5ed1c",
   "metadata": {
    "execution": {
     "iopub.execute_input": "2022-06-03T11:37:22.810731Z",
     "iopub.status.busy": "2022-06-03T11:37:22.810362Z",
     "iopub.status.idle": "2022-06-03T11:37:22.824783Z",
     "shell.execute_reply": "2022-06-03T11:37:22.823732Z"
    },
    "papermill": {
     "duration": 0.028466,
     "end_time": "2022-06-03T11:37:22.826747",
     "exception": false,
     "start_time": "2022-06-03T11:37:22.798281",
     "status": "completed"
    },
    "tags": []
   },
   "outputs": [
    {
     "data": {
      "text/html": [
       "<div>\n",
       "<style scoped>\n",
       "    .dataframe tbody tr th:only-of-type {\n",
       "        vertical-align: middle;\n",
       "    }\n",
       "\n",
       "    .dataframe tbody tr th {\n",
       "        vertical-align: top;\n",
       "    }\n",
       "\n",
       "    .dataframe thead th {\n",
       "        text-align: right;\n",
       "    }\n",
       "</style>\n",
       "<table border=\"1\" class=\"dataframe\">\n",
       "  <thead>\n",
       "    <tr style=\"text-align: right;\">\n",
       "      <th></th>\n",
       "      <th>PassengerId</th>\n",
       "      <th>Pclass</th>\n",
       "      <th>Name</th>\n",
       "      <th>Sex</th>\n",
       "      <th>Age</th>\n",
       "      <th>SibSp</th>\n",
       "      <th>Parch</th>\n",
       "      <th>Ticket</th>\n",
       "      <th>Fare</th>\n",
       "      <th>Cabin</th>\n",
       "      <th>Embarked</th>\n",
       "    </tr>\n",
       "  </thead>\n",
       "  <tbody>\n",
       "    <tr>\n",
       "      <th>0</th>\n",
       "      <td>892</td>\n",
       "      <td>3</td>\n",
       "      <td>Kelly, Mr. James</td>\n",
       "      <td>male</td>\n",
       "      <td>34.5</td>\n",
       "      <td>0</td>\n",
       "      <td>0</td>\n",
       "      <td>330911</td>\n",
       "      <td>7.8292</td>\n",
       "      <td>NaN</td>\n",
       "      <td>Q</td>\n",
       "    </tr>\n",
       "    <tr>\n",
       "      <th>1</th>\n",
       "      <td>893</td>\n",
       "      <td>3</td>\n",
       "      <td>Wilkes, Mrs. James (Ellen Needs)</td>\n",
       "      <td>female</td>\n",
       "      <td>47.0</td>\n",
       "      <td>1</td>\n",
       "      <td>0</td>\n",
       "      <td>363272</td>\n",
       "      <td>7.0000</td>\n",
       "      <td>NaN</td>\n",
       "      <td>S</td>\n",
       "    </tr>\n",
       "    <tr>\n",
       "      <th>2</th>\n",
       "      <td>894</td>\n",
       "      <td>2</td>\n",
       "      <td>Myles, Mr. Thomas Francis</td>\n",
       "      <td>male</td>\n",
       "      <td>62.0</td>\n",
       "      <td>0</td>\n",
       "      <td>0</td>\n",
       "      <td>240276</td>\n",
       "      <td>9.6875</td>\n",
       "      <td>NaN</td>\n",
       "      <td>Q</td>\n",
       "    </tr>\n",
       "    <tr>\n",
       "      <th>3</th>\n",
       "      <td>895</td>\n",
       "      <td>3</td>\n",
       "      <td>Wirz, Mr. Albert</td>\n",
       "      <td>male</td>\n",
       "      <td>27.0</td>\n",
       "      <td>0</td>\n",
       "      <td>0</td>\n",
       "      <td>315154</td>\n",
       "      <td>8.6625</td>\n",
       "      <td>NaN</td>\n",
       "      <td>S</td>\n",
       "    </tr>\n",
       "    <tr>\n",
       "      <th>4</th>\n",
       "      <td>896</td>\n",
       "      <td>3</td>\n",
       "      <td>Hirvonen, Mrs. Alexander (Helga E Lindqvist)</td>\n",
       "      <td>female</td>\n",
       "      <td>22.0</td>\n",
       "      <td>1</td>\n",
       "      <td>1</td>\n",
       "      <td>3101298</td>\n",
       "      <td>12.2875</td>\n",
       "      <td>NaN</td>\n",
       "      <td>S</td>\n",
       "    </tr>\n",
       "  </tbody>\n",
       "</table>\n",
       "</div>"
      ],
      "text/plain": [
       "   PassengerId  Pclass                                          Name     Sex  \\\n",
       "0          892       3                              Kelly, Mr. James    male   \n",
       "1          893       3              Wilkes, Mrs. James (Ellen Needs)  female   \n",
       "2          894       2                     Myles, Mr. Thomas Francis    male   \n",
       "3          895       3                              Wirz, Mr. Albert    male   \n",
       "4          896       3  Hirvonen, Mrs. Alexander (Helga E Lindqvist)  female   \n",
       "\n",
       "    Age  SibSp  Parch   Ticket     Fare Cabin Embarked  \n",
       "0  34.5      0      0   330911   7.8292   NaN        Q  \n",
       "1  47.0      1      0   363272   7.0000   NaN        S  \n",
       "2  62.0      0      0   240276   9.6875   NaN        Q  \n",
       "3  27.0      0      0   315154   8.6625   NaN        S  \n",
       "4  22.0      1      1  3101298  12.2875   NaN        S  "
      ]
     },
     "execution_count": 9,
     "metadata": {},
     "output_type": "execute_result"
    }
   ],
   "source": [
    "test_data.head()"
   ]
  },
  {
   "cell_type": "code",
   "execution_count": 10,
   "id": "2e17c31c",
   "metadata": {
    "execution": {
     "iopub.execute_input": "2022-06-03T11:37:22.851000Z",
     "iopub.status.busy": "2022-06-03T11:37:22.850665Z",
     "iopub.status.idle": "2022-06-03T11:37:22.855963Z",
     "shell.execute_reply": "2022-06-03T11:37:22.855141Z"
    },
    "papermill": {
     "duration": 0.019739,
     "end_time": "2022-06-03T11:37:22.857780",
     "exception": false,
     "start_time": "2022-06-03T11:37:22.838041",
     "status": "completed"
    },
    "tags": []
   },
   "outputs": [
    {
     "data": {
      "text/plain": [
       "pandas.core.frame.DataFrame"
      ]
     },
     "execution_count": 10,
     "metadata": {},
     "output_type": "execute_result"
    }
   ],
   "source": [
    "type(test_data)"
   ]
  },
  {
   "cell_type": "code",
   "execution_count": 11,
   "id": "4011e7fd",
   "metadata": {
    "execution": {
     "iopub.execute_input": "2022-06-03T11:37:22.883309Z",
     "iopub.status.busy": "2022-06-03T11:37:22.882951Z",
     "iopub.status.idle": "2022-06-03T11:37:22.888580Z",
     "shell.execute_reply": "2022-06-03T11:37:22.887705Z"
    },
    "papermill": {
     "duration": 0.020678,
     "end_time": "2022-06-03T11:37:22.890548",
     "exception": false,
     "start_time": "2022-06-03T11:37:22.869870",
     "status": "completed"
    },
    "tags": []
   },
   "outputs": [
    {
     "data": {
      "text/plain": [
       "418"
      ]
     },
     "execution_count": 11,
     "metadata": {},
     "output_type": "execute_result"
    }
   ],
   "source": [
    "len(test_data)"
   ]
  },
  {
   "cell_type": "code",
   "execution_count": 12,
   "id": "a1ce6744",
   "metadata": {
    "execution": {
     "iopub.execute_input": "2022-06-03T11:37:22.915112Z",
     "iopub.status.busy": "2022-06-03T11:37:22.914237Z",
     "iopub.status.idle": "2022-06-03T11:37:22.919835Z",
     "shell.execute_reply": "2022-06-03T11:37:22.918946Z"
    },
    "papermill": {
     "duration": 0.019702,
     "end_time": "2022-06-03T11:37:22.921584",
     "exception": false,
     "start_time": "2022-06-03T11:37:22.901882",
     "status": "completed"
    },
    "tags": []
   },
   "outputs": [
    {
     "data": {
      "text/plain": [
       "(418, 11)"
      ]
     },
     "execution_count": 12,
     "metadata": {},
     "output_type": "execute_result"
    }
   ],
   "source": [
    "test_data.shape"
   ]
  },
  {
   "cell_type": "code",
   "execution_count": 13,
   "id": "389e358e",
   "metadata": {
    "execution": {
     "iopub.execute_input": "2022-06-03T11:37:22.946230Z",
     "iopub.status.busy": "2022-06-03T11:37:22.945491Z",
     "iopub.status.idle": "2022-06-03T11:37:22.971197Z",
     "shell.execute_reply": "2022-06-03T11:37:22.970242Z"
    },
    "papermill": {
     "duration": 0.040372,
     "end_time": "2022-06-03T11:37:22.973436",
     "exception": false,
     "start_time": "2022-06-03T11:37:22.933064",
     "status": "completed"
    },
    "tags": []
   },
   "outputs": [
    {
     "name": "stdout",
     "output_type": "stream",
     "text": [
      "<class 'pandas.core.frame.DataFrame'>\n",
      "RangeIndex: 418 entries, 0 to 417\n",
      "Data columns (total 11 columns):\n",
      " #   Column       Non-Null Count  Dtype  \n",
      "---  ------       --------------  -----  \n",
      " 0   PassengerId  418 non-null    int64  \n",
      " 1   Pclass       418 non-null    int64  \n",
      " 2   Name         418 non-null    object \n",
      " 3   Sex          418 non-null    object \n",
      " 4   Age          332 non-null    float64\n",
      " 5   SibSp        418 non-null    int64  \n",
      " 6   Parch        418 non-null    int64  \n",
      " 7   Ticket       418 non-null    object \n",
      " 8   Fare         417 non-null    float64\n",
      " 9   Cabin        91 non-null     object \n",
      " 10  Embarked     418 non-null    object \n",
      "dtypes: float64(2), int64(4), object(5)\n",
      "memory usage: 36.0+ KB\n"
     ]
    }
   ],
   "source": [
    "test_data.info()"
   ]
  },
  {
   "cell_type": "code",
   "execution_count": 14,
   "id": "0f6e5957",
   "metadata": {
    "execution": {
     "iopub.execute_input": "2022-06-03T11:37:22.998806Z",
     "iopub.status.busy": "2022-06-03T11:37:22.997783Z",
     "iopub.status.idle": "2022-06-03T11:37:23.004278Z",
     "shell.execute_reply": "2022-06-03T11:37:23.003359Z"
    },
    "papermill": {
     "duration": 0.020744,
     "end_time": "2022-06-03T11:37:23.006068",
     "exception": false,
     "start_time": "2022-06-03T11:37:22.985324",
     "status": "completed"
    },
    "tags": []
   },
   "outputs": [
    {
     "data": {
      "text/plain": [
       "4598"
      ]
     },
     "execution_count": 14,
     "metadata": {},
     "output_type": "execute_result"
    }
   ],
   "source": [
    "test_data.size"
   ]
  },
  {
   "cell_type": "code",
   "execution_count": 15,
   "id": "c2dec817",
   "metadata": {
    "execution": {
     "iopub.execute_input": "2022-06-03T11:37:23.031400Z",
     "iopub.status.busy": "2022-06-03T11:37:23.030489Z",
     "iopub.status.idle": "2022-06-03T11:37:23.037040Z",
     "shell.execute_reply": "2022-06-03T11:37:23.036128Z"
    },
    "papermill": {
     "duration": 0.021324,
     "end_time": "2022-06-03T11:37:23.038799",
     "exception": false,
     "start_time": "2022-06-03T11:37:23.017475",
     "status": "completed"
    },
    "tags": []
   },
   "outputs": [
    {
     "data": {
      "text/plain": [
       "11"
      ]
     },
     "execution_count": 15,
     "metadata": {},
     "output_type": "execute_result"
    }
   ],
   "source": [
    "len(test_data.columns)"
   ]
  },
  {
   "cell_type": "code",
   "execution_count": 16,
   "id": "def2ae87",
   "metadata": {
    "execution": {
     "iopub.execute_input": "2022-06-03T11:37:23.064824Z",
     "iopub.status.busy": "2022-06-03T11:37:23.064068Z",
     "iopub.status.idle": "2022-06-03T11:37:23.071675Z",
     "shell.execute_reply": "2022-06-03T11:37:23.070979Z"
    },
    "papermill": {
     "duration": 0.022731,
     "end_time": "2022-06-03T11:37:23.073563",
     "exception": false,
     "start_time": "2022-06-03T11:37:23.050832",
     "status": "completed"
    },
    "tags": []
   },
   "outputs": [],
   "source": [
    "women = train_data.loc[train_data.Sex == 'female']['Survived']"
   ]
  },
  {
   "cell_type": "code",
   "execution_count": 17,
   "id": "e61bc6ec",
   "metadata": {
    "execution": {
     "iopub.execute_input": "2022-06-03T11:37:23.099519Z",
     "iopub.status.busy": "2022-06-03T11:37:23.098901Z",
     "iopub.status.idle": "2022-06-03T11:37:23.106027Z",
     "shell.execute_reply": "2022-06-03T11:37:23.105232Z"
    },
    "papermill": {
     "duration": 0.021942,
     "end_time": "2022-06-03T11:37:23.107810",
     "exception": false,
     "start_time": "2022-06-03T11:37:23.085868",
     "status": "completed"
    },
    "tags": []
   },
   "outputs": [
    {
     "data": {
      "text/plain": [
       "1      1\n",
       "2      1\n",
       "3      1\n",
       "8      1\n",
       "9      1\n",
       "      ..\n",
       "880    1\n",
       "882    0\n",
       "885    0\n",
       "887    1\n",
       "888    0\n",
       "Name: Survived, Length: 314, dtype: int64"
      ]
     },
     "execution_count": 17,
     "metadata": {},
     "output_type": "execute_result"
    }
   ],
   "source": [
    "women"
   ]
  },
  {
   "cell_type": "code",
   "execution_count": 18,
   "id": "f91b4bc9",
   "metadata": {
    "execution": {
     "iopub.execute_input": "2022-06-03T11:37:23.133077Z",
     "iopub.status.busy": "2022-06-03T11:37:23.132523Z",
     "iopub.status.idle": "2022-06-03T11:37:23.138259Z",
     "shell.execute_reply": "2022-06-03T11:37:23.137479Z"
    },
    "papermill": {
     "duration": 0.020424,
     "end_time": "2022-06-03T11:37:23.139936",
     "exception": false,
     "start_time": "2022-06-03T11:37:23.119512",
     "status": "completed"
    },
    "tags": []
   },
   "outputs": [
    {
     "data": {
      "text/plain": [
       "233"
      ]
     },
     "execution_count": 18,
     "metadata": {},
     "output_type": "execute_result"
    }
   ],
   "source": [
    "sum(women)"
   ]
  },
  {
   "cell_type": "code",
   "execution_count": 19,
   "id": "004ba719",
   "metadata": {
    "execution": {
     "iopub.execute_input": "2022-06-03T11:37:23.165978Z",
     "iopub.status.busy": "2022-06-03T11:37:23.165427Z",
     "iopub.status.idle": "2022-06-03T11:37:23.171140Z",
     "shell.execute_reply": "2022-06-03T11:37:23.170219Z"
    },
    "papermill": {
     "duration": 0.020899,
     "end_time": "2022-06-03T11:37:23.173174",
     "exception": false,
     "start_time": "2022-06-03T11:37:23.152275",
     "status": "completed"
    },
    "tags": []
   },
   "outputs": [
    {
     "data": {
      "text/plain": [
       "314"
      ]
     },
     "execution_count": 19,
     "metadata": {},
     "output_type": "execute_result"
    }
   ],
   "source": [
    "len(women)"
   ]
  },
  {
   "cell_type": "code",
   "execution_count": 20,
   "id": "82ba29cf",
   "metadata": {
    "execution": {
     "iopub.execute_input": "2022-06-03T11:37:23.199603Z",
     "iopub.status.busy": "2022-06-03T11:37:23.199028Z",
     "iopub.status.idle": "2022-06-03T11:37:23.203482Z",
     "shell.execute_reply": "2022-06-03T11:37:23.202923Z"
    },
    "papermill": {
     "duration": 0.019582,
     "end_time": "2022-06-03T11:37:23.205095",
     "exception": false,
     "start_time": "2022-06-03T11:37:23.185513",
     "status": "completed"
    },
    "tags": []
   },
   "outputs": [
    {
     "data": {
      "text/plain": [
       "pandas.core.series.Series"
      ]
     },
     "execution_count": 20,
     "metadata": {},
     "output_type": "execute_result"
    }
   ],
   "source": [
    "type(women)"
   ]
  },
  {
   "cell_type": "code",
   "execution_count": 21,
   "id": "4c53bd2e",
   "metadata": {
    "execution": {
     "iopub.execute_input": "2022-06-03T11:37:23.230630Z",
     "iopub.status.busy": "2022-06-03T11:37:23.230064Z",
     "iopub.status.idle": "2022-06-03T11:37:23.234147Z",
     "shell.execute_reply": "2022-06-03T11:37:23.233477Z"
    },
    "papermill": {
     "duration": 0.019123,
     "end_time": "2022-06-03T11:37:23.236116",
     "exception": false,
     "start_time": "2022-06-03T11:37:23.216993",
     "status": "completed"
    },
    "tags": []
   },
   "outputs": [],
   "source": [
    "num01 = pd.Series([0,1,1,2,2])"
   ]
  },
  {
   "cell_type": "code",
   "execution_count": 22,
   "id": "9a60f59d",
   "metadata": {
    "execution": {
     "iopub.execute_input": "2022-06-03T11:37:23.261742Z",
     "iopub.status.busy": "2022-06-03T11:37:23.261332Z",
     "iopub.status.idle": "2022-06-03T11:37:23.266622Z",
     "shell.execute_reply": "2022-06-03T11:37:23.266021Z"
    },
    "papermill": {
     "duration": 0.020123,
     "end_time": "2022-06-03T11:37:23.268221",
     "exception": false,
     "start_time": "2022-06-03T11:37:23.248098",
     "status": "completed"
    },
    "tags": []
   },
   "outputs": [
    {
     "data": {
      "text/plain": [
       "0    0\n",
       "1    1\n",
       "2    1\n",
       "3    2\n",
       "4    2\n",
       "dtype: int64"
      ]
     },
     "execution_count": 22,
     "metadata": {},
     "output_type": "execute_result"
    }
   ],
   "source": [
    "num01"
   ]
  },
  {
   "cell_type": "code",
   "execution_count": 23,
   "id": "e79ce3a3",
   "metadata": {
    "execution": {
     "iopub.execute_input": "2022-06-03T11:37:23.299093Z",
     "iopub.status.busy": "2022-06-03T11:37:23.298721Z",
     "iopub.status.idle": "2022-06-03T11:37:23.303604Z",
     "shell.execute_reply": "2022-06-03T11:37:23.303008Z"
    },
    "papermill": {
     "duration": 0.024973,
     "end_time": "2022-06-03T11:37:23.306374",
     "exception": false,
     "start_time": "2022-06-03T11:37:23.281401",
     "status": "completed"
    },
    "tags": []
   },
   "outputs": [
    {
     "data": {
      "text/plain": [
       "6"
      ]
     },
     "execution_count": 23,
     "metadata": {},
     "output_type": "execute_result"
    }
   ],
   "source": [
    "sum(num01)"
   ]
  },
  {
   "cell_type": "code",
   "execution_count": 24,
   "id": "95bb9686",
   "metadata": {
    "execution": {
     "iopub.execute_input": "2022-06-03T11:37:23.340450Z",
     "iopub.status.busy": "2022-06-03T11:37:23.339875Z",
     "iopub.status.idle": "2022-06-03T11:37:23.345386Z",
     "shell.execute_reply": "2022-06-03T11:37:23.344739Z"
    },
    "papermill": {
     "duration": 0.027567,
     "end_time": "2022-06-03T11:37:23.347828",
     "exception": false,
     "start_time": "2022-06-03T11:37:23.320261",
     "status": "completed"
    },
    "tags": []
   },
   "outputs": [
    {
     "data": {
      "text/plain": [
       "0.7420382165605095"
      ]
     },
     "execution_count": 24,
     "metadata": {},
     "output_type": "execute_result"
    }
   ],
   "source": [
    "rate_women = sum(women)/len(women)\n",
    "rate_women"
   ]
  },
  {
   "cell_type": "code",
   "execution_count": 25,
   "id": "4145b99c",
   "metadata": {
    "execution": {
     "iopub.execute_input": "2022-06-03T11:37:23.383780Z",
     "iopub.status.busy": "2022-06-03T11:37:23.383139Z",
     "iopub.status.idle": "2022-06-03T11:37:23.387634Z",
     "shell.execute_reply": "2022-06-03T11:37:23.386981Z"
    },
    "papermill": {
     "duration": 0.023796,
     "end_time": "2022-06-03T11:37:23.389688",
     "exception": false,
     "start_time": "2022-06-03T11:37:23.365892",
     "status": "completed"
    },
    "tags": []
   },
   "outputs": [
    {
     "name": "stdout",
     "output_type": "stream",
     "text": [
      "% of women who survived: 0.7420382165605095\n"
     ]
    }
   ],
   "source": [
    "print(\"% of women who survived:\", rate_women)"
   ]
  },
  {
   "cell_type": "code",
   "execution_count": 26,
   "id": "ed9eb8c9",
   "metadata": {
    "execution": {
     "iopub.execute_input": "2022-06-03T11:37:23.417435Z",
     "iopub.status.busy": "2022-06-03T11:37:23.416906Z",
     "iopub.status.idle": "2022-06-03T11:37:23.422426Z",
     "shell.execute_reply": "2022-06-03T11:37:23.421727Z"
    },
    "papermill": {
     "duration": 0.021951,
     "end_time": "2022-06-03T11:37:23.424315",
     "exception": false,
     "start_time": "2022-06-03T11:37:23.402364",
     "status": "completed"
    },
    "tags": []
   },
   "outputs": [],
   "source": [
    "men = train_data.loc[train_data.Sex=='male'][\"Survived\"]"
   ]
  },
  {
   "cell_type": "code",
   "execution_count": 27,
   "id": "aa8253f1",
   "metadata": {
    "execution": {
     "iopub.execute_input": "2022-06-03T11:37:23.451316Z",
     "iopub.status.busy": "2022-06-03T11:37:23.450779Z",
     "iopub.status.idle": "2022-06-03T11:37:23.457966Z",
     "shell.execute_reply": "2022-06-03T11:37:23.457023Z"
    },
    "papermill": {
     "duration": 0.023017,
     "end_time": "2022-06-03T11:37:23.459740",
     "exception": false,
     "start_time": "2022-06-03T11:37:23.436723",
     "status": "completed"
    },
    "tags": []
   },
   "outputs": [
    {
     "data": {
      "text/plain": [
       "0      0\n",
       "4      0\n",
       "5      0\n",
       "6      0\n",
       "7      0\n",
       "      ..\n",
       "883    0\n",
       "884    0\n",
       "886    0\n",
       "889    1\n",
       "890    0\n",
       "Name: Survived, Length: 577, dtype: int64"
      ]
     },
     "execution_count": 27,
     "metadata": {},
     "output_type": "execute_result"
    }
   ],
   "source": [
    "men"
   ]
  },
  {
   "cell_type": "code",
   "execution_count": 28,
   "id": "9f3ac129",
   "metadata": {
    "execution": {
     "iopub.execute_input": "2022-06-03T11:37:23.486424Z",
     "iopub.status.busy": "2022-06-03T11:37:23.485899Z",
     "iopub.status.idle": "2022-06-03T11:37:23.491578Z",
     "shell.execute_reply": "2022-06-03T11:37:23.490721Z"
    },
    "papermill": {
     "duration": 0.021057,
     "end_time": "2022-06-03T11:37:23.493265",
     "exception": false,
     "start_time": "2022-06-03T11:37:23.472208",
     "status": "completed"
    },
    "tags": []
   },
   "outputs": [
    {
     "data": {
      "text/plain": [
       "0.18890814558058924"
      ]
     },
     "execution_count": 28,
     "metadata": {},
     "output_type": "execute_result"
    }
   ],
   "source": [
    "rate_men = sum(men)/len(men)\n",
    "rate_men"
   ]
  },
  {
   "cell_type": "code",
   "execution_count": 29,
   "id": "ee11d8a4",
   "metadata": {
    "execution": {
     "iopub.execute_input": "2022-06-03T11:37:23.520521Z",
     "iopub.status.busy": "2022-06-03T11:37:23.519977Z",
     "iopub.status.idle": "2022-06-03T11:37:23.524921Z",
     "shell.execute_reply": "2022-06-03T11:37:23.523969Z"
    },
    "papermill": {
     "duration": 0.020809,
     "end_time": "2022-06-03T11:37:23.527009",
     "exception": false,
     "start_time": "2022-06-03T11:37:23.506200",
     "status": "completed"
    },
    "tags": []
   },
   "outputs": [
    {
     "name": "stdout",
     "output_type": "stream",
     "text": [
      "% of men who survived: 0.18890814558058924\n"
     ]
    }
   ],
   "source": [
    "print(\"% of men who survived:\", rate_men)"
   ]
  },
  {
   "cell_type": "code",
   "execution_count": null,
   "id": "d7e08384",
   "metadata": {
    "papermill": {
     "duration": 0.012353,
     "end_time": "2022-06-03T11:37:23.552042",
     "exception": false,
     "start_time": "2022-06-03T11:37:23.539689",
     "status": "completed"
    },
    "tags": []
   },
   "outputs": [],
   "source": []
  },
  {
   "cell_type": "code",
   "execution_count": 30,
   "id": "e3223b46",
   "metadata": {
    "execution": {
     "iopub.execute_input": "2022-06-03T11:37:23.579025Z",
     "iopub.status.busy": "2022-06-03T11:37:23.578203Z",
     "iopub.status.idle": "2022-06-03T11:37:24.858082Z",
     "shell.execute_reply": "2022-06-03T11:37:24.857151Z"
    },
    "papermill": {
     "duration": 1.295662,
     "end_time": "2022-06-03T11:37:24.860289",
     "exception": false,
     "start_time": "2022-06-03T11:37:23.564627",
     "status": "completed"
    },
    "tags": []
   },
   "outputs": [],
   "source": [
    "from sklearn.ensemble import RandomForestClassifier"
   ]
  },
  {
   "cell_type": "code",
   "execution_count": 31,
   "id": "68c47bb0",
   "metadata": {
    "execution": {
     "iopub.execute_input": "2022-06-03T11:37:24.887487Z",
     "iopub.status.busy": "2022-06-03T11:37:24.887113Z",
     "iopub.status.idle": "2022-06-03T11:37:24.892601Z",
     "shell.execute_reply": "2022-06-03T11:37:24.891721Z"
    },
    "papermill": {
     "duration": 0.021612,
     "end_time": "2022-06-03T11:37:24.894662",
     "exception": false,
     "start_time": "2022-06-03T11:37:24.873050",
     "status": "completed"
    },
    "tags": []
   },
   "outputs": [
    {
     "data": {
      "text/plain": [
       "sklearn.ensemble._forest.RandomForestClassifier"
      ]
     },
     "execution_count": 31,
     "metadata": {},
     "output_type": "execute_result"
    }
   ],
   "source": [
    "RandomForestClassifier"
   ]
  },
  {
   "cell_type": "code",
   "execution_count": 32,
   "id": "f78e3812",
   "metadata": {
    "execution": {
     "iopub.execute_input": "2022-06-03T11:37:24.921968Z",
     "iopub.status.busy": "2022-06-03T11:37:24.921090Z",
     "iopub.status.idle": "2022-06-03T11:37:24.925718Z",
     "shell.execute_reply": "2022-06-03T11:37:24.924714Z"
    },
    "papermill": {
     "duration": 0.020268,
     "end_time": "2022-06-03T11:37:24.927535",
     "exception": false,
     "start_time": "2022-06-03T11:37:24.907267",
     "status": "completed"
    },
    "tags": []
   },
   "outputs": [],
   "source": [
    "y = train_data[\"Survived\"]"
   ]
  },
  {
   "cell_type": "code",
   "execution_count": 33,
   "id": "6d3f2437",
   "metadata": {
    "execution": {
     "iopub.execute_input": "2022-06-03T11:37:24.954391Z",
     "iopub.status.busy": "2022-06-03T11:37:24.954029Z",
     "iopub.status.idle": "2022-06-03T11:37:24.960292Z",
     "shell.execute_reply": "2022-06-03T11:37:24.959679Z"
    },
    "papermill": {
     "duration": 0.021666,
     "end_time": "2022-06-03T11:37:24.961905",
     "exception": false,
     "start_time": "2022-06-03T11:37:24.940239",
     "status": "completed"
    },
    "tags": []
   },
   "outputs": [
    {
     "data": {
      "text/plain": [
       "0      0\n",
       "1      1\n",
       "2      1\n",
       "3      1\n",
       "4      0\n",
       "      ..\n",
       "886    0\n",
       "887    1\n",
       "888    0\n",
       "889    1\n",
       "890    0\n",
       "Name: Survived, Length: 891, dtype: int64"
      ]
     },
     "execution_count": 33,
     "metadata": {},
     "output_type": "execute_result"
    }
   ],
   "source": [
    "y"
   ]
  },
  {
   "cell_type": "code",
   "execution_count": 34,
   "id": "508f4c6a",
   "metadata": {
    "execution": {
     "iopub.execute_input": "2022-06-03T11:37:24.989675Z",
     "iopub.status.busy": "2022-06-03T11:37:24.989286Z",
     "iopub.status.idle": "2022-06-03T11:37:24.993719Z",
     "shell.execute_reply": "2022-06-03T11:37:24.993021Z"
    },
    "papermill": {
     "duration": 0.020985,
     "end_time": "2022-06-03T11:37:24.995573",
     "exception": false,
     "start_time": "2022-06-03T11:37:24.974588",
     "status": "completed"
    },
    "tags": []
   },
   "outputs": [
    {
     "data": {
      "text/plain": [
       "pandas.core.series.Series"
      ]
     },
     "execution_count": 34,
     "metadata": {},
     "output_type": "execute_result"
    }
   ],
   "source": [
    "type(y)"
   ]
  },
  {
   "cell_type": "code",
   "execution_count": 35,
   "id": "e5a43460",
   "metadata": {
    "execution": {
     "iopub.execute_input": "2022-06-03T11:37:25.023412Z",
     "iopub.status.busy": "2022-06-03T11:37:25.022915Z",
     "iopub.status.idle": "2022-06-03T11:37:25.027342Z",
     "shell.execute_reply": "2022-06-03T11:37:25.026705Z"
    },
    "papermill": {
     "duration": 0.020384,
     "end_time": "2022-06-03T11:37:25.028887",
     "exception": false,
     "start_time": "2022-06-03T11:37:25.008503",
     "status": "completed"
    },
    "tags": []
   },
   "outputs": [
    {
     "data": {
      "text/plain": [
       "pandas.core.frame.DataFrame"
      ]
     },
     "execution_count": 35,
     "metadata": {},
     "output_type": "execute_result"
    }
   ],
   "source": [
    "type(train_data)"
   ]
  },
  {
   "cell_type": "code",
   "execution_count": 36,
   "id": "1be53b1c",
   "metadata": {
    "execution": {
     "iopub.execute_input": "2022-06-03T11:37:25.056511Z",
     "iopub.status.busy": "2022-06-03T11:37:25.055927Z",
     "iopub.status.idle": "2022-06-03T11:37:25.059523Z",
     "shell.execute_reply": "2022-06-03T11:37:25.058871Z"
    },
    "papermill": {
     "duration": 0.019285,
     "end_time": "2022-06-03T11:37:25.061166",
     "exception": false,
     "start_time": "2022-06-03T11:37:25.041881",
     "status": "completed"
    },
    "tags": []
   },
   "outputs": [],
   "source": [
    "features = [\"Pclass\", \"Sex\", \"SibSp\", \"Parch\"]"
   ]
  },
  {
   "cell_type": "code",
   "execution_count": 37,
   "id": "6dbb1e99",
   "metadata": {
    "execution": {
     "iopub.execute_input": "2022-06-03T11:37:25.088883Z",
     "iopub.status.busy": "2022-06-03T11:37:25.088499Z",
     "iopub.status.idle": "2022-06-03T11:37:25.097391Z",
     "shell.execute_reply": "2022-06-03T11:37:25.096698Z"
    },
    "papermill": {
     "duration": 0.025184,
     "end_time": "2022-06-03T11:37:25.099350",
     "exception": false,
     "start_time": "2022-06-03T11:37:25.074166",
     "status": "completed"
    },
    "tags": []
   },
   "outputs": [],
   "source": [
    "X = pd.get_dummies(train_data[features])"
   ]
  },
  {
   "cell_type": "code",
   "execution_count": 38,
   "id": "e1dd93fc",
   "metadata": {
    "execution": {
     "iopub.execute_input": "2022-06-03T11:37:25.127227Z",
     "iopub.status.busy": "2022-06-03T11:37:25.126612Z",
     "iopub.status.idle": "2022-06-03T11:37:25.137347Z",
     "shell.execute_reply": "2022-06-03T11:37:25.136667Z"
    },
    "papermill": {
     "duration": 0.0271,
     "end_time": "2022-06-03T11:37:25.139502",
     "exception": false,
     "start_time": "2022-06-03T11:37:25.112402",
     "status": "completed"
    },
    "tags": []
   },
   "outputs": [
    {
     "data": {
      "text/html": [
       "<div>\n",
       "<style scoped>\n",
       "    .dataframe tbody tr th:only-of-type {\n",
       "        vertical-align: middle;\n",
       "    }\n",
       "\n",
       "    .dataframe tbody tr th {\n",
       "        vertical-align: top;\n",
       "    }\n",
       "\n",
       "    .dataframe thead th {\n",
       "        text-align: right;\n",
       "    }\n",
       "</style>\n",
       "<table border=\"1\" class=\"dataframe\">\n",
       "  <thead>\n",
       "    <tr style=\"text-align: right;\">\n",
       "      <th></th>\n",
       "      <th>Pclass</th>\n",
       "      <th>SibSp</th>\n",
       "      <th>Parch</th>\n",
       "      <th>Sex_female</th>\n",
       "      <th>Sex_male</th>\n",
       "    </tr>\n",
       "  </thead>\n",
       "  <tbody>\n",
       "    <tr>\n",
       "      <th>0</th>\n",
       "      <td>3</td>\n",
       "      <td>1</td>\n",
       "      <td>0</td>\n",
       "      <td>0</td>\n",
       "      <td>1</td>\n",
       "    </tr>\n",
       "    <tr>\n",
       "      <th>1</th>\n",
       "      <td>1</td>\n",
       "      <td>1</td>\n",
       "      <td>0</td>\n",
       "      <td>1</td>\n",
       "      <td>0</td>\n",
       "    </tr>\n",
       "    <tr>\n",
       "      <th>2</th>\n",
       "      <td>3</td>\n",
       "      <td>0</td>\n",
       "      <td>0</td>\n",
       "      <td>1</td>\n",
       "      <td>0</td>\n",
       "    </tr>\n",
       "    <tr>\n",
       "      <th>3</th>\n",
       "      <td>1</td>\n",
       "      <td>1</td>\n",
       "      <td>0</td>\n",
       "      <td>1</td>\n",
       "      <td>0</td>\n",
       "    </tr>\n",
       "    <tr>\n",
       "      <th>4</th>\n",
       "      <td>3</td>\n",
       "      <td>0</td>\n",
       "      <td>0</td>\n",
       "      <td>0</td>\n",
       "      <td>1</td>\n",
       "    </tr>\n",
       "    <tr>\n",
       "      <th>...</th>\n",
       "      <td>...</td>\n",
       "      <td>...</td>\n",
       "      <td>...</td>\n",
       "      <td>...</td>\n",
       "      <td>...</td>\n",
       "    </tr>\n",
       "    <tr>\n",
       "      <th>886</th>\n",
       "      <td>2</td>\n",
       "      <td>0</td>\n",
       "      <td>0</td>\n",
       "      <td>0</td>\n",
       "      <td>1</td>\n",
       "    </tr>\n",
       "    <tr>\n",
       "      <th>887</th>\n",
       "      <td>1</td>\n",
       "      <td>0</td>\n",
       "      <td>0</td>\n",
       "      <td>1</td>\n",
       "      <td>0</td>\n",
       "    </tr>\n",
       "    <tr>\n",
       "      <th>888</th>\n",
       "      <td>3</td>\n",
       "      <td>1</td>\n",
       "      <td>2</td>\n",
       "      <td>1</td>\n",
       "      <td>0</td>\n",
       "    </tr>\n",
       "    <tr>\n",
       "      <th>889</th>\n",
       "      <td>1</td>\n",
       "      <td>0</td>\n",
       "      <td>0</td>\n",
       "      <td>0</td>\n",
       "      <td>1</td>\n",
       "    </tr>\n",
       "    <tr>\n",
       "      <th>890</th>\n",
       "      <td>3</td>\n",
       "      <td>0</td>\n",
       "      <td>0</td>\n",
       "      <td>0</td>\n",
       "      <td>1</td>\n",
       "    </tr>\n",
       "  </tbody>\n",
       "</table>\n",
       "<p>891 rows × 5 columns</p>\n",
       "</div>"
      ],
      "text/plain": [
       "     Pclass  SibSp  Parch  Sex_female  Sex_male\n",
       "0         3      1      0           0         1\n",
       "1         1      1      0           1         0\n",
       "2         3      0      0           1         0\n",
       "3         1      1      0           1         0\n",
       "4         3      0      0           0         1\n",
       "..      ...    ...    ...         ...       ...\n",
       "886       2      0      0           0         1\n",
       "887       1      0      0           1         0\n",
       "888       3      1      2           1         0\n",
       "889       1      0      0           0         1\n",
       "890       3      0      0           0         1\n",
       "\n",
       "[891 rows x 5 columns]"
      ]
     },
     "execution_count": 38,
     "metadata": {},
     "output_type": "execute_result"
    }
   ],
   "source": [
    "X"
   ]
  },
  {
   "cell_type": "code",
   "execution_count": 39,
   "id": "048a3774",
   "metadata": {
    "execution": {
     "iopub.execute_input": "2022-06-03T11:37:25.168494Z",
     "iopub.status.busy": "2022-06-03T11:37:25.168149Z",
     "iopub.status.idle": "2022-06-03T11:37:25.182929Z",
     "shell.execute_reply": "2022-06-03T11:37:25.181864Z"
    },
    "papermill": {
     "duration": 0.031701,
     "end_time": "2022-06-03T11:37:25.184965",
     "exception": false,
     "start_time": "2022-06-03T11:37:25.153264",
     "status": "completed"
    },
    "tags": []
   },
   "outputs": [
    {
     "data": {
      "text/html": [
       "<div>\n",
       "<style scoped>\n",
       "    .dataframe tbody tr th:only-of-type {\n",
       "        vertical-align: middle;\n",
       "    }\n",
       "\n",
       "    .dataframe tbody tr th {\n",
       "        vertical-align: top;\n",
       "    }\n",
       "\n",
       "    .dataframe thead th {\n",
       "        text-align: right;\n",
       "    }\n",
       "</style>\n",
       "<table border=\"1\" class=\"dataframe\">\n",
       "  <thead>\n",
       "    <tr style=\"text-align: right;\">\n",
       "      <th></th>\n",
       "      <th>PassengerId</th>\n",
       "      <th>Survived</th>\n",
       "      <th>Pclass</th>\n",
       "      <th>Name</th>\n",
       "      <th>Sex</th>\n",
       "      <th>Age</th>\n",
       "      <th>SibSp</th>\n",
       "      <th>Parch</th>\n",
       "      <th>Ticket</th>\n",
       "      <th>Fare</th>\n",
       "      <th>Cabin</th>\n",
       "      <th>Embarked</th>\n",
       "    </tr>\n",
       "  </thead>\n",
       "  <tbody>\n",
       "    <tr>\n",
       "      <th>0</th>\n",
       "      <td>1</td>\n",
       "      <td>0</td>\n",
       "      <td>3</td>\n",
       "      <td>Braund, Mr. Owen Harris</td>\n",
       "      <td>male</td>\n",
       "      <td>22.0</td>\n",
       "      <td>1</td>\n",
       "      <td>0</td>\n",
       "      <td>A/5 21171</td>\n",
       "      <td>7.2500</td>\n",
       "      <td>NaN</td>\n",
       "      <td>S</td>\n",
       "    </tr>\n",
       "    <tr>\n",
       "      <th>1</th>\n",
       "      <td>2</td>\n",
       "      <td>1</td>\n",
       "      <td>1</td>\n",
       "      <td>Cumings, Mrs. John Bradley (Florence Briggs Th...</td>\n",
       "      <td>female</td>\n",
       "      <td>38.0</td>\n",
       "      <td>1</td>\n",
       "      <td>0</td>\n",
       "      <td>PC 17599</td>\n",
       "      <td>71.2833</td>\n",
       "      <td>C85</td>\n",
       "      <td>C</td>\n",
       "    </tr>\n",
       "    <tr>\n",
       "      <th>2</th>\n",
       "      <td>3</td>\n",
       "      <td>1</td>\n",
       "      <td>3</td>\n",
       "      <td>Heikkinen, Miss. Laina</td>\n",
       "      <td>female</td>\n",
       "      <td>26.0</td>\n",
       "      <td>0</td>\n",
       "      <td>0</td>\n",
       "      <td>STON/O2. 3101282</td>\n",
       "      <td>7.9250</td>\n",
       "      <td>NaN</td>\n",
       "      <td>S</td>\n",
       "    </tr>\n",
       "    <tr>\n",
       "      <th>3</th>\n",
       "      <td>4</td>\n",
       "      <td>1</td>\n",
       "      <td>1</td>\n",
       "      <td>Futrelle, Mrs. Jacques Heath (Lily May Peel)</td>\n",
       "      <td>female</td>\n",
       "      <td>35.0</td>\n",
       "      <td>1</td>\n",
       "      <td>0</td>\n",
       "      <td>113803</td>\n",
       "      <td>53.1000</td>\n",
       "      <td>C123</td>\n",
       "      <td>S</td>\n",
       "    </tr>\n",
       "    <tr>\n",
       "      <th>4</th>\n",
       "      <td>5</td>\n",
       "      <td>0</td>\n",
       "      <td>3</td>\n",
       "      <td>Allen, Mr. William Henry</td>\n",
       "      <td>male</td>\n",
       "      <td>35.0</td>\n",
       "      <td>0</td>\n",
       "      <td>0</td>\n",
       "      <td>373450</td>\n",
       "      <td>8.0500</td>\n",
       "      <td>NaN</td>\n",
       "      <td>S</td>\n",
       "    </tr>\n",
       "  </tbody>\n",
       "</table>\n",
       "</div>"
      ],
      "text/plain": [
       "   PassengerId  Survived  Pclass  \\\n",
       "0            1         0       3   \n",
       "1            2         1       1   \n",
       "2            3         1       3   \n",
       "3            4         1       1   \n",
       "4            5         0       3   \n",
       "\n",
       "                                                Name     Sex   Age  SibSp  \\\n",
       "0                            Braund, Mr. Owen Harris    male  22.0      1   \n",
       "1  Cumings, Mrs. John Bradley (Florence Briggs Th...  female  38.0      1   \n",
       "2                             Heikkinen, Miss. Laina  female  26.0      0   \n",
       "3       Futrelle, Mrs. Jacques Heath (Lily May Peel)  female  35.0      1   \n",
       "4                           Allen, Mr. William Henry    male  35.0      0   \n",
       "\n",
       "   Parch            Ticket     Fare Cabin Embarked  \n",
       "0      0         A/5 21171   7.2500   NaN        S  \n",
       "1      0          PC 17599  71.2833   C85        C  \n",
       "2      0  STON/O2. 3101282   7.9250   NaN        S  \n",
       "3      0            113803  53.1000  C123        S  \n",
       "4      0            373450   8.0500   NaN        S  "
      ]
     },
     "execution_count": 39,
     "metadata": {},
     "output_type": "execute_result"
    }
   ],
   "source": [
    "train_data.head()"
   ]
  },
  {
   "cell_type": "code",
   "execution_count": 40,
   "id": "7bf50c73",
   "metadata": {
    "execution": {
     "iopub.execute_input": "2022-06-03T11:37:25.214937Z",
     "iopub.status.busy": "2022-06-03T11:37:25.214318Z",
     "iopub.status.idle": "2022-06-03T11:37:25.219158Z",
     "shell.execute_reply": "2022-06-03T11:37:25.218512Z"
    },
    "papermill": {
     "duration": 0.021181,
     "end_time": "2022-06-03T11:37:25.220926",
     "exception": false,
     "start_time": "2022-06-03T11:37:25.199745",
     "status": "completed"
    },
    "tags": []
   },
   "outputs": [
    {
     "data": {
      "text/plain": [
       "function"
      ]
     },
     "execution_count": 40,
     "metadata": {},
     "output_type": "execute_result"
    }
   ],
   "source": [
    "type(pd.get_dummies)"
   ]
  },
  {
   "cell_type": "code",
   "execution_count": 41,
   "id": "982b23ff",
   "metadata": {
    "execution": {
     "iopub.execute_input": "2022-06-03T11:37:25.251041Z",
     "iopub.status.busy": "2022-06-03T11:37:25.250428Z",
     "iopub.status.idle": "2022-06-03T11:37:25.258400Z",
     "shell.execute_reply": "2022-06-03T11:37:25.257679Z"
    },
    "papermill": {
     "duration": 0.025341,
     "end_time": "2022-06-03T11:37:25.260391",
     "exception": false,
     "start_time": "2022-06-03T11:37:25.235050",
     "status": "completed"
    },
    "tags": []
   },
   "outputs": [],
   "source": [
    "X_test = pd.get_dummies(test_data[features])"
   ]
  },
  {
   "cell_type": "code",
   "execution_count": 42,
   "id": "6d77d31f",
   "metadata": {
    "execution": {
     "iopub.execute_input": "2022-06-03T11:37:25.290265Z",
     "iopub.status.busy": "2022-06-03T11:37:25.289656Z",
     "iopub.status.idle": "2022-06-03T11:37:25.300612Z",
     "shell.execute_reply": "2022-06-03T11:37:25.299952Z"
    },
    "papermill": {
     "duration": 0.028266,
     "end_time": "2022-06-03T11:37:25.302327",
     "exception": false,
     "start_time": "2022-06-03T11:37:25.274061",
     "status": "completed"
    },
    "tags": []
   },
   "outputs": [
    {
     "data": {
      "text/html": [
       "<div>\n",
       "<style scoped>\n",
       "    .dataframe tbody tr th:only-of-type {\n",
       "        vertical-align: middle;\n",
       "    }\n",
       "\n",
       "    .dataframe tbody tr th {\n",
       "        vertical-align: top;\n",
       "    }\n",
       "\n",
       "    .dataframe thead th {\n",
       "        text-align: right;\n",
       "    }\n",
       "</style>\n",
       "<table border=\"1\" class=\"dataframe\">\n",
       "  <thead>\n",
       "    <tr style=\"text-align: right;\">\n",
       "      <th></th>\n",
       "      <th>Pclass</th>\n",
       "      <th>SibSp</th>\n",
       "      <th>Parch</th>\n",
       "      <th>Sex_female</th>\n",
       "      <th>Sex_male</th>\n",
       "    </tr>\n",
       "  </thead>\n",
       "  <tbody>\n",
       "    <tr>\n",
       "      <th>0</th>\n",
       "      <td>3</td>\n",
       "      <td>0</td>\n",
       "      <td>0</td>\n",
       "      <td>0</td>\n",
       "      <td>1</td>\n",
       "    </tr>\n",
       "    <tr>\n",
       "      <th>1</th>\n",
       "      <td>3</td>\n",
       "      <td>1</td>\n",
       "      <td>0</td>\n",
       "      <td>1</td>\n",
       "      <td>0</td>\n",
       "    </tr>\n",
       "    <tr>\n",
       "      <th>2</th>\n",
       "      <td>2</td>\n",
       "      <td>0</td>\n",
       "      <td>0</td>\n",
       "      <td>0</td>\n",
       "      <td>1</td>\n",
       "    </tr>\n",
       "    <tr>\n",
       "      <th>3</th>\n",
       "      <td>3</td>\n",
       "      <td>0</td>\n",
       "      <td>0</td>\n",
       "      <td>0</td>\n",
       "      <td>1</td>\n",
       "    </tr>\n",
       "    <tr>\n",
       "      <th>4</th>\n",
       "      <td>3</td>\n",
       "      <td>1</td>\n",
       "      <td>1</td>\n",
       "      <td>1</td>\n",
       "      <td>0</td>\n",
       "    </tr>\n",
       "    <tr>\n",
       "      <th>...</th>\n",
       "      <td>...</td>\n",
       "      <td>...</td>\n",
       "      <td>...</td>\n",
       "      <td>...</td>\n",
       "      <td>...</td>\n",
       "    </tr>\n",
       "    <tr>\n",
       "      <th>413</th>\n",
       "      <td>3</td>\n",
       "      <td>0</td>\n",
       "      <td>0</td>\n",
       "      <td>0</td>\n",
       "      <td>1</td>\n",
       "    </tr>\n",
       "    <tr>\n",
       "      <th>414</th>\n",
       "      <td>1</td>\n",
       "      <td>0</td>\n",
       "      <td>0</td>\n",
       "      <td>1</td>\n",
       "      <td>0</td>\n",
       "    </tr>\n",
       "    <tr>\n",
       "      <th>415</th>\n",
       "      <td>3</td>\n",
       "      <td>0</td>\n",
       "      <td>0</td>\n",
       "      <td>0</td>\n",
       "      <td>1</td>\n",
       "    </tr>\n",
       "    <tr>\n",
       "      <th>416</th>\n",
       "      <td>3</td>\n",
       "      <td>0</td>\n",
       "      <td>0</td>\n",
       "      <td>0</td>\n",
       "      <td>1</td>\n",
       "    </tr>\n",
       "    <tr>\n",
       "      <th>417</th>\n",
       "      <td>3</td>\n",
       "      <td>1</td>\n",
       "      <td>1</td>\n",
       "      <td>0</td>\n",
       "      <td>1</td>\n",
       "    </tr>\n",
       "  </tbody>\n",
       "</table>\n",
       "<p>418 rows × 5 columns</p>\n",
       "</div>"
      ],
      "text/plain": [
       "     Pclass  SibSp  Parch  Sex_female  Sex_male\n",
       "0         3      0      0           0         1\n",
       "1         3      1      0           1         0\n",
       "2         2      0      0           0         1\n",
       "3         3      0      0           0         1\n",
       "4         3      1      1           1         0\n",
       "..      ...    ...    ...         ...       ...\n",
       "413       3      0      0           0         1\n",
       "414       1      0      0           1         0\n",
       "415       3      0      0           0         1\n",
       "416       3      0      0           0         1\n",
       "417       3      1      1           0         1\n",
       "\n",
       "[418 rows x 5 columns]"
      ]
     },
     "execution_count": 42,
     "metadata": {},
     "output_type": "execute_result"
    }
   ],
   "source": [
    "X_test"
   ]
  },
  {
   "cell_type": "code",
   "execution_count": 43,
   "id": "501e6d04",
   "metadata": {
    "execution": {
     "iopub.execute_input": "2022-06-03T11:37:25.331862Z",
     "iopub.status.busy": "2022-06-03T11:37:25.331259Z",
     "iopub.status.idle": "2022-06-03T11:37:25.335390Z",
     "shell.execute_reply": "2022-06-03T11:37:25.334713Z"
    },
    "papermill": {
     "duration": 0.020841,
     "end_time": "2022-06-03T11:37:25.337151",
     "exception": false,
     "start_time": "2022-06-03T11:37:25.316310",
     "status": "completed"
    },
    "tags": []
   },
   "outputs": [],
   "source": [
    "model = RandomForestClassifier(n_estimators=100, max_depth=5, random_state=1)"
   ]
  },
  {
   "cell_type": "code",
   "execution_count": 44,
   "id": "d0ea2b05",
   "metadata": {
    "execution": {
     "iopub.execute_input": "2022-06-03T11:37:25.367745Z",
     "iopub.status.busy": "2022-06-03T11:37:25.367136Z",
     "iopub.status.idle": "2022-06-03T11:37:25.515731Z",
     "shell.execute_reply": "2022-06-03T11:37:25.514687Z"
    },
    "papermill": {
     "duration": 0.166545,
     "end_time": "2022-06-03T11:37:25.517760",
     "exception": false,
     "start_time": "2022-06-03T11:37:25.351215",
     "status": "completed"
    },
    "tags": []
   },
   "outputs": [
    {
     "data": {
      "text/plain": [
       "RandomForestClassifier(max_depth=5, random_state=1)"
      ]
     },
     "execution_count": 44,
     "metadata": {},
     "output_type": "execute_result"
    }
   ],
   "source": [
    "model.fit(X, y)"
   ]
  },
  {
   "cell_type": "code",
   "execution_count": 45,
   "id": "9fe74025",
   "metadata": {
    "execution": {
     "iopub.execute_input": "2022-06-03T11:37:25.547305Z",
     "iopub.status.busy": "2022-06-03T11:37:25.546919Z",
     "iopub.status.idle": "2022-06-03T11:37:25.569316Z",
     "shell.execute_reply": "2022-06-03T11:37:25.568252Z"
    },
    "papermill": {
     "duration": 0.039706,
     "end_time": "2022-06-03T11:37:25.571448",
     "exception": false,
     "start_time": "2022-06-03T11:37:25.531742",
     "status": "completed"
    },
    "tags": []
   },
   "outputs": [],
   "source": [
    "predictions = model.predict(X_test)"
   ]
  },
  {
   "cell_type": "code",
   "execution_count": 46,
   "id": "11097f06",
   "metadata": {
    "execution": {
     "iopub.execute_input": "2022-06-03T11:37:25.601576Z",
     "iopub.status.busy": "2022-06-03T11:37:25.601003Z",
     "iopub.status.idle": "2022-06-03T11:37:25.606592Z",
     "shell.execute_reply": "2022-06-03T11:37:25.605930Z"
    },
    "papermill": {
     "duration": 0.023241,
     "end_time": "2022-06-03T11:37:25.609045",
     "exception": false,
     "start_time": "2022-06-03T11:37:25.585804",
     "status": "completed"
    },
    "tags": []
   },
   "outputs": [
    {
     "data": {
      "text/plain": [
       "array([0, 1, 0, 0, 1, 0, 1, 0, 1, 0, 0, 0, 1, 0, 1, 1, 0, 0, 1, 1, 0, 0,\n",
       "       1, 0, 1, 0, 1, 0, 0, 0, 0, 0, 0, 0, 0, 0, 1, 1, 0, 0, 0, 0, 0, 1,\n",
       "       1, 0, 0, 0, 1, 1, 0, 0, 1, 1, 0, 0, 0, 0, 0, 1, 0, 0, 0, 1, 1, 1,\n",
       "       1, 0, 0, 1, 1, 0, 1, 0, 1, 0, 0, 1, 0, 1, 0, 0, 0, 0, 0, 0, 1, 1,\n",
       "       1, 0, 1, 0, 1, 0, 0, 0, 1, 0, 1, 0, 1, 0, 0, 0, 1, 0, 0, 0, 0, 0,\n",
       "       0, 1, 1, 1, 1, 0, 0, 1, 0, 1, 1, 0, 1, 0, 0, 1, 0, 1, 0, 0, 0, 0,\n",
       "       0, 0, 0, 0, 0, 0, 1, 0, 0, 1, 1, 0, 0, 0, 0, 0, 0, 0, 1, 0, 0, 1,\n",
       "       0, 0, 1, 1, 0, 1, 1, 0, 1, 0, 0, 1, 0, 0, 1, 1, 0, 0, 0, 0, 0, 1,\n",
       "       1, 0, 1, 1, 0, 0, 1, 0, 1, 0, 1, 0, 0, 0, 0, 0, 0, 0, 1, 0, 0, 1,\n",
       "       0, 1, 1, 0, 0, 1, 0, 0, 1, 0, 1, 0, 0, 0, 0, 1, 0, 0, 1, 0, 1, 0,\n",
       "       1, 0, 1, 0, 1, 1, 0, 1, 0, 0, 0, 1, 0, 0, 0, 0, 0, 0, 1, 1, 1, 1,\n",
       "       0, 0, 0, 0, 1, 0, 1, 1, 1, 0, 0, 0, 0, 0, 0, 0, 1, 0, 0, 0, 1, 1,\n",
       "       0, 0, 0, 0, 1, 0, 0, 0, 1, 1, 0, 1, 0, 0, 0, 0, 1, 0, 1, 1, 1, 0,\n",
       "       0, 0, 0, 0, 0, 1, 0, 0, 0, 0, 1, 0, 0, 0, 0, 0, 0, 0, 1, 1, 1, 0,\n",
       "       0, 1, 0, 0, 0, 1, 1, 1, 0, 0, 0, 0, 0, 0, 0, 0, 1, 0, 1, 0, 0, 0,\n",
       "       1, 0, 0, 1, 0, 0, 0, 0, 0, 0, 0, 0, 0, 1, 0, 1, 0, 1, 0, 1, 1, 0,\n",
       "       0, 0, 0, 0, 1, 0, 0, 1, 0, 1, 1, 0, 1, 0, 0, 1, 1, 0, 0, 1, 0, 0,\n",
       "       1, 1, 1, 0, 0, 0, 0, 0, 1, 1, 0, 1, 0, 0, 0, 0, 0, 1, 0, 0, 0, 1,\n",
       "       0, 1, 0, 0, 1, 0, 1, 0, 0, 0, 0, 0, 1, 1, 1, 1, 1, 0, 1, 0, 0, 0])"
      ]
     },
     "execution_count": 46,
     "metadata": {},
     "output_type": "execute_result"
    }
   ],
   "source": [
    "predictions"
   ]
  },
  {
   "cell_type": "code",
   "execution_count": 47,
   "id": "bc8c600b",
   "metadata": {
    "execution": {
     "iopub.execute_input": "2022-06-03T11:37:25.639524Z",
     "iopub.status.busy": "2022-06-03T11:37:25.639019Z",
     "iopub.status.idle": "2022-06-03T11:37:25.643396Z",
     "shell.execute_reply": "2022-06-03T11:37:25.642730Z"
    },
    "papermill": {
     "duration": 0.021976,
     "end_time": "2022-06-03T11:37:25.645149",
     "exception": false,
     "start_time": "2022-06-03T11:37:25.623173",
     "status": "completed"
    },
    "tags": []
   },
   "outputs": [
    {
     "data": {
      "text/plain": [
       "numpy.ndarray"
      ]
     },
     "execution_count": 47,
     "metadata": {},
     "output_type": "execute_result"
    }
   ],
   "source": [
    "type(predictions)"
   ]
  },
  {
   "cell_type": "code",
   "execution_count": 48,
   "id": "3c02974d",
   "metadata": {
    "execution": {
     "iopub.execute_input": "2022-06-03T11:37:25.676027Z",
     "iopub.status.busy": "2022-06-03T11:37:25.675517Z",
     "iopub.status.idle": "2022-06-03T11:37:25.679752Z",
     "shell.execute_reply": "2022-06-03T11:37:25.679059Z"
    },
    "papermill": {
     "duration": 0.022212,
     "end_time": "2022-06-03T11:37:25.681677",
     "exception": false,
     "start_time": "2022-06-03T11:37:25.659465",
     "status": "completed"
    },
    "tags": []
   },
   "outputs": [],
   "source": [
    "output = pd.DataFrame({'PassengerId': test_data.PassengerId, 'Survived': predictions})"
   ]
  },
  {
   "cell_type": "code",
   "execution_count": 49,
   "id": "5af305aa",
   "metadata": {
    "execution": {
     "iopub.execute_input": "2022-06-03T11:37:25.713839Z",
     "iopub.status.busy": "2022-06-03T11:37:25.712950Z",
     "iopub.status.idle": "2022-06-03T11:37:25.720586Z",
     "shell.execute_reply": "2022-06-03T11:37:25.719719Z"
    },
    "papermill": {
     "duration": 0.026708,
     "end_time": "2022-06-03T11:37:25.722714",
     "exception": false,
     "start_time": "2022-06-03T11:37:25.696006",
     "status": "completed"
    },
    "tags": []
   },
   "outputs": [],
   "source": [
    "output.to_csv('submission.csv', index=False)"
   ]
  },
  {
   "cell_type": "code",
   "execution_count": 50,
   "id": "cc9ae38d",
   "metadata": {
    "execution": {
     "iopub.execute_input": "2022-06-03T11:37:25.753078Z",
     "iopub.status.busy": "2022-06-03T11:37:25.752313Z",
     "iopub.status.idle": "2022-06-03T11:37:25.757761Z",
     "shell.execute_reply": "2022-06-03T11:37:25.756807Z"
    },
    "papermill": {
     "duration": 0.022852,
     "end_time": "2022-06-03T11:37:25.759700",
     "exception": false,
     "start_time": "2022-06-03T11:37:25.736848",
     "status": "completed"
    },
    "tags": []
   },
   "outputs": [
    {
     "name": "stdout",
     "output_type": "stream",
     "text": [
      "You submission was successfully saved!\n"
     ]
    }
   ],
   "source": [
    "print(\"You submission was successfully saved!\")"
   ]
  },
  {
   "cell_type": "code",
   "execution_count": null,
   "id": "2fe0312f",
   "metadata": {
    "papermill": {
     "duration": 0.014594,
     "end_time": "2022-06-03T11:37:25.789135",
     "exception": false,
     "start_time": "2022-06-03T11:37:25.774541",
     "status": "completed"
    },
    "tags": []
   },
   "outputs": [],
   "source": []
  },
  {
   "cell_type": "code",
   "execution_count": null,
   "id": "c54798c0",
   "metadata": {
    "papermill": {
     "duration": 0.014376,
     "end_time": "2022-06-03T11:37:25.817537",
     "exception": false,
     "start_time": "2022-06-03T11:37:25.803161",
     "status": "completed"
    },
    "tags": []
   },
   "outputs": [],
   "source": []
  },
  {
   "cell_type": "code",
   "execution_count": null,
   "id": "47af73a7",
   "metadata": {
    "papermill": {
     "duration": 0.013573,
     "end_time": "2022-06-03T11:37:25.845123",
     "exception": false,
     "start_time": "2022-06-03T11:37:25.831550",
     "status": "completed"
    },
    "tags": []
   },
   "outputs": [],
   "source": []
  },
  {
   "cell_type": "code",
   "execution_count": null,
   "id": "6b74744f",
   "metadata": {
    "papermill": {
     "duration": 0.013478,
     "end_time": "2022-06-03T11:37:25.872426",
     "exception": false,
     "start_time": "2022-06-03T11:37:25.858948",
     "status": "completed"
    },
    "tags": []
   },
   "outputs": [],
   "source": []
  },
  {
   "cell_type": "code",
   "execution_count": null,
   "id": "03db6060",
   "metadata": {
    "papermill": {
     "duration": 0.013474,
     "end_time": "2022-06-03T11:37:25.899676",
     "exception": false,
     "start_time": "2022-06-03T11:37:25.886202",
     "status": "completed"
    },
    "tags": []
   },
   "outputs": [],
   "source": []
  },
  {
   "cell_type": "code",
   "execution_count": null,
   "id": "b6dcad67",
   "metadata": {
    "papermill": {
     "duration": 0.013603,
     "end_time": "2022-06-03T11:37:25.927021",
     "exception": false,
     "start_time": "2022-06-03T11:37:25.913418",
     "status": "completed"
    },
    "tags": []
   },
   "outputs": [],
   "source": []
  },
  {
   "cell_type": "code",
   "execution_count": null,
   "id": "2293ec57",
   "metadata": {
    "papermill": {
     "duration": 0.01419,
     "end_time": "2022-06-03T11:37:25.956115",
     "exception": false,
     "start_time": "2022-06-03T11:37:25.941925",
     "status": "completed"
    },
    "tags": []
   },
   "outputs": [],
   "source": []
  },
  {
   "cell_type": "code",
   "execution_count": null,
   "id": "2ec94157",
   "metadata": {
    "papermill": {
     "duration": 0.01363,
     "end_time": "2022-06-03T11:37:25.983721",
     "exception": false,
     "start_time": "2022-06-03T11:37:25.970091",
     "status": "completed"
    },
    "tags": []
   },
   "outputs": [],
   "source": []
  },
  {
   "cell_type": "code",
   "execution_count": null,
   "id": "09ade0a0",
   "metadata": {
    "papermill": {
     "duration": 0.013777,
     "end_time": "2022-06-03T11:37:26.011238",
     "exception": false,
     "start_time": "2022-06-03T11:37:25.997461",
     "status": "completed"
    },
    "tags": []
   },
   "outputs": [],
   "source": []
  },
  {
   "cell_type": "code",
   "execution_count": null,
   "id": "2c368d13",
   "metadata": {
    "papermill": {
     "duration": 0.0138,
     "end_time": "2022-06-03T11:37:26.038968",
     "exception": false,
     "start_time": "2022-06-03T11:37:26.025168",
     "status": "completed"
    },
    "tags": []
   },
   "outputs": [],
   "source": []
  },
  {
   "cell_type": "code",
   "execution_count": null,
   "id": "1e759825",
   "metadata": {
    "papermill": {
     "duration": 0.013485,
     "end_time": "2022-06-03T11:37:26.066990",
     "exception": false,
     "start_time": "2022-06-03T11:37:26.053505",
     "status": "completed"
    },
    "tags": []
   },
   "outputs": [],
   "source": []
  },
  {
   "cell_type": "code",
   "execution_count": null,
   "id": "6035acdb",
   "metadata": {
    "papermill": {
     "duration": 0.013504,
     "end_time": "2022-06-03T11:37:26.094745",
     "exception": false,
     "start_time": "2022-06-03T11:37:26.081241",
     "status": "completed"
    },
    "tags": []
   },
   "outputs": [],
   "source": []
  }
 ],
 "metadata": {
  "kernelspec": {
   "display_name": "Python 3",
   "language": "python",
   "name": "python3"
  },
  "language_info": {
   "codemirror_mode": {
    "name": "ipython",
    "version": 3
   },
   "file_extension": ".py",
   "mimetype": "text/x-python",
   "name": "python",
   "nbconvert_exporter": "python",
   "pygments_lexer": "ipython3",
   "version": "3.7.12"
  },
  "papermill": {
   "default_parameters": {},
   "duration": 13.326319,
   "end_time": "2022-06-03T11:37:26.828450",
   "environment_variables": {},
   "exception": null,
   "input_path": "__notebook__.ipynb",
   "output_path": "__notebook__.ipynb",
   "parameters": {},
   "start_time": "2022-06-03T11:37:13.502131",
   "version": "2.3.4"
  }
 },
 "nbformat": 4,
 "nbformat_minor": 5
}
