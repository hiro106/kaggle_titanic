{
 "cells": [
  {
   "cell_type": "code",
   "execution_count": 1,
   "id": "8d7486f1",
   "metadata": {
    "_cell_guid": "b1076dfc-b9ad-4769-8c92-a6c4dae69d19",
    "_uuid": "8f2839f25d086af736a60e9eeb907d3b93b6e0e5",
    "execution": {
     "iopub.execute_input": "2022-06-03T11:26:08.761376Z",
     "iopub.status.busy": "2022-06-03T11:26:08.760609Z",
     "iopub.status.idle": "2022-06-03T11:26:08.778793Z",
     "shell.execute_reply": "2022-06-03T11:26:08.777714Z"
    },
    "papermill": {
     "duration": 0.038739,
     "end_time": "2022-06-03T11:26:08.781999",
     "exception": false,
     "start_time": "2022-06-03T11:26:08.743260",
     "status": "completed"
    },
    "tags": []
   },
   "outputs": [
    {
     "name": "stdout",
     "output_type": "stream",
     "text": [
      "/kaggle/input/titanic/train.csv\n",
      "/kaggle/input/titanic/test.csv\n",
      "/kaggle/input/titanic/gender_submission.csv\n"
     ]
    }
   ],
   "source": [
    "# This Python 3 environment comes with many helpful analytics libraries installed\n",
    "# It is defined by the kaggle/python Docker image: https://github.com/kaggle/docker-python\n",
    "# For example, here's several helpful packages to load\n",
    "\n",
    "import numpy as np # linear algebra\n",
    "import pandas as pd # data processing, CSV file I/O (e.g. pd.read_csv)\n",
    "\n",
    "# Input data files are available in the read-only \"../input/\" directory\n",
    "# For example, running this (by clicking run or pressing Shift+Enter) will list all files under the input directory\n",
    "\n",
    "import os\n",
    "for dirname, _, filenames in os.walk('/kaggle/input'):\n",
    "    for filename in filenames:\n",
    "        print(os.path.join(dirname, filename))\n",
    "\n",
    "# You can write up to 20GB to the current directory (/kaggle/working/) that gets preserved as output when you create a version using \"Save & Run All\" \n",
    "# You can also write temporary files to /kaggle/temp/, but they won't be saved outside of the current session"
   ]
  },
  {
   "cell_type": "code",
   "execution_count": 2,
   "id": "68ca0d24",
   "metadata": {
    "execution": {
     "iopub.execute_input": "2022-06-03T11:26:08.811247Z",
     "iopub.status.busy": "2022-06-03T11:26:08.810821Z",
     "iopub.status.idle": "2022-06-03T11:26:08.819802Z",
     "shell.execute_reply": "2022-06-03T11:26:08.818745Z"
    },
    "papermill": {
     "duration": 0.026431,
     "end_time": "2022-06-03T11:26:08.822908",
     "exception": false,
     "start_time": "2022-06-03T11:26:08.796477",
     "status": "completed"
    },
    "tags": []
   },
   "outputs": [
    {
     "data": {
      "text/plain": [
       "<generator object walk at 0x7f81d0d9e350>"
      ]
     },
     "execution_count": 2,
     "metadata": {},
     "output_type": "execute_result"
    }
   ],
   "source": [
    "os.walk('/kaggle/input')"
   ]
  },
  {
   "cell_type": "code",
   "execution_count": 3,
   "id": "2fa2fa6d",
   "metadata": {
    "execution": {
     "iopub.execute_input": "2022-06-03T11:26:08.852293Z",
     "iopub.status.busy": "2022-06-03T11:26:08.851835Z",
     "iopub.status.idle": "2022-06-03T11:26:08.860059Z",
     "shell.execute_reply": "2022-06-03T11:26:08.858903Z"
    },
    "papermill": {
     "duration": 0.025734,
     "end_time": "2022-06-03T11:26:08.862291",
     "exception": false,
     "start_time": "2022-06-03T11:26:08.836557",
     "status": "completed"
    },
    "tags": []
   },
   "outputs": [
    {
     "data": {
      "text/plain": [
       "[('/kaggle/input', ['titanic'], []),\n",
       " ('/kaggle/input/titanic',\n",
       "  [],\n",
       "  ['train.csv', 'test.csv', 'gender_submission.csv'])]"
      ]
     },
     "execution_count": 3,
     "metadata": {},
     "output_type": "execute_result"
    }
   ],
   "source": [
    "list(os.walk('/kaggle/input'))"
   ]
  },
  {
   "cell_type": "code",
   "execution_count": 4,
   "id": "a12f4eac",
   "metadata": {
    "execution": {
     "iopub.execute_input": "2022-06-03T11:26:08.890630Z",
     "iopub.status.busy": "2022-06-03T11:26:08.890035Z",
     "iopub.status.idle": "2022-06-03T11:26:08.897025Z",
     "shell.execute_reply": "2022-06-03T11:26:08.896335Z"
    },
    "papermill": {
     "duration": 0.023549,
     "end_time": "2022-06-03T11:26:08.899111",
     "exception": false,
     "start_time": "2022-06-03T11:26:08.875562",
     "status": "completed"
    },
    "tags": []
   },
   "outputs": [
    {
     "data": {
      "text/plain": [
       "[('/kaggle', ['src', 'lib', 'input', 'working'], []),\n",
       " ('/kaggle/src', [], ['script.ipynb']),\n",
       " ('/kaggle/lib', ['kaggle'], []),\n",
       " ('/kaggle/lib/kaggle', [], ['gcp.py']),\n",
       " ('/kaggle/input', ['titanic'], []),\n",
       " ('/kaggle/input/titanic',\n",
       "  [],\n",
       "  ['train.csv', 'test.csv', 'gender_submission.csv']),\n",
       " ('/kaggle/working', [], ['__notebook__.ipynb'])]"
      ]
     },
     "execution_count": 4,
     "metadata": {},
     "output_type": "execute_result"
    }
   ],
   "source": [
    "list(os.walk('/kaggle'))"
   ]
  },
  {
   "cell_type": "code",
   "execution_count": 5,
   "id": "d11cf669",
   "metadata": {
    "execution": {
     "iopub.execute_input": "2022-06-03T11:26:08.928910Z",
     "iopub.status.busy": "2022-06-03T11:26:08.928315Z",
     "iopub.status.idle": "2022-06-03T11:26:08.931922Z",
     "shell.execute_reply": "2022-06-03T11:26:08.931209Z"
    },
    "papermill": {
     "duration": 0.020392,
     "end_time": "2022-06-03T11:26:08.933969",
     "exception": false,
     "start_time": "2022-06-03T11:26:08.913577",
     "status": "completed"
    },
    "tags": []
   },
   "outputs": [],
   "source": [
    "# len(list(os.walk('/')))"
   ]
  },
  {
   "cell_type": "code",
   "execution_count": 6,
   "id": "84e745fc",
   "metadata": {
    "execution": {
     "iopub.execute_input": "2022-06-03T11:26:08.963280Z",
     "iopub.status.busy": "2022-06-03T11:26:08.962681Z",
     "iopub.status.idle": "2022-06-03T11:26:08.983693Z",
     "shell.execute_reply": "2022-06-03T11:26:08.982604Z"
    },
    "papermill": {
     "duration": 0.038296,
     "end_time": "2022-06-03T11:26:08.986316",
     "exception": false,
     "start_time": "2022-06-03T11:26:08.948020",
     "status": "completed"
    },
    "tags": []
   },
   "outputs": [],
   "source": [
    "train_data = pd.read_csv(\"/kaggle/input/titanic/train.csv\")"
   ]
  },
  {
   "cell_type": "code",
   "execution_count": 7,
   "id": "9109b7e5",
   "metadata": {
    "execution": {
     "iopub.execute_input": "2022-06-03T11:26:09.016198Z",
     "iopub.status.busy": "2022-06-03T11:26:09.015518Z",
     "iopub.status.idle": "2022-06-03T11:26:09.039538Z",
     "shell.execute_reply": "2022-06-03T11:26:09.038735Z"
    },
    "papermill": {
     "duration": 0.040982,
     "end_time": "2022-06-03T11:26:09.041421",
     "exception": false,
     "start_time": "2022-06-03T11:26:09.000439",
     "status": "completed"
    },
    "tags": []
   },
   "outputs": [
    {
     "data": {
      "text/html": [
       "<div>\n",
       "<style scoped>\n",
       "    .dataframe tbody tr th:only-of-type {\n",
       "        vertical-align: middle;\n",
       "    }\n",
       "\n",
       "    .dataframe tbody tr th {\n",
       "        vertical-align: top;\n",
       "    }\n",
       "\n",
       "    .dataframe thead th {\n",
       "        text-align: right;\n",
       "    }\n",
       "</style>\n",
       "<table border=\"1\" class=\"dataframe\">\n",
       "  <thead>\n",
       "    <tr style=\"text-align: right;\">\n",
       "      <th></th>\n",
       "      <th>PassengerId</th>\n",
       "      <th>Survived</th>\n",
       "      <th>Pclass</th>\n",
       "      <th>Name</th>\n",
       "      <th>Sex</th>\n",
       "      <th>Age</th>\n",
       "      <th>SibSp</th>\n",
       "      <th>Parch</th>\n",
       "      <th>Ticket</th>\n",
       "      <th>Fare</th>\n",
       "      <th>Cabin</th>\n",
       "      <th>Embarked</th>\n",
       "    </tr>\n",
       "  </thead>\n",
       "  <tbody>\n",
       "    <tr>\n",
       "      <th>0</th>\n",
       "      <td>1</td>\n",
       "      <td>0</td>\n",
       "      <td>3</td>\n",
       "      <td>Braund, Mr. Owen Harris</td>\n",
       "      <td>male</td>\n",
       "      <td>22.0</td>\n",
       "      <td>1</td>\n",
       "      <td>0</td>\n",
       "      <td>A/5 21171</td>\n",
       "      <td>7.2500</td>\n",
       "      <td>NaN</td>\n",
       "      <td>S</td>\n",
       "    </tr>\n",
       "    <tr>\n",
       "      <th>1</th>\n",
       "      <td>2</td>\n",
       "      <td>1</td>\n",
       "      <td>1</td>\n",
       "      <td>Cumings, Mrs. John Bradley (Florence Briggs Th...</td>\n",
       "      <td>female</td>\n",
       "      <td>38.0</td>\n",
       "      <td>1</td>\n",
       "      <td>0</td>\n",
       "      <td>PC 17599</td>\n",
       "      <td>71.2833</td>\n",
       "      <td>C85</td>\n",
       "      <td>C</td>\n",
       "    </tr>\n",
       "    <tr>\n",
       "      <th>2</th>\n",
       "      <td>3</td>\n",
       "      <td>1</td>\n",
       "      <td>3</td>\n",
       "      <td>Heikkinen, Miss. Laina</td>\n",
       "      <td>female</td>\n",
       "      <td>26.0</td>\n",
       "      <td>0</td>\n",
       "      <td>0</td>\n",
       "      <td>STON/O2. 3101282</td>\n",
       "      <td>7.9250</td>\n",
       "      <td>NaN</td>\n",
       "      <td>S</td>\n",
       "    </tr>\n",
       "    <tr>\n",
       "      <th>3</th>\n",
       "      <td>4</td>\n",
       "      <td>1</td>\n",
       "      <td>1</td>\n",
       "      <td>Futrelle, Mrs. Jacques Heath (Lily May Peel)</td>\n",
       "      <td>female</td>\n",
       "      <td>35.0</td>\n",
       "      <td>1</td>\n",
       "      <td>0</td>\n",
       "      <td>113803</td>\n",
       "      <td>53.1000</td>\n",
       "      <td>C123</td>\n",
       "      <td>S</td>\n",
       "    </tr>\n",
       "    <tr>\n",
       "      <th>4</th>\n",
       "      <td>5</td>\n",
       "      <td>0</td>\n",
       "      <td>3</td>\n",
       "      <td>Allen, Mr. William Henry</td>\n",
       "      <td>male</td>\n",
       "      <td>35.0</td>\n",
       "      <td>0</td>\n",
       "      <td>0</td>\n",
       "      <td>373450</td>\n",
       "      <td>8.0500</td>\n",
       "      <td>NaN</td>\n",
       "      <td>S</td>\n",
       "    </tr>\n",
       "  </tbody>\n",
       "</table>\n",
       "</div>"
      ],
      "text/plain": [
       "   PassengerId  Survived  Pclass  \\\n",
       "0            1         0       3   \n",
       "1            2         1       1   \n",
       "2            3         1       3   \n",
       "3            4         1       1   \n",
       "4            5         0       3   \n",
       "\n",
       "                                                Name     Sex   Age  SibSp  \\\n",
       "0                            Braund, Mr. Owen Harris    male  22.0      1   \n",
       "1  Cumings, Mrs. John Bradley (Florence Briggs Th...  female  38.0      1   \n",
       "2                             Heikkinen, Miss. Laina  female  26.0      0   \n",
       "3       Futrelle, Mrs. Jacques Heath (Lily May Peel)  female  35.0      1   \n",
       "4                           Allen, Mr. William Henry    male  35.0      0   \n",
       "\n",
       "   Parch            Ticket     Fare Cabin Embarked  \n",
       "0      0         A/5 21171   7.2500   NaN        S  \n",
       "1      0          PC 17599  71.2833   C85        C  \n",
       "2      0  STON/O2. 3101282   7.9250   NaN        S  \n",
       "3      0            113803  53.1000  C123        S  \n",
       "4      0            373450   8.0500   NaN        S  "
      ]
     },
     "execution_count": 7,
     "metadata": {},
     "output_type": "execute_result"
    }
   ],
   "source": [
    "train_data.head()"
   ]
  },
  {
   "cell_type": "code",
   "execution_count": 8,
   "id": "05c2f01f",
   "metadata": {
    "execution": {
     "iopub.execute_input": "2022-06-03T11:26:09.071101Z",
     "iopub.status.busy": "2022-06-03T11:26:09.070507Z",
     "iopub.status.idle": "2022-06-03T11:26:09.082788Z",
     "shell.execute_reply": "2022-06-03T11:26:09.081672Z"
    },
    "papermill": {
     "duration": 0.030141,
     "end_time": "2022-06-03T11:26:09.085240",
     "exception": false,
     "start_time": "2022-06-03T11:26:09.055099",
     "status": "completed"
    },
    "tags": []
   },
   "outputs": [],
   "source": [
    "test_data = pd.read_csv(\"/kaggle/input/titanic/test.csv\")"
   ]
  },
  {
   "cell_type": "code",
   "execution_count": 9,
   "id": "a4458f12",
   "metadata": {
    "execution": {
     "iopub.execute_input": "2022-06-03T11:26:09.114755Z",
     "iopub.status.busy": "2022-06-03T11:26:09.114181Z",
     "iopub.status.idle": "2022-06-03T11:26:09.129014Z",
     "shell.execute_reply": "2022-06-03T11:26:09.128234Z"
    },
    "papermill": {
     "duration": 0.031949,
     "end_time": "2022-06-03T11:26:09.131008",
     "exception": false,
     "start_time": "2022-06-03T11:26:09.099059",
     "status": "completed"
    },
    "tags": []
   },
   "outputs": [
    {
     "data": {
      "text/html": [
       "<div>\n",
       "<style scoped>\n",
       "    .dataframe tbody tr th:only-of-type {\n",
       "        vertical-align: middle;\n",
       "    }\n",
       "\n",
       "    .dataframe tbody tr th {\n",
       "        vertical-align: top;\n",
       "    }\n",
       "\n",
       "    .dataframe thead th {\n",
       "        text-align: right;\n",
       "    }\n",
       "</style>\n",
       "<table border=\"1\" class=\"dataframe\">\n",
       "  <thead>\n",
       "    <tr style=\"text-align: right;\">\n",
       "      <th></th>\n",
       "      <th>PassengerId</th>\n",
       "      <th>Pclass</th>\n",
       "      <th>Name</th>\n",
       "      <th>Sex</th>\n",
       "      <th>Age</th>\n",
       "      <th>SibSp</th>\n",
       "      <th>Parch</th>\n",
       "      <th>Ticket</th>\n",
       "      <th>Fare</th>\n",
       "      <th>Cabin</th>\n",
       "      <th>Embarked</th>\n",
       "    </tr>\n",
       "  </thead>\n",
       "  <tbody>\n",
       "    <tr>\n",
       "      <th>0</th>\n",
       "      <td>892</td>\n",
       "      <td>3</td>\n",
       "      <td>Kelly, Mr. James</td>\n",
       "      <td>male</td>\n",
       "      <td>34.5</td>\n",
       "      <td>0</td>\n",
       "      <td>0</td>\n",
       "      <td>330911</td>\n",
       "      <td>7.8292</td>\n",
       "      <td>NaN</td>\n",
       "      <td>Q</td>\n",
       "    </tr>\n",
       "    <tr>\n",
       "      <th>1</th>\n",
       "      <td>893</td>\n",
       "      <td>3</td>\n",
       "      <td>Wilkes, Mrs. James (Ellen Needs)</td>\n",
       "      <td>female</td>\n",
       "      <td>47.0</td>\n",
       "      <td>1</td>\n",
       "      <td>0</td>\n",
       "      <td>363272</td>\n",
       "      <td>7.0000</td>\n",
       "      <td>NaN</td>\n",
       "      <td>S</td>\n",
       "    </tr>\n",
       "    <tr>\n",
       "      <th>2</th>\n",
       "      <td>894</td>\n",
       "      <td>2</td>\n",
       "      <td>Myles, Mr. Thomas Francis</td>\n",
       "      <td>male</td>\n",
       "      <td>62.0</td>\n",
       "      <td>0</td>\n",
       "      <td>0</td>\n",
       "      <td>240276</td>\n",
       "      <td>9.6875</td>\n",
       "      <td>NaN</td>\n",
       "      <td>Q</td>\n",
       "    </tr>\n",
       "    <tr>\n",
       "      <th>3</th>\n",
       "      <td>895</td>\n",
       "      <td>3</td>\n",
       "      <td>Wirz, Mr. Albert</td>\n",
       "      <td>male</td>\n",
       "      <td>27.0</td>\n",
       "      <td>0</td>\n",
       "      <td>0</td>\n",
       "      <td>315154</td>\n",
       "      <td>8.6625</td>\n",
       "      <td>NaN</td>\n",
       "      <td>S</td>\n",
       "    </tr>\n",
       "    <tr>\n",
       "      <th>4</th>\n",
       "      <td>896</td>\n",
       "      <td>3</td>\n",
       "      <td>Hirvonen, Mrs. Alexander (Helga E Lindqvist)</td>\n",
       "      <td>female</td>\n",
       "      <td>22.0</td>\n",
       "      <td>1</td>\n",
       "      <td>1</td>\n",
       "      <td>3101298</td>\n",
       "      <td>12.2875</td>\n",
       "      <td>NaN</td>\n",
       "      <td>S</td>\n",
       "    </tr>\n",
       "  </tbody>\n",
       "</table>\n",
       "</div>"
      ],
      "text/plain": [
       "   PassengerId  Pclass                                          Name     Sex  \\\n",
       "0          892       3                              Kelly, Mr. James    male   \n",
       "1          893       3              Wilkes, Mrs. James (Ellen Needs)  female   \n",
       "2          894       2                     Myles, Mr. Thomas Francis    male   \n",
       "3          895       3                              Wirz, Mr. Albert    male   \n",
       "4          896       3  Hirvonen, Mrs. Alexander (Helga E Lindqvist)  female   \n",
       "\n",
       "    Age  SibSp  Parch   Ticket     Fare Cabin Embarked  \n",
       "0  34.5      0      0   330911   7.8292   NaN        Q  \n",
       "1  47.0      1      0   363272   7.0000   NaN        S  \n",
       "2  62.0      0      0   240276   9.6875   NaN        Q  \n",
       "3  27.0      0      0   315154   8.6625   NaN        S  \n",
       "4  22.0      1      1  3101298  12.2875   NaN        S  "
      ]
     },
     "execution_count": 9,
     "metadata": {},
     "output_type": "execute_result"
    }
   ],
   "source": [
    "test_data.head()"
   ]
  },
  {
   "cell_type": "code",
   "execution_count": 10,
   "id": "22a95a47",
   "metadata": {
    "execution": {
     "iopub.execute_input": "2022-06-03T11:26:09.161170Z",
     "iopub.status.busy": "2022-06-03T11:26:09.160763Z",
     "iopub.status.idle": "2022-06-03T11:26:09.167207Z",
     "shell.execute_reply": "2022-06-03T11:26:09.166004Z"
    },
    "papermill": {
     "duration": 0.023913,
     "end_time": "2022-06-03T11:26:09.169404",
     "exception": false,
     "start_time": "2022-06-03T11:26:09.145491",
     "status": "completed"
    },
    "tags": []
   },
   "outputs": [
    {
     "data": {
      "text/plain": [
       "pandas.core.frame.DataFrame"
      ]
     },
     "execution_count": 10,
     "metadata": {},
     "output_type": "execute_result"
    }
   ],
   "source": [
    "type(test_data)"
   ]
  },
  {
   "cell_type": "code",
   "execution_count": 11,
   "id": "73c053f0",
   "metadata": {
    "execution": {
     "iopub.execute_input": "2022-06-03T11:26:09.199000Z",
     "iopub.status.busy": "2022-06-03T11:26:09.198047Z",
     "iopub.status.idle": "2022-06-03T11:26:09.204372Z",
     "shell.execute_reply": "2022-06-03T11:26:09.203648Z"
    },
    "papermill": {
     "duration": 0.023109,
     "end_time": "2022-06-03T11:26:09.206269",
     "exception": false,
     "start_time": "2022-06-03T11:26:09.183160",
     "status": "completed"
    },
    "tags": []
   },
   "outputs": [
    {
     "data": {
      "text/plain": [
       "418"
      ]
     },
     "execution_count": 11,
     "metadata": {},
     "output_type": "execute_result"
    }
   ],
   "source": [
    "len(test_data)"
   ]
  },
  {
   "cell_type": "code",
   "execution_count": 12,
   "id": "f30fa1da",
   "metadata": {
    "execution": {
     "iopub.execute_input": "2022-06-03T11:26:09.237722Z",
     "iopub.status.busy": "2022-06-03T11:26:09.237057Z",
     "iopub.status.idle": "2022-06-03T11:26:09.242473Z",
     "shell.execute_reply": "2022-06-03T11:26:09.241553Z"
    },
    "papermill": {
     "duration": 0.023451,
     "end_time": "2022-06-03T11:26:09.244382",
     "exception": false,
     "start_time": "2022-06-03T11:26:09.220931",
     "status": "completed"
    },
    "tags": []
   },
   "outputs": [
    {
     "data": {
      "text/plain": [
       "(418, 11)"
      ]
     },
     "execution_count": 12,
     "metadata": {},
     "output_type": "execute_result"
    }
   ],
   "source": [
    "test_data.shape"
   ]
  },
  {
   "cell_type": "code",
   "execution_count": 13,
   "id": "4c2b3abc",
   "metadata": {
    "execution": {
     "iopub.execute_input": "2022-06-03T11:26:09.275220Z",
     "iopub.status.busy": "2022-06-03T11:26:09.274806Z",
     "iopub.status.idle": "2022-06-03T11:26:09.302287Z",
     "shell.execute_reply": "2022-06-03T11:26:09.301233Z"
    },
    "papermill": {
     "duration": 0.045397,
     "end_time": "2022-06-03T11:26:09.304601",
     "exception": false,
     "start_time": "2022-06-03T11:26:09.259204",
     "status": "completed"
    },
    "tags": []
   },
   "outputs": [
    {
     "name": "stdout",
     "output_type": "stream",
     "text": [
      "<class 'pandas.core.frame.DataFrame'>\n",
      "RangeIndex: 418 entries, 0 to 417\n",
      "Data columns (total 11 columns):\n",
      " #   Column       Non-Null Count  Dtype  \n",
      "---  ------       --------------  -----  \n",
      " 0   PassengerId  418 non-null    int64  \n",
      " 1   Pclass       418 non-null    int64  \n",
      " 2   Name         418 non-null    object \n",
      " 3   Sex          418 non-null    object \n",
      " 4   Age          332 non-null    float64\n",
      " 5   SibSp        418 non-null    int64  \n",
      " 6   Parch        418 non-null    int64  \n",
      " 7   Ticket       418 non-null    object \n",
      " 8   Fare         417 non-null    float64\n",
      " 9   Cabin        91 non-null     object \n",
      " 10  Embarked     418 non-null    object \n",
      "dtypes: float64(2), int64(4), object(5)\n",
      "memory usage: 36.0+ KB\n"
     ]
    }
   ],
   "source": [
    "test_data.info()"
   ]
  },
  {
   "cell_type": "code",
   "execution_count": 14,
   "id": "4ad69306",
   "metadata": {
    "execution": {
     "iopub.execute_input": "2022-06-03T11:26:09.334819Z",
     "iopub.status.busy": "2022-06-03T11:26:09.334431Z",
     "iopub.status.idle": "2022-06-03T11:26:09.341190Z",
     "shell.execute_reply": "2022-06-03T11:26:09.339955Z"
    },
    "papermill": {
     "duration": 0.024517,
     "end_time": "2022-06-03T11:26:09.343313",
     "exception": false,
     "start_time": "2022-06-03T11:26:09.318796",
     "status": "completed"
    },
    "tags": []
   },
   "outputs": [
    {
     "data": {
      "text/plain": [
       "4598"
      ]
     },
     "execution_count": 14,
     "metadata": {},
     "output_type": "execute_result"
    }
   ],
   "source": [
    "test_data.size"
   ]
  },
  {
   "cell_type": "code",
   "execution_count": 15,
   "id": "5d251670",
   "metadata": {
    "execution": {
     "iopub.execute_input": "2022-06-03T11:26:09.372843Z",
     "iopub.status.busy": "2022-06-03T11:26:09.372069Z",
     "iopub.status.idle": "2022-06-03T11:26:09.378092Z",
     "shell.execute_reply": "2022-06-03T11:26:09.377388Z"
    },
    "papermill": {
     "duration": 0.022884,
     "end_time": "2022-06-03T11:26:09.380082",
     "exception": false,
     "start_time": "2022-06-03T11:26:09.357198",
     "status": "completed"
    },
    "tags": []
   },
   "outputs": [
    {
     "data": {
      "text/plain": [
       "11"
      ]
     },
     "execution_count": 15,
     "metadata": {},
     "output_type": "execute_result"
    }
   ],
   "source": [
    "len(test_data.columns)"
   ]
  },
  {
   "cell_type": "code",
   "execution_count": 16,
   "id": "8e592e2e",
   "metadata": {
    "execution": {
     "iopub.execute_input": "2022-06-03T11:26:09.409680Z",
     "iopub.status.busy": "2022-06-03T11:26:09.408964Z",
     "iopub.status.idle": "2022-06-03T11:26:09.417939Z",
     "shell.execute_reply": "2022-06-03T11:26:09.416788Z"
    },
    "papermill": {
     "duration": 0.026434,
     "end_time": "2022-06-03T11:26:09.420332",
     "exception": false,
     "start_time": "2022-06-03T11:26:09.393898",
     "status": "completed"
    },
    "tags": []
   },
   "outputs": [],
   "source": [
    "women = train_data.loc[train_data.Sex == 'female']['Survived']"
   ]
  },
  {
   "cell_type": "code",
   "execution_count": 17,
   "id": "e65e8d6b",
   "metadata": {
    "execution": {
     "iopub.execute_input": "2022-06-03T11:26:09.450338Z",
     "iopub.status.busy": "2022-06-03T11:26:09.449912Z",
     "iopub.status.idle": "2022-06-03T11:26:09.457932Z",
     "shell.execute_reply": "2022-06-03T11:26:09.456991Z"
    },
    "papermill": {
     "duration": 0.025193,
     "end_time": "2022-06-03T11:26:09.459869",
     "exception": false,
     "start_time": "2022-06-03T11:26:09.434676",
     "status": "completed"
    },
    "tags": []
   },
   "outputs": [
    {
     "data": {
      "text/plain": [
       "1      1\n",
       "2      1\n",
       "3      1\n",
       "8      1\n",
       "9      1\n",
       "      ..\n",
       "880    1\n",
       "882    0\n",
       "885    0\n",
       "887    1\n",
       "888    0\n",
       "Name: Survived, Length: 314, dtype: int64"
      ]
     },
     "execution_count": 17,
     "metadata": {},
     "output_type": "execute_result"
    }
   ],
   "source": [
    "women"
   ]
  },
  {
   "cell_type": "code",
   "execution_count": 18,
   "id": "6b15fd29",
   "metadata": {
    "execution": {
     "iopub.execute_input": "2022-06-03T11:26:09.489430Z",
     "iopub.status.busy": "2022-06-03T11:26:09.488882Z",
     "iopub.status.idle": "2022-06-03T11:26:09.494974Z",
     "shell.execute_reply": "2022-06-03T11:26:09.493982Z"
    },
    "papermill": {
     "duration": 0.023082,
     "end_time": "2022-06-03T11:26:09.496849",
     "exception": false,
     "start_time": "2022-06-03T11:26:09.473767",
     "status": "completed"
    },
    "tags": []
   },
   "outputs": [
    {
     "data": {
      "text/plain": [
       "233"
      ]
     },
     "execution_count": 18,
     "metadata": {},
     "output_type": "execute_result"
    }
   ],
   "source": [
    "sum(women)"
   ]
  },
  {
   "cell_type": "code",
   "execution_count": 19,
   "id": "a50139c5",
   "metadata": {
    "execution": {
     "iopub.execute_input": "2022-06-03T11:26:09.527267Z",
     "iopub.status.busy": "2022-06-03T11:26:09.526771Z",
     "iopub.status.idle": "2022-06-03T11:26:09.532076Z",
     "shell.execute_reply": "2022-06-03T11:26:09.531424Z"
    },
    "papermill": {
     "duration": 0.022675,
     "end_time": "2022-06-03T11:26:09.533977",
     "exception": false,
     "start_time": "2022-06-03T11:26:09.511302",
     "status": "completed"
    },
    "tags": []
   },
   "outputs": [
    {
     "data": {
      "text/plain": [
       "314"
      ]
     },
     "execution_count": 19,
     "metadata": {},
     "output_type": "execute_result"
    }
   ],
   "source": [
    "len(women)"
   ]
  },
  {
   "cell_type": "code",
   "execution_count": 20,
   "id": "840a5f2d",
   "metadata": {
    "execution": {
     "iopub.execute_input": "2022-06-03T11:26:09.565227Z",
     "iopub.status.busy": "2022-06-03T11:26:09.564830Z",
     "iopub.status.idle": "2022-06-03T11:26:09.570159Z",
     "shell.execute_reply": "2022-06-03T11:26:09.569375Z"
    },
    "papermill": {
     "duration": 0.023445,
     "end_time": "2022-06-03T11:26:09.572026",
     "exception": false,
     "start_time": "2022-06-03T11:26:09.548581",
     "status": "completed"
    },
    "tags": []
   },
   "outputs": [
    {
     "data": {
      "text/plain": [
       "pandas.core.series.Series"
      ]
     },
     "execution_count": 20,
     "metadata": {},
     "output_type": "execute_result"
    }
   ],
   "source": [
    "type(women)"
   ]
  },
  {
   "cell_type": "code",
   "execution_count": 21,
   "id": "1937d7ce",
   "metadata": {
    "execution": {
     "iopub.execute_input": "2022-06-03T11:26:09.603079Z",
     "iopub.status.busy": "2022-06-03T11:26:09.602474Z",
     "iopub.status.idle": "2022-06-03T11:26:09.606677Z",
     "shell.execute_reply": "2022-06-03T11:26:09.606053Z"
    },
    "papermill": {
     "duration": 0.021873,
     "end_time": "2022-06-03T11:26:09.608598",
     "exception": false,
     "start_time": "2022-06-03T11:26:09.586725",
     "status": "completed"
    },
    "tags": []
   },
   "outputs": [],
   "source": [
    "num01 = pd.Series([0,1,1,2,2])"
   ]
  },
  {
   "cell_type": "code",
   "execution_count": 22,
   "id": "8d6f5ead",
   "metadata": {
    "execution": {
     "iopub.execute_input": "2022-06-03T11:26:09.639016Z",
     "iopub.status.busy": "2022-06-03T11:26:09.638465Z",
     "iopub.status.idle": "2022-06-03T11:26:09.644572Z",
     "shell.execute_reply": "2022-06-03T11:26:09.643645Z"
    },
    "papermill": {
     "duration": 0.023714,
     "end_time": "2022-06-03T11:26:09.646693",
     "exception": false,
     "start_time": "2022-06-03T11:26:09.622979",
     "status": "completed"
    },
    "tags": []
   },
   "outputs": [
    {
     "data": {
      "text/plain": [
       "0    0\n",
       "1    1\n",
       "2    1\n",
       "3    2\n",
       "4    2\n",
       "dtype: int64"
      ]
     },
     "execution_count": 22,
     "metadata": {},
     "output_type": "execute_result"
    }
   ],
   "source": [
    "num01"
   ]
  },
  {
   "cell_type": "code",
   "execution_count": 23,
   "id": "55c78bb5",
   "metadata": {
    "execution": {
     "iopub.execute_input": "2022-06-03T11:26:09.677217Z",
     "iopub.status.busy": "2022-06-03T11:26:09.676779Z",
     "iopub.status.idle": "2022-06-03T11:26:09.682193Z",
     "shell.execute_reply": "2022-06-03T11:26:09.681496Z"
    },
    "papermill": {
     "duration": 0.022794,
     "end_time": "2022-06-03T11:26:09.684066",
     "exception": false,
     "start_time": "2022-06-03T11:26:09.661272",
     "status": "completed"
    },
    "tags": []
   },
   "outputs": [
    {
     "data": {
      "text/plain": [
       "6"
      ]
     },
     "execution_count": 23,
     "metadata": {},
     "output_type": "execute_result"
    }
   ],
   "source": [
    "sum(num01)"
   ]
  },
  {
   "cell_type": "code",
   "execution_count": 24,
   "id": "d1d156ea",
   "metadata": {
    "execution": {
     "iopub.execute_input": "2022-06-03T11:26:09.715460Z",
     "iopub.status.busy": "2022-06-03T11:26:09.714923Z",
     "iopub.status.idle": "2022-06-03T11:26:09.720709Z",
     "shell.execute_reply": "2022-06-03T11:26:09.720048Z"
    },
    "papermill": {
     "duration": 0.023806,
     "end_time": "2022-06-03T11:26:09.722602",
     "exception": false,
     "start_time": "2022-06-03T11:26:09.698796",
     "status": "completed"
    },
    "tags": []
   },
   "outputs": [
    {
     "data": {
      "text/plain": [
       "0.7420382165605095"
      ]
     },
     "execution_count": 24,
     "metadata": {},
     "output_type": "execute_result"
    }
   ],
   "source": [
    "rate_women = sum(women)/len(women)\n",
    "rate_women"
   ]
  },
  {
   "cell_type": "code",
   "execution_count": 25,
   "id": "429d1d4a",
   "metadata": {
    "execution": {
     "iopub.execute_input": "2022-06-03T11:26:09.754628Z",
     "iopub.status.busy": "2022-06-03T11:26:09.753728Z",
     "iopub.status.idle": "2022-06-03T11:26:09.758747Z",
     "shell.execute_reply": "2022-06-03T11:26:09.758029Z"
    },
    "papermill": {
     "duration": 0.023712,
     "end_time": "2022-06-03T11:26:09.761550",
     "exception": false,
     "start_time": "2022-06-03T11:26:09.737838",
     "status": "completed"
    },
    "tags": []
   },
   "outputs": [
    {
     "name": "stdout",
     "output_type": "stream",
     "text": [
      "% of women who survived: 0.7420382165605095\n"
     ]
    }
   ],
   "source": [
    "print(\"% of women who survived:\", rate_women)"
   ]
  },
  {
   "cell_type": "code",
   "execution_count": 26,
   "id": "3081f470",
   "metadata": {
    "execution": {
     "iopub.execute_input": "2022-06-03T11:26:09.794429Z",
     "iopub.status.busy": "2022-06-03T11:26:09.793850Z",
     "iopub.status.idle": "2022-06-03T11:26:09.799114Z",
     "shell.execute_reply": "2022-06-03T11:26:09.798325Z"
    },
    "papermill": {
     "duration": 0.023649,
     "end_time": "2022-06-03T11:26:09.801146",
     "exception": false,
     "start_time": "2022-06-03T11:26:09.777497",
     "status": "completed"
    },
    "tags": []
   },
   "outputs": [],
   "source": [
    "men = train_data.loc[train_data.Sex=='male'][\"Survived\"]"
   ]
  },
  {
   "cell_type": "code",
   "execution_count": 27,
   "id": "ed0ef695",
   "metadata": {
    "execution": {
     "iopub.execute_input": "2022-06-03T11:26:09.832658Z",
     "iopub.status.busy": "2022-06-03T11:26:09.832103Z",
     "iopub.status.idle": "2022-06-03T11:26:09.838460Z",
     "shell.execute_reply": "2022-06-03T11:26:09.837679Z"
    },
    "papermill": {
     "duration": 0.024249,
     "end_time": "2022-06-03T11:26:09.840267",
     "exception": false,
     "start_time": "2022-06-03T11:26:09.816018",
     "status": "completed"
    },
    "tags": []
   },
   "outputs": [
    {
     "data": {
      "text/plain": [
       "0      0\n",
       "4      0\n",
       "5      0\n",
       "6      0\n",
       "7      0\n",
       "      ..\n",
       "883    0\n",
       "884    0\n",
       "886    0\n",
       "889    1\n",
       "890    0\n",
       "Name: Survived, Length: 577, dtype: int64"
      ]
     },
     "execution_count": 27,
     "metadata": {},
     "output_type": "execute_result"
    }
   ],
   "source": [
    "men"
   ]
  },
  {
   "cell_type": "code",
   "execution_count": 28,
   "id": "44281100",
   "metadata": {
    "execution": {
     "iopub.execute_input": "2022-06-03T11:26:09.872086Z",
     "iopub.status.busy": "2022-06-03T11:26:09.871561Z",
     "iopub.status.idle": "2022-06-03T11:26:09.876603Z",
     "shell.execute_reply": "2022-06-03T11:26:09.875925Z"
    },
    "papermill": {
     "duration": 0.023128,
     "end_time": "2022-06-03T11:26:09.878340",
     "exception": false,
     "start_time": "2022-06-03T11:26:09.855212",
     "status": "completed"
    },
    "tags": []
   },
   "outputs": [
    {
     "data": {
      "text/plain": [
       "0.18890814558058924"
      ]
     },
     "execution_count": 28,
     "metadata": {},
     "output_type": "execute_result"
    }
   ],
   "source": [
    "rate_men = sum(men)/len(men)\n",
    "rate_men"
   ]
  },
  {
   "cell_type": "code",
   "execution_count": 29,
   "id": "19991332",
   "metadata": {
    "execution": {
     "iopub.execute_input": "2022-06-03T11:26:09.911379Z",
     "iopub.status.busy": "2022-06-03T11:26:09.910770Z",
     "iopub.status.idle": "2022-06-03T11:26:09.914820Z",
     "shell.execute_reply": "2022-06-03T11:26:09.914193Z"
    },
    "papermill": {
     "duration": 0.022352,
     "end_time": "2022-06-03T11:26:09.916689",
     "exception": false,
     "start_time": "2022-06-03T11:26:09.894337",
     "status": "completed"
    },
    "tags": []
   },
   "outputs": [
    {
     "name": "stdout",
     "output_type": "stream",
     "text": [
      "% of men who survived: 0.18890814558058924\n"
     ]
    }
   ],
   "source": [
    "print(\"% of men who survived:\", rate_men)"
   ]
  },
  {
   "cell_type": "code",
   "execution_count": null,
   "id": "43d35e41",
   "metadata": {
    "papermill": {
     "duration": 0.014874,
     "end_time": "2022-06-03T11:26:09.946691",
     "exception": false,
     "start_time": "2022-06-03T11:26:09.931817",
     "status": "completed"
    },
    "tags": []
   },
   "outputs": [],
   "source": []
  },
  {
   "cell_type": "code",
   "execution_count": 30,
   "id": "58f8c6ca",
   "metadata": {
    "execution": {
     "iopub.execute_input": "2022-06-03T11:26:09.978598Z",
     "iopub.status.busy": "2022-06-03T11:26:09.978185Z",
     "iopub.status.idle": "2022-06-03T11:26:11.381485Z",
     "shell.execute_reply": "2022-06-03T11:26:11.380722Z"
    },
    "papermill": {
     "duration": 1.421726,
     "end_time": "2022-06-03T11:26:11.383685",
     "exception": false,
     "start_time": "2022-06-03T11:26:09.961959",
     "status": "completed"
    },
    "tags": []
   },
   "outputs": [],
   "source": [
    "from sklearn.ensemble import RandomForestClassifier"
   ]
  },
  {
   "cell_type": "code",
   "execution_count": 31,
   "id": "18819e19",
   "metadata": {
    "execution": {
     "iopub.execute_input": "2022-06-03T11:26:11.416299Z",
     "iopub.status.busy": "2022-06-03T11:26:11.415804Z",
     "iopub.status.idle": "2022-06-03T11:26:11.421111Z",
     "shell.execute_reply": "2022-06-03T11:26:11.420455Z"
    },
    "papermill": {
     "duration": 0.02412,
     "end_time": "2022-06-03T11:26:11.422891",
     "exception": false,
     "start_time": "2022-06-03T11:26:11.398771",
     "status": "completed"
    },
    "tags": []
   },
   "outputs": [
    {
     "data": {
      "text/plain": [
       "sklearn.ensemble._forest.RandomForestClassifier"
      ]
     },
     "execution_count": 31,
     "metadata": {},
     "output_type": "execute_result"
    }
   ],
   "source": [
    "RandomForestClassifier"
   ]
  },
  {
   "cell_type": "code",
   "execution_count": 32,
   "id": "f8587a62",
   "metadata": {
    "execution": {
     "iopub.execute_input": "2022-06-03T11:26:11.455261Z",
     "iopub.status.busy": "2022-06-03T11:26:11.454614Z",
     "iopub.status.idle": "2022-06-03T11:26:11.458621Z",
     "shell.execute_reply": "2022-06-03T11:26:11.457984Z"
    },
    "papermill": {
     "duration": 0.022478,
     "end_time": "2022-06-03T11:26:11.460538",
     "exception": false,
     "start_time": "2022-06-03T11:26:11.438060",
     "status": "completed"
    },
    "tags": []
   },
   "outputs": [],
   "source": [
    "y = train_data[\"Survived\"]"
   ]
  },
  {
   "cell_type": "code",
   "execution_count": 33,
   "id": "7577c572",
   "metadata": {
    "execution": {
     "iopub.execute_input": "2022-06-03T11:26:11.492780Z",
     "iopub.status.busy": "2022-06-03T11:26:11.492135Z",
     "iopub.status.idle": "2022-06-03T11:26:11.498820Z",
     "shell.execute_reply": "2022-06-03T11:26:11.498169Z"
    },
    "papermill": {
     "duration": 0.024906,
     "end_time": "2022-06-03T11:26:11.500629",
     "exception": false,
     "start_time": "2022-06-03T11:26:11.475723",
     "status": "completed"
    },
    "tags": []
   },
   "outputs": [
    {
     "data": {
      "text/plain": [
       "0      0\n",
       "1      1\n",
       "2      1\n",
       "3      1\n",
       "4      0\n",
       "      ..\n",
       "886    0\n",
       "887    1\n",
       "888    0\n",
       "889    1\n",
       "890    0\n",
       "Name: Survived, Length: 891, dtype: int64"
      ]
     },
     "execution_count": 33,
     "metadata": {},
     "output_type": "execute_result"
    }
   ],
   "source": [
    "y"
   ]
  },
  {
   "cell_type": "code",
   "execution_count": 34,
   "id": "e978d3d3",
   "metadata": {
    "execution": {
     "iopub.execute_input": "2022-06-03T11:26:11.533349Z",
     "iopub.status.busy": "2022-06-03T11:26:11.532857Z",
     "iopub.status.idle": "2022-06-03T11:26:11.538380Z",
     "shell.execute_reply": "2022-06-03T11:26:11.537544Z"
    },
    "papermill": {
     "duration": 0.024514,
     "end_time": "2022-06-03T11:26:11.540574",
     "exception": false,
     "start_time": "2022-06-03T11:26:11.516060",
     "status": "completed"
    },
    "tags": []
   },
   "outputs": [
    {
     "data": {
      "text/plain": [
       "pandas.core.series.Series"
      ]
     },
     "execution_count": 34,
     "metadata": {},
     "output_type": "execute_result"
    }
   ],
   "source": [
    "type(y)"
   ]
  },
  {
   "cell_type": "code",
   "execution_count": 35,
   "id": "5362a007",
   "metadata": {
    "execution": {
     "iopub.execute_input": "2022-06-03T11:26:11.574292Z",
     "iopub.status.busy": "2022-06-03T11:26:11.573629Z",
     "iopub.status.idle": "2022-06-03T11:26:11.578719Z",
     "shell.execute_reply": "2022-06-03T11:26:11.578030Z"
    },
    "papermill": {
     "duration": 0.024177,
     "end_time": "2022-06-03T11:26:11.580627",
     "exception": false,
     "start_time": "2022-06-03T11:26:11.556450",
     "status": "completed"
    },
    "tags": []
   },
   "outputs": [
    {
     "data": {
      "text/plain": [
       "pandas.core.frame.DataFrame"
      ]
     },
     "execution_count": 35,
     "metadata": {},
     "output_type": "execute_result"
    }
   ],
   "source": [
    "type(train_data)"
   ]
  },
  {
   "cell_type": "code",
   "execution_count": 36,
   "id": "16bdc40f",
   "metadata": {
    "execution": {
     "iopub.execute_input": "2022-06-03T11:26:11.613656Z",
     "iopub.status.busy": "2022-06-03T11:26:11.613027Z",
     "iopub.status.idle": "2022-06-03T11:26:11.617066Z",
     "shell.execute_reply": "2022-06-03T11:26:11.616294Z"
    },
    "papermill": {
     "duration": 0.022919,
     "end_time": "2022-06-03T11:26:11.619192",
     "exception": false,
     "start_time": "2022-06-03T11:26:11.596273",
     "status": "completed"
    },
    "tags": []
   },
   "outputs": [],
   "source": [
    "features = [\"Pclass\", \"Sex\", \"SibSp\", \"Parch\"]"
   ]
  },
  {
   "cell_type": "code",
   "execution_count": 37,
   "id": "2385896b",
   "metadata": {
    "execution": {
     "iopub.execute_input": "2022-06-03T11:26:11.651877Z",
     "iopub.status.busy": "2022-06-03T11:26:11.651364Z",
     "iopub.status.idle": "2022-06-03T11:26:11.659668Z",
     "shell.execute_reply": "2022-06-03T11:26:11.659024Z"
    },
    "papermill": {
     "duration": 0.026951,
     "end_time": "2022-06-03T11:26:11.661672",
     "exception": false,
     "start_time": "2022-06-03T11:26:11.634721",
     "status": "completed"
    },
    "tags": []
   },
   "outputs": [],
   "source": [
    "X = pd.get_dummies(train_data[features])"
   ]
  },
  {
   "cell_type": "code",
   "execution_count": 38,
   "id": "6bc2c1ab",
   "metadata": {
    "execution": {
     "iopub.execute_input": "2022-06-03T11:26:11.694638Z",
     "iopub.status.busy": "2022-06-03T11:26:11.694227Z",
     "iopub.status.idle": "2022-06-03T11:26:11.708764Z",
     "shell.execute_reply": "2022-06-03T11:26:11.707864Z"
    },
    "papermill": {
     "duration": 0.033335,
     "end_time": "2022-06-03T11:26:11.710693",
     "exception": false,
     "start_time": "2022-06-03T11:26:11.677358",
     "status": "completed"
    },
    "tags": []
   },
   "outputs": [
    {
     "data": {
      "text/html": [
       "<div>\n",
       "<style scoped>\n",
       "    .dataframe tbody tr th:only-of-type {\n",
       "        vertical-align: middle;\n",
       "    }\n",
       "\n",
       "    .dataframe tbody tr th {\n",
       "        vertical-align: top;\n",
       "    }\n",
       "\n",
       "    .dataframe thead th {\n",
       "        text-align: right;\n",
       "    }\n",
       "</style>\n",
       "<table border=\"1\" class=\"dataframe\">\n",
       "  <thead>\n",
       "    <tr style=\"text-align: right;\">\n",
       "      <th></th>\n",
       "      <th>Pclass</th>\n",
       "      <th>SibSp</th>\n",
       "      <th>Parch</th>\n",
       "      <th>Sex_female</th>\n",
       "      <th>Sex_male</th>\n",
       "    </tr>\n",
       "  </thead>\n",
       "  <tbody>\n",
       "    <tr>\n",
       "      <th>0</th>\n",
       "      <td>3</td>\n",
       "      <td>1</td>\n",
       "      <td>0</td>\n",
       "      <td>0</td>\n",
       "      <td>1</td>\n",
       "    </tr>\n",
       "    <tr>\n",
       "      <th>1</th>\n",
       "      <td>1</td>\n",
       "      <td>1</td>\n",
       "      <td>0</td>\n",
       "      <td>1</td>\n",
       "      <td>0</td>\n",
       "    </tr>\n",
       "    <tr>\n",
       "      <th>2</th>\n",
       "      <td>3</td>\n",
       "      <td>0</td>\n",
       "      <td>0</td>\n",
       "      <td>1</td>\n",
       "      <td>0</td>\n",
       "    </tr>\n",
       "    <tr>\n",
       "      <th>3</th>\n",
       "      <td>1</td>\n",
       "      <td>1</td>\n",
       "      <td>0</td>\n",
       "      <td>1</td>\n",
       "      <td>0</td>\n",
       "    </tr>\n",
       "    <tr>\n",
       "      <th>4</th>\n",
       "      <td>3</td>\n",
       "      <td>0</td>\n",
       "      <td>0</td>\n",
       "      <td>0</td>\n",
       "      <td>1</td>\n",
       "    </tr>\n",
       "    <tr>\n",
       "      <th>...</th>\n",
       "      <td>...</td>\n",
       "      <td>...</td>\n",
       "      <td>...</td>\n",
       "      <td>...</td>\n",
       "      <td>...</td>\n",
       "    </tr>\n",
       "    <tr>\n",
       "      <th>886</th>\n",
       "      <td>2</td>\n",
       "      <td>0</td>\n",
       "      <td>0</td>\n",
       "      <td>0</td>\n",
       "      <td>1</td>\n",
       "    </tr>\n",
       "    <tr>\n",
       "      <th>887</th>\n",
       "      <td>1</td>\n",
       "      <td>0</td>\n",
       "      <td>0</td>\n",
       "      <td>1</td>\n",
       "      <td>0</td>\n",
       "    </tr>\n",
       "    <tr>\n",
       "      <th>888</th>\n",
       "      <td>3</td>\n",
       "      <td>1</td>\n",
       "      <td>2</td>\n",
       "      <td>1</td>\n",
       "      <td>0</td>\n",
       "    </tr>\n",
       "    <tr>\n",
       "      <th>889</th>\n",
       "      <td>1</td>\n",
       "      <td>0</td>\n",
       "      <td>0</td>\n",
       "      <td>0</td>\n",
       "      <td>1</td>\n",
       "    </tr>\n",
       "    <tr>\n",
       "      <th>890</th>\n",
       "      <td>3</td>\n",
       "      <td>0</td>\n",
       "      <td>0</td>\n",
       "      <td>0</td>\n",
       "      <td>1</td>\n",
       "    </tr>\n",
       "  </tbody>\n",
       "</table>\n",
       "<p>891 rows × 5 columns</p>\n",
       "</div>"
      ],
      "text/plain": [
       "     Pclass  SibSp  Parch  Sex_female  Sex_male\n",
       "0         3      1      0           0         1\n",
       "1         1      1      0           1         0\n",
       "2         3      0      0           1         0\n",
       "3         1      1      0           1         0\n",
       "4         3      0      0           0         1\n",
       "..      ...    ...    ...         ...       ...\n",
       "886       2      0      0           0         1\n",
       "887       1      0      0           1         0\n",
       "888       3      1      2           1         0\n",
       "889       1      0      0           0         1\n",
       "890       3      0      0           0         1\n",
       "\n",
       "[891 rows x 5 columns]"
      ]
     },
     "execution_count": 38,
     "metadata": {},
     "output_type": "execute_result"
    }
   ],
   "source": [
    "X"
   ]
  },
  {
   "cell_type": "code",
   "execution_count": 39,
   "id": "10818033",
   "metadata": {
    "execution": {
     "iopub.execute_input": "2022-06-03T11:26:11.744651Z",
     "iopub.status.busy": "2022-06-03T11:26:11.743665Z",
     "iopub.status.idle": "2022-06-03T11:26:11.759486Z",
     "shell.execute_reply": "2022-06-03T11:26:11.758592Z"
    },
    "papermill": {
     "duration": 0.034947,
     "end_time": "2022-06-03T11:26:11.761558",
     "exception": false,
     "start_time": "2022-06-03T11:26:11.726611",
     "status": "completed"
    },
    "tags": []
   },
   "outputs": [
    {
     "data": {
      "text/html": [
       "<div>\n",
       "<style scoped>\n",
       "    .dataframe tbody tr th:only-of-type {\n",
       "        vertical-align: middle;\n",
       "    }\n",
       "\n",
       "    .dataframe tbody tr th {\n",
       "        vertical-align: top;\n",
       "    }\n",
       "\n",
       "    .dataframe thead th {\n",
       "        text-align: right;\n",
       "    }\n",
       "</style>\n",
       "<table border=\"1\" class=\"dataframe\">\n",
       "  <thead>\n",
       "    <tr style=\"text-align: right;\">\n",
       "      <th></th>\n",
       "      <th>PassengerId</th>\n",
       "      <th>Survived</th>\n",
       "      <th>Pclass</th>\n",
       "      <th>Name</th>\n",
       "      <th>Sex</th>\n",
       "      <th>Age</th>\n",
       "      <th>SibSp</th>\n",
       "      <th>Parch</th>\n",
       "      <th>Ticket</th>\n",
       "      <th>Fare</th>\n",
       "      <th>Cabin</th>\n",
       "      <th>Embarked</th>\n",
       "    </tr>\n",
       "  </thead>\n",
       "  <tbody>\n",
       "    <tr>\n",
       "      <th>0</th>\n",
       "      <td>1</td>\n",
       "      <td>0</td>\n",
       "      <td>3</td>\n",
       "      <td>Braund, Mr. Owen Harris</td>\n",
       "      <td>male</td>\n",
       "      <td>22.0</td>\n",
       "      <td>1</td>\n",
       "      <td>0</td>\n",
       "      <td>A/5 21171</td>\n",
       "      <td>7.2500</td>\n",
       "      <td>NaN</td>\n",
       "      <td>S</td>\n",
       "    </tr>\n",
       "    <tr>\n",
       "      <th>1</th>\n",
       "      <td>2</td>\n",
       "      <td>1</td>\n",
       "      <td>1</td>\n",
       "      <td>Cumings, Mrs. John Bradley (Florence Briggs Th...</td>\n",
       "      <td>female</td>\n",
       "      <td>38.0</td>\n",
       "      <td>1</td>\n",
       "      <td>0</td>\n",
       "      <td>PC 17599</td>\n",
       "      <td>71.2833</td>\n",
       "      <td>C85</td>\n",
       "      <td>C</td>\n",
       "    </tr>\n",
       "    <tr>\n",
       "      <th>2</th>\n",
       "      <td>3</td>\n",
       "      <td>1</td>\n",
       "      <td>3</td>\n",
       "      <td>Heikkinen, Miss. Laina</td>\n",
       "      <td>female</td>\n",
       "      <td>26.0</td>\n",
       "      <td>0</td>\n",
       "      <td>0</td>\n",
       "      <td>STON/O2. 3101282</td>\n",
       "      <td>7.9250</td>\n",
       "      <td>NaN</td>\n",
       "      <td>S</td>\n",
       "    </tr>\n",
       "    <tr>\n",
       "      <th>3</th>\n",
       "      <td>4</td>\n",
       "      <td>1</td>\n",
       "      <td>1</td>\n",
       "      <td>Futrelle, Mrs. Jacques Heath (Lily May Peel)</td>\n",
       "      <td>female</td>\n",
       "      <td>35.0</td>\n",
       "      <td>1</td>\n",
       "      <td>0</td>\n",
       "      <td>113803</td>\n",
       "      <td>53.1000</td>\n",
       "      <td>C123</td>\n",
       "      <td>S</td>\n",
       "    </tr>\n",
       "    <tr>\n",
       "      <th>4</th>\n",
       "      <td>5</td>\n",
       "      <td>0</td>\n",
       "      <td>3</td>\n",
       "      <td>Allen, Mr. William Henry</td>\n",
       "      <td>male</td>\n",
       "      <td>35.0</td>\n",
       "      <td>0</td>\n",
       "      <td>0</td>\n",
       "      <td>373450</td>\n",
       "      <td>8.0500</td>\n",
       "      <td>NaN</td>\n",
       "      <td>S</td>\n",
       "    </tr>\n",
       "  </tbody>\n",
       "</table>\n",
       "</div>"
      ],
      "text/plain": [
       "   PassengerId  Survived  Pclass  \\\n",
       "0            1         0       3   \n",
       "1            2         1       1   \n",
       "2            3         1       3   \n",
       "3            4         1       1   \n",
       "4            5         0       3   \n",
       "\n",
       "                                                Name     Sex   Age  SibSp  \\\n",
       "0                            Braund, Mr. Owen Harris    male  22.0      1   \n",
       "1  Cumings, Mrs. John Bradley (Florence Briggs Th...  female  38.0      1   \n",
       "2                             Heikkinen, Miss. Laina  female  26.0      0   \n",
       "3       Futrelle, Mrs. Jacques Heath (Lily May Peel)  female  35.0      1   \n",
       "4                           Allen, Mr. William Henry    male  35.0      0   \n",
       "\n",
       "   Parch            Ticket     Fare Cabin Embarked  \n",
       "0      0         A/5 21171   7.2500   NaN        S  \n",
       "1      0          PC 17599  71.2833   C85        C  \n",
       "2      0  STON/O2. 3101282   7.9250   NaN        S  \n",
       "3      0            113803  53.1000  C123        S  \n",
       "4      0            373450   8.0500   NaN        S  "
      ]
     },
     "execution_count": 39,
     "metadata": {},
     "output_type": "execute_result"
    }
   ],
   "source": [
    "train_data.head()"
   ]
  },
  {
   "cell_type": "code",
   "execution_count": null,
   "id": "a8f31dac",
   "metadata": {
    "papermill": {
     "duration": 0.016806,
     "end_time": "2022-06-03T11:26:11.794398",
     "exception": false,
     "start_time": "2022-06-03T11:26:11.777592",
     "status": "completed"
    },
    "tags": []
   },
   "outputs": [],
   "source": []
  },
  {
   "cell_type": "code",
   "execution_count": null,
   "id": "5f87d4ce",
   "metadata": {
    "papermill": {
     "duration": 0.015817,
     "end_time": "2022-06-03T11:26:11.826463",
     "exception": false,
     "start_time": "2022-06-03T11:26:11.810646",
     "status": "completed"
    },
    "tags": []
   },
   "outputs": [],
   "source": []
  },
  {
   "cell_type": "code",
   "execution_count": null,
   "id": "42274997",
   "metadata": {
    "papermill": {
     "duration": 0.015837,
     "end_time": "2022-06-03T11:26:11.858608",
     "exception": false,
     "start_time": "2022-06-03T11:26:11.842771",
     "status": "completed"
    },
    "tags": []
   },
   "outputs": [],
   "source": []
  },
  {
   "cell_type": "code",
   "execution_count": null,
   "id": "a3f30731",
   "metadata": {
    "papermill": {
     "duration": 0.015938,
     "end_time": "2022-06-03T11:26:11.890814",
     "exception": false,
     "start_time": "2022-06-03T11:26:11.874876",
     "status": "completed"
    },
    "tags": []
   },
   "outputs": [],
   "source": []
  },
  {
   "cell_type": "code",
   "execution_count": null,
   "id": "3bbe40dd",
   "metadata": {
    "papermill": {
     "duration": 0.015712,
     "end_time": "2022-06-03T11:26:11.922619",
     "exception": false,
     "start_time": "2022-06-03T11:26:11.906907",
     "status": "completed"
    },
    "tags": []
   },
   "outputs": [],
   "source": []
  },
  {
   "cell_type": "code",
   "execution_count": null,
   "id": "350fe1f2",
   "metadata": {
    "papermill": {
     "duration": 0.016251,
     "end_time": "2022-06-03T11:26:11.955099",
     "exception": false,
     "start_time": "2022-06-03T11:26:11.938848",
     "status": "completed"
    },
    "tags": []
   },
   "outputs": [],
   "source": []
  },
  {
   "cell_type": "code",
   "execution_count": null,
   "id": "e95ab70d",
   "metadata": {
    "papermill": {
     "duration": 0.015707,
     "end_time": "2022-06-03T11:26:11.987354",
     "exception": false,
     "start_time": "2022-06-03T11:26:11.971647",
     "status": "completed"
    },
    "tags": []
   },
   "outputs": [],
   "source": []
  },
  {
   "cell_type": "code",
   "execution_count": null,
   "id": "869afad2",
   "metadata": {
    "papermill": {
     "duration": 0.015624,
     "end_time": "2022-06-03T11:26:12.018971",
     "exception": false,
     "start_time": "2022-06-03T11:26:12.003347",
     "status": "completed"
    },
    "tags": []
   },
   "outputs": [],
   "source": []
  },
  {
   "cell_type": "code",
   "execution_count": null,
   "id": "934f78eb",
   "metadata": {
    "papermill": {
     "duration": 0.020816,
     "end_time": "2022-06-03T11:26:12.055683",
     "exception": false,
     "start_time": "2022-06-03T11:26:12.034867",
     "status": "completed"
    },
    "tags": []
   },
   "outputs": [],
   "source": []
  },
  {
   "cell_type": "code",
   "execution_count": null,
   "id": "ea00a746",
   "metadata": {
    "papermill": {
     "duration": 0.019895,
     "end_time": "2022-06-03T11:26:12.094865",
     "exception": false,
     "start_time": "2022-06-03T11:26:12.074970",
     "status": "completed"
    },
    "tags": []
   },
   "outputs": [],
   "source": []
  }
 ],
 "metadata": {
  "kernelspec": {
   "display_name": "Python 3",
   "language": "python",
   "name": "python3"
  },
  "language_info": {
   "codemirror_mode": {
    "name": "ipython",
    "version": 3
   },
   "file_extension": ".py",
   "mimetype": "text/x-python",
   "name": "python",
   "nbconvert_exporter": "python",
   "pygments_lexer": "ipython3",
   "version": "3.7.12"
  },
  "papermill": {
   "default_parameters": {},
   "duration": 14.796894,
   "end_time": "2022-06-03T11:26:12.835788",
   "environment_variables": {},
   "exception": null,
   "input_path": "__notebook__.ipynb",
   "output_path": "__notebook__.ipynb",
   "parameters": {},
   "start_time": "2022-06-03T11:25:58.038894",
   "version": "2.3.4"
  }
 },
 "nbformat": 4,
 "nbformat_minor": 5
}
