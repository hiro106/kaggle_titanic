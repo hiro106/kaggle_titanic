{
 "cells": [
  {
   "cell_type": "code",
   "execution_count": 1,
   "id": "49684107",
   "metadata": {
    "_cell_guid": "b1076dfc-b9ad-4769-8c92-a6c4dae69d19",
    "_uuid": "8f2839f25d086af736a60e9eeb907d3b93b6e0e5",
    "execution": {
     "iopub.execute_input": "2022-06-03T11:42:55.783430Z",
     "iopub.status.busy": "2022-06-03T11:42:55.782715Z",
     "iopub.status.idle": "2022-06-03T11:42:55.796232Z",
     "shell.execute_reply": "2022-06-03T11:42:55.795236Z"
    },
    "papermill": {
     "duration": 0.035127,
     "end_time": "2022-06-03T11:42:55.799275",
     "exception": false,
     "start_time": "2022-06-03T11:42:55.764148",
     "status": "completed"
    },
    "tags": []
   },
   "outputs": [
    {
     "name": "stdout",
     "output_type": "stream",
     "text": [
      "/kaggle/input/titanic/train.csv\n",
      "/kaggle/input/titanic/test.csv\n",
      "/kaggle/input/titanic/gender_submission.csv\n"
     ]
    }
   ],
   "source": [
    "# This Python 3 environment comes with many helpful analytics libraries installed\n",
    "# It is defined by the kaggle/python Docker image: https://github.com/kaggle/docker-python\n",
    "# For example, here's several helpful packages to load\n",
    "\n",
    "import numpy as np # linear algebra\n",
    "import pandas as pd # data processing, CSV file I/O (e.g. pd.read_csv)\n",
    "\n",
    "# Input data files are available in the read-only \"../input/\" directory\n",
    "# For example, running this (by clicking run or pressing Shift+Enter) will list all files under the input directory\n",
    "\n",
    "import os\n",
    "for dirname, _, filenames in os.walk('/kaggle/input'):\n",
    "    for filename in filenames:\n",
    "        print(os.path.join(dirname, filename))\n",
    "\n",
    "# You can write up to 20GB to the current directory (/kaggle/working/) that gets preserved as output when you create a version using \"Save & Run All\" \n",
    "# You can also write temporary files to /kaggle/temp/, but they won't be saved outside of the current session"
   ]
  },
  {
   "cell_type": "code",
   "execution_count": 2,
   "id": "c121188b",
   "metadata": {
    "execution": {
     "iopub.execute_input": "2022-06-03T11:42:55.833263Z",
     "iopub.status.busy": "2022-06-03T11:42:55.832657Z",
     "iopub.status.idle": "2022-06-03T11:42:55.840968Z",
     "shell.execute_reply": "2022-06-03T11:42:55.840031Z"
    },
    "papermill": {
     "duration": 0.027246,
     "end_time": "2022-06-03T11:42:55.842992",
     "exception": false,
     "start_time": "2022-06-03T11:42:55.815746",
     "status": "completed"
    },
    "tags": []
   },
   "outputs": [
    {
     "data": {
      "text/plain": [
       "<generator object walk at 0x7f85e2017350>"
      ]
     },
     "execution_count": 2,
     "metadata": {},
     "output_type": "execute_result"
    }
   ],
   "source": [
    "os.walk('/kaggle/input')"
   ]
  },
  {
   "cell_type": "code",
   "execution_count": 3,
   "id": "846fd273",
   "metadata": {
    "execution": {
     "iopub.execute_input": "2022-06-03T11:42:55.875887Z",
     "iopub.status.busy": "2022-06-03T11:42:55.875456Z",
     "iopub.status.idle": "2022-06-03T11:42:55.882749Z",
     "shell.execute_reply": "2022-06-03T11:42:55.881886Z"
    },
    "papermill": {
     "duration": 0.026148,
     "end_time": "2022-06-03T11:42:55.884638",
     "exception": false,
     "start_time": "2022-06-03T11:42:55.858490",
     "status": "completed"
    },
    "tags": []
   },
   "outputs": [
    {
     "data": {
      "text/plain": [
       "[('/kaggle/input', ['titanic'], []),\n",
       " ('/kaggle/input/titanic',\n",
       "  [],\n",
       "  ['train.csv', 'test.csv', 'gender_submission.csv'])]"
      ]
     },
     "execution_count": 3,
     "metadata": {},
     "output_type": "execute_result"
    }
   ],
   "source": [
    "list(os.walk('/kaggle/input'))"
   ]
  },
  {
   "cell_type": "code",
   "execution_count": 4,
   "id": "8175d0fd",
   "metadata": {
    "execution": {
     "iopub.execute_input": "2022-06-03T11:42:55.917769Z",
     "iopub.status.busy": "2022-06-03T11:42:55.917169Z",
     "iopub.status.idle": "2022-06-03T11:42:55.925377Z",
     "shell.execute_reply": "2022-06-03T11:42:55.924323Z"
    },
    "papermill": {
     "duration": 0.027222,
     "end_time": "2022-06-03T11:42:55.927357",
     "exception": false,
     "start_time": "2022-06-03T11:42:55.900135",
     "status": "completed"
    },
    "tags": []
   },
   "outputs": [
    {
     "data": {
      "text/plain": [
       "[('/kaggle', ['src', 'lib', 'input', 'working'], []),\n",
       " ('/kaggle/src', [], ['script.ipynb']),\n",
       " ('/kaggle/lib', ['kaggle'], []),\n",
       " ('/kaggle/lib/kaggle', [], ['gcp.py']),\n",
       " ('/kaggle/input', ['titanic'], []),\n",
       " ('/kaggle/input/titanic',\n",
       "  [],\n",
       "  ['train.csv', 'test.csv', 'gender_submission.csv']),\n",
       " ('/kaggle/working', [], ['__notebook__.ipynb'])]"
      ]
     },
     "execution_count": 4,
     "metadata": {},
     "output_type": "execute_result"
    }
   ],
   "source": [
    "list(os.walk('/kaggle'))"
   ]
  },
  {
   "cell_type": "code",
   "execution_count": 5,
   "id": "a2d949f7",
   "metadata": {
    "execution": {
     "iopub.execute_input": "2022-06-03T11:42:55.962219Z",
     "iopub.status.busy": "2022-06-03T11:42:55.961813Z",
     "iopub.status.idle": "2022-06-03T11:42:55.966296Z",
     "shell.execute_reply": "2022-06-03T11:42:55.965327Z"
    },
    "papermill": {
     "duration": 0.023805,
     "end_time": "2022-06-03T11:42:55.968318",
     "exception": false,
     "start_time": "2022-06-03T11:42:55.944513",
     "status": "completed"
    },
    "tags": []
   },
   "outputs": [],
   "source": [
    "# len(list(os.walk('/')))"
   ]
  },
  {
   "cell_type": "code",
   "execution_count": 6,
   "id": "814d6acd",
   "metadata": {
    "execution": {
     "iopub.execute_input": "2022-06-03T11:42:56.001330Z",
     "iopub.status.busy": "2022-06-03T11:42:56.000928Z",
     "iopub.status.idle": "2022-06-03T11:42:56.021162Z",
     "shell.execute_reply": "2022-06-03T11:42:56.020134Z"
    },
    "papermill": {
     "duration": 0.04001,
     "end_time": "2022-06-03T11:42:56.024080",
     "exception": false,
     "start_time": "2022-06-03T11:42:55.984070",
     "status": "completed"
    },
    "tags": []
   },
   "outputs": [],
   "source": [
    "train_data = pd.read_csv(\"/kaggle/input/titanic/train.csv\")"
   ]
  },
  {
   "cell_type": "code",
   "execution_count": 7,
   "id": "72c13fdb",
   "metadata": {
    "execution": {
     "iopub.execute_input": "2022-06-03T11:42:56.057298Z",
     "iopub.status.busy": "2022-06-03T11:42:56.056436Z",
     "iopub.status.idle": "2022-06-03T11:42:56.079977Z",
     "shell.execute_reply": "2022-06-03T11:42:56.079039Z"
    },
    "papermill": {
     "duration": 0.042432,
     "end_time": "2022-06-03T11:42:56.082259",
     "exception": false,
     "start_time": "2022-06-03T11:42:56.039827",
     "status": "completed"
    },
    "tags": []
   },
   "outputs": [
    {
     "data": {
      "text/html": [
       "<div>\n",
       "<style scoped>\n",
       "    .dataframe tbody tr th:only-of-type {\n",
       "        vertical-align: middle;\n",
       "    }\n",
       "\n",
       "    .dataframe tbody tr th {\n",
       "        vertical-align: top;\n",
       "    }\n",
       "\n",
       "    .dataframe thead th {\n",
       "        text-align: right;\n",
       "    }\n",
       "</style>\n",
       "<table border=\"1\" class=\"dataframe\">\n",
       "  <thead>\n",
       "    <tr style=\"text-align: right;\">\n",
       "      <th></th>\n",
       "      <th>PassengerId</th>\n",
       "      <th>Survived</th>\n",
       "      <th>Pclass</th>\n",
       "      <th>Name</th>\n",
       "      <th>Sex</th>\n",
       "      <th>Age</th>\n",
       "      <th>SibSp</th>\n",
       "      <th>Parch</th>\n",
       "      <th>Ticket</th>\n",
       "      <th>Fare</th>\n",
       "      <th>Cabin</th>\n",
       "      <th>Embarked</th>\n",
       "    </tr>\n",
       "  </thead>\n",
       "  <tbody>\n",
       "    <tr>\n",
       "      <th>0</th>\n",
       "      <td>1</td>\n",
       "      <td>0</td>\n",
       "      <td>3</td>\n",
       "      <td>Braund, Mr. Owen Harris</td>\n",
       "      <td>male</td>\n",
       "      <td>22.0</td>\n",
       "      <td>1</td>\n",
       "      <td>0</td>\n",
       "      <td>A/5 21171</td>\n",
       "      <td>7.2500</td>\n",
       "      <td>NaN</td>\n",
       "      <td>S</td>\n",
       "    </tr>\n",
       "    <tr>\n",
       "      <th>1</th>\n",
       "      <td>2</td>\n",
       "      <td>1</td>\n",
       "      <td>1</td>\n",
       "      <td>Cumings, Mrs. John Bradley (Florence Briggs Th...</td>\n",
       "      <td>female</td>\n",
       "      <td>38.0</td>\n",
       "      <td>1</td>\n",
       "      <td>0</td>\n",
       "      <td>PC 17599</td>\n",
       "      <td>71.2833</td>\n",
       "      <td>C85</td>\n",
       "      <td>C</td>\n",
       "    </tr>\n",
       "    <tr>\n",
       "      <th>2</th>\n",
       "      <td>3</td>\n",
       "      <td>1</td>\n",
       "      <td>3</td>\n",
       "      <td>Heikkinen, Miss. Laina</td>\n",
       "      <td>female</td>\n",
       "      <td>26.0</td>\n",
       "      <td>0</td>\n",
       "      <td>0</td>\n",
       "      <td>STON/O2. 3101282</td>\n",
       "      <td>7.9250</td>\n",
       "      <td>NaN</td>\n",
       "      <td>S</td>\n",
       "    </tr>\n",
       "    <tr>\n",
       "      <th>3</th>\n",
       "      <td>4</td>\n",
       "      <td>1</td>\n",
       "      <td>1</td>\n",
       "      <td>Futrelle, Mrs. Jacques Heath (Lily May Peel)</td>\n",
       "      <td>female</td>\n",
       "      <td>35.0</td>\n",
       "      <td>1</td>\n",
       "      <td>0</td>\n",
       "      <td>113803</td>\n",
       "      <td>53.1000</td>\n",
       "      <td>C123</td>\n",
       "      <td>S</td>\n",
       "    </tr>\n",
       "    <tr>\n",
       "      <th>4</th>\n",
       "      <td>5</td>\n",
       "      <td>0</td>\n",
       "      <td>3</td>\n",
       "      <td>Allen, Mr. William Henry</td>\n",
       "      <td>male</td>\n",
       "      <td>35.0</td>\n",
       "      <td>0</td>\n",
       "      <td>0</td>\n",
       "      <td>373450</td>\n",
       "      <td>8.0500</td>\n",
       "      <td>NaN</td>\n",
       "      <td>S</td>\n",
       "    </tr>\n",
       "  </tbody>\n",
       "</table>\n",
       "</div>"
      ],
      "text/plain": [
       "   PassengerId  Survived  Pclass  \\\n",
       "0            1         0       3   \n",
       "1            2         1       1   \n",
       "2            3         1       3   \n",
       "3            4         1       1   \n",
       "4            5         0       3   \n",
       "\n",
       "                                                Name     Sex   Age  SibSp  \\\n",
       "0                            Braund, Mr. Owen Harris    male  22.0      1   \n",
       "1  Cumings, Mrs. John Bradley (Florence Briggs Th...  female  38.0      1   \n",
       "2                             Heikkinen, Miss. Laina  female  26.0      0   \n",
       "3       Futrelle, Mrs. Jacques Heath (Lily May Peel)  female  35.0      1   \n",
       "4                           Allen, Mr. William Henry    male  35.0      0   \n",
       "\n",
       "   Parch            Ticket     Fare Cabin Embarked  \n",
       "0      0         A/5 21171   7.2500   NaN        S  \n",
       "1      0          PC 17599  71.2833   C85        C  \n",
       "2      0  STON/O2. 3101282   7.9250   NaN        S  \n",
       "3      0            113803  53.1000  C123        S  \n",
       "4      0            373450   8.0500   NaN        S  "
      ]
     },
     "execution_count": 7,
     "metadata": {},
     "output_type": "execute_result"
    }
   ],
   "source": [
    "train_data.head()"
   ]
  },
  {
   "cell_type": "code",
   "execution_count": 8,
   "id": "a5640876",
   "metadata": {
    "execution": {
     "iopub.execute_input": "2022-06-03T11:42:56.116361Z",
     "iopub.status.busy": "2022-06-03T11:42:56.115945Z",
     "iopub.status.idle": "2022-06-03T11:42:56.128321Z",
     "shell.execute_reply": "2022-06-03T11:42:56.127287Z"
    },
    "papermill": {
     "duration": 0.032094,
     "end_time": "2022-06-03T11:42:56.130622",
     "exception": false,
     "start_time": "2022-06-03T11:42:56.098528",
     "status": "completed"
    },
    "tags": []
   },
   "outputs": [],
   "source": [
    "test_data = pd.read_csv(\"/kaggle/input/titanic/test.csv\")"
   ]
  },
  {
   "cell_type": "code",
   "execution_count": 9,
   "id": "8021a227",
   "metadata": {
    "execution": {
     "iopub.execute_input": "2022-06-03T11:42:56.164610Z",
     "iopub.status.busy": "2022-06-03T11:42:56.164195Z",
     "iopub.status.idle": "2022-06-03T11:42:56.180380Z",
     "shell.execute_reply": "2022-06-03T11:42:56.179360Z"
    },
    "papermill": {
     "duration": 0.03551,
     "end_time": "2022-06-03T11:42:56.182329",
     "exception": false,
     "start_time": "2022-06-03T11:42:56.146819",
     "status": "completed"
    },
    "tags": []
   },
   "outputs": [
    {
     "data": {
      "text/html": [
       "<div>\n",
       "<style scoped>\n",
       "    .dataframe tbody tr th:only-of-type {\n",
       "        vertical-align: middle;\n",
       "    }\n",
       "\n",
       "    .dataframe tbody tr th {\n",
       "        vertical-align: top;\n",
       "    }\n",
       "\n",
       "    .dataframe thead th {\n",
       "        text-align: right;\n",
       "    }\n",
       "</style>\n",
       "<table border=\"1\" class=\"dataframe\">\n",
       "  <thead>\n",
       "    <tr style=\"text-align: right;\">\n",
       "      <th></th>\n",
       "      <th>PassengerId</th>\n",
       "      <th>Pclass</th>\n",
       "      <th>Name</th>\n",
       "      <th>Sex</th>\n",
       "      <th>Age</th>\n",
       "      <th>SibSp</th>\n",
       "      <th>Parch</th>\n",
       "      <th>Ticket</th>\n",
       "      <th>Fare</th>\n",
       "      <th>Cabin</th>\n",
       "      <th>Embarked</th>\n",
       "    </tr>\n",
       "  </thead>\n",
       "  <tbody>\n",
       "    <tr>\n",
       "      <th>0</th>\n",
       "      <td>892</td>\n",
       "      <td>3</td>\n",
       "      <td>Kelly, Mr. James</td>\n",
       "      <td>male</td>\n",
       "      <td>34.5</td>\n",
       "      <td>0</td>\n",
       "      <td>0</td>\n",
       "      <td>330911</td>\n",
       "      <td>7.8292</td>\n",
       "      <td>NaN</td>\n",
       "      <td>Q</td>\n",
       "    </tr>\n",
       "    <tr>\n",
       "      <th>1</th>\n",
       "      <td>893</td>\n",
       "      <td>3</td>\n",
       "      <td>Wilkes, Mrs. James (Ellen Needs)</td>\n",
       "      <td>female</td>\n",
       "      <td>47.0</td>\n",
       "      <td>1</td>\n",
       "      <td>0</td>\n",
       "      <td>363272</td>\n",
       "      <td>7.0000</td>\n",
       "      <td>NaN</td>\n",
       "      <td>S</td>\n",
       "    </tr>\n",
       "    <tr>\n",
       "      <th>2</th>\n",
       "      <td>894</td>\n",
       "      <td>2</td>\n",
       "      <td>Myles, Mr. Thomas Francis</td>\n",
       "      <td>male</td>\n",
       "      <td>62.0</td>\n",
       "      <td>0</td>\n",
       "      <td>0</td>\n",
       "      <td>240276</td>\n",
       "      <td>9.6875</td>\n",
       "      <td>NaN</td>\n",
       "      <td>Q</td>\n",
       "    </tr>\n",
       "    <tr>\n",
       "      <th>3</th>\n",
       "      <td>895</td>\n",
       "      <td>3</td>\n",
       "      <td>Wirz, Mr. Albert</td>\n",
       "      <td>male</td>\n",
       "      <td>27.0</td>\n",
       "      <td>0</td>\n",
       "      <td>0</td>\n",
       "      <td>315154</td>\n",
       "      <td>8.6625</td>\n",
       "      <td>NaN</td>\n",
       "      <td>S</td>\n",
       "    </tr>\n",
       "    <tr>\n",
       "      <th>4</th>\n",
       "      <td>896</td>\n",
       "      <td>3</td>\n",
       "      <td>Hirvonen, Mrs. Alexander (Helga E Lindqvist)</td>\n",
       "      <td>female</td>\n",
       "      <td>22.0</td>\n",
       "      <td>1</td>\n",
       "      <td>1</td>\n",
       "      <td>3101298</td>\n",
       "      <td>12.2875</td>\n",
       "      <td>NaN</td>\n",
       "      <td>S</td>\n",
       "    </tr>\n",
       "  </tbody>\n",
       "</table>\n",
       "</div>"
      ],
      "text/plain": [
       "   PassengerId  Pclass                                          Name     Sex  \\\n",
       "0          892       3                              Kelly, Mr. James    male   \n",
       "1          893       3              Wilkes, Mrs. James (Ellen Needs)  female   \n",
       "2          894       2                     Myles, Mr. Thomas Francis    male   \n",
       "3          895       3                              Wirz, Mr. Albert    male   \n",
       "4          896       3  Hirvonen, Mrs. Alexander (Helga E Lindqvist)  female   \n",
       "\n",
       "    Age  SibSp  Parch   Ticket     Fare Cabin Embarked  \n",
       "0  34.5      0      0   330911   7.8292   NaN        Q  \n",
       "1  47.0      1      0   363272   7.0000   NaN        S  \n",
       "2  62.0      0      0   240276   9.6875   NaN        Q  \n",
       "3  27.0      0      0   315154   8.6625   NaN        S  \n",
       "4  22.0      1      1  3101298  12.2875   NaN        S  "
      ]
     },
     "execution_count": 9,
     "metadata": {},
     "output_type": "execute_result"
    }
   ],
   "source": [
    "test_data.head()"
   ]
  },
  {
   "cell_type": "code",
   "execution_count": 10,
   "id": "de206e31",
   "metadata": {
    "execution": {
     "iopub.execute_input": "2022-06-03T11:42:56.216805Z",
     "iopub.status.busy": "2022-06-03T11:42:56.216201Z",
     "iopub.status.idle": "2022-06-03T11:42:56.221890Z",
     "shell.execute_reply": "2022-06-03T11:42:56.220867Z"
    },
    "papermill": {
     "duration": 0.025249,
     "end_time": "2022-06-03T11:42:56.223804",
     "exception": false,
     "start_time": "2022-06-03T11:42:56.198555",
     "status": "completed"
    },
    "tags": []
   },
   "outputs": [
    {
     "data": {
      "text/plain": [
       "pandas.core.frame.DataFrame"
      ]
     },
     "execution_count": 10,
     "metadata": {},
     "output_type": "execute_result"
    }
   ],
   "source": [
    "type(test_data)"
   ]
  },
  {
   "cell_type": "code",
   "execution_count": 11,
   "id": "7120ef58",
   "metadata": {
    "execution": {
     "iopub.execute_input": "2022-06-03T11:42:56.258353Z",
     "iopub.status.busy": "2022-06-03T11:42:56.257741Z",
     "iopub.status.idle": "2022-06-03T11:42:56.262848Z",
     "shell.execute_reply": "2022-06-03T11:42:56.262094Z"
    },
    "papermill": {
     "duration": 0.024724,
     "end_time": "2022-06-03T11:42:56.264750",
     "exception": false,
     "start_time": "2022-06-03T11:42:56.240026",
     "status": "completed"
    },
    "tags": []
   },
   "outputs": [
    {
     "data": {
      "text/plain": [
       "418"
      ]
     },
     "execution_count": 11,
     "metadata": {},
     "output_type": "execute_result"
    }
   ],
   "source": [
    "len(test_data)"
   ]
  },
  {
   "cell_type": "code",
   "execution_count": 12,
   "id": "e5035cca",
   "metadata": {
    "execution": {
     "iopub.execute_input": "2022-06-03T11:42:56.307389Z",
     "iopub.status.busy": "2022-06-03T11:42:56.306485Z",
     "iopub.status.idle": "2022-06-03T11:42:56.311879Z",
     "shell.execute_reply": "2022-06-03T11:42:56.311104Z"
    },
    "papermill": {
     "duration": 0.032487,
     "end_time": "2022-06-03T11:42:56.313772",
     "exception": false,
     "start_time": "2022-06-03T11:42:56.281285",
     "status": "completed"
    },
    "tags": []
   },
   "outputs": [
    {
     "data": {
      "text/plain": [
       "(418, 11)"
      ]
     },
     "execution_count": 12,
     "metadata": {},
     "output_type": "execute_result"
    }
   ],
   "source": [
    "test_data.shape"
   ]
  },
  {
   "cell_type": "code",
   "execution_count": 13,
   "id": "563e1166",
   "metadata": {
    "execution": {
     "iopub.execute_input": "2022-06-03T11:42:56.349230Z",
     "iopub.status.busy": "2022-06-03T11:42:56.348685Z",
     "iopub.status.idle": "2022-06-03T11:42:56.374259Z",
     "shell.execute_reply": "2022-06-03T11:42:56.373261Z"
    },
    "papermill": {
     "duration": 0.046941,
     "end_time": "2022-06-03T11:42:56.377386",
     "exception": false,
     "start_time": "2022-06-03T11:42:56.330445",
     "status": "completed"
    },
    "tags": []
   },
   "outputs": [
    {
     "name": "stdout",
     "output_type": "stream",
     "text": [
      "<class 'pandas.core.frame.DataFrame'>\n",
      "RangeIndex: 418 entries, 0 to 417\n",
      "Data columns (total 11 columns):\n",
      " #   Column       Non-Null Count  Dtype  \n",
      "---  ------       --------------  -----  \n",
      " 0   PassengerId  418 non-null    int64  \n",
      " 1   Pclass       418 non-null    int64  \n",
      " 2   Name         418 non-null    object \n",
      " 3   Sex          418 non-null    object \n",
      " 4   Age          332 non-null    float64\n",
      " 5   SibSp        418 non-null    int64  \n",
      " 6   Parch        418 non-null    int64  \n",
      " 7   Ticket       418 non-null    object \n",
      " 8   Fare         417 non-null    float64\n",
      " 9   Cabin        91 non-null     object \n",
      " 10  Embarked     418 non-null    object \n",
      "dtypes: float64(2), int64(4), object(5)\n",
      "memory usage: 36.0+ KB\n"
     ]
    }
   ],
   "source": [
    "test_data.info()"
   ]
  },
  {
   "cell_type": "code",
   "execution_count": 14,
   "id": "f4220483",
   "metadata": {
    "execution": {
     "iopub.execute_input": "2022-06-03T11:42:56.412512Z",
     "iopub.status.busy": "2022-06-03T11:42:56.411892Z",
     "iopub.status.idle": "2022-06-03T11:42:56.418662Z",
     "shell.execute_reply": "2022-06-03T11:42:56.417839Z"
    },
    "papermill": {
     "duration": 0.026556,
     "end_time": "2022-06-03T11:42:56.420616",
     "exception": false,
     "start_time": "2022-06-03T11:42:56.394060",
     "status": "completed"
    },
    "tags": []
   },
   "outputs": [
    {
     "data": {
      "text/plain": [
       "4598"
      ]
     },
     "execution_count": 14,
     "metadata": {},
     "output_type": "execute_result"
    }
   ],
   "source": [
    "test_data.size"
   ]
  },
  {
   "cell_type": "code",
   "execution_count": 15,
   "id": "f4b9d5c4",
   "metadata": {
    "execution": {
     "iopub.execute_input": "2022-06-03T11:42:56.456248Z",
     "iopub.status.busy": "2022-06-03T11:42:56.455426Z",
     "iopub.status.idle": "2022-06-03T11:42:56.462443Z",
     "shell.execute_reply": "2022-06-03T11:42:56.461423Z"
    },
    "papermill": {
     "duration": 0.027359,
     "end_time": "2022-06-03T11:42:56.464573",
     "exception": false,
     "start_time": "2022-06-03T11:42:56.437214",
     "status": "completed"
    },
    "tags": []
   },
   "outputs": [
    {
     "data": {
      "text/plain": [
       "11"
      ]
     },
     "execution_count": 15,
     "metadata": {},
     "output_type": "execute_result"
    }
   ],
   "source": [
    "len(test_data.columns)"
   ]
  },
  {
   "cell_type": "code",
   "execution_count": 16,
   "id": "062c736d",
   "metadata": {
    "execution": {
     "iopub.execute_input": "2022-06-03T11:42:56.500866Z",
     "iopub.status.busy": "2022-06-03T11:42:56.500251Z",
     "iopub.status.idle": "2022-06-03T11:42:56.508372Z",
     "shell.execute_reply": "2022-06-03T11:42:56.507353Z"
    },
    "papermill": {
     "duration": 0.028848,
     "end_time": "2022-06-03T11:42:56.510862",
     "exception": false,
     "start_time": "2022-06-03T11:42:56.482014",
     "status": "completed"
    },
    "tags": []
   },
   "outputs": [],
   "source": [
    "women = train_data.loc[train_data.Sex == 'female']['Survived']"
   ]
  },
  {
   "cell_type": "code",
   "execution_count": 17,
   "id": "0dd81b50",
   "metadata": {
    "execution": {
     "iopub.execute_input": "2022-06-03T11:42:56.546881Z",
     "iopub.status.busy": "2022-06-03T11:42:56.546447Z",
     "iopub.status.idle": "2022-06-03T11:42:56.554107Z",
     "shell.execute_reply": "2022-06-03T11:42:56.553220Z"
    },
    "papermill": {
     "duration": 0.027569,
     "end_time": "2022-06-03T11:42:56.555808",
     "exception": false,
     "start_time": "2022-06-03T11:42:56.528239",
     "status": "completed"
    },
    "tags": []
   },
   "outputs": [
    {
     "data": {
      "text/plain": [
       "1      1\n",
       "2      1\n",
       "3      1\n",
       "8      1\n",
       "9      1\n",
       "      ..\n",
       "880    1\n",
       "882    0\n",
       "885    0\n",
       "887    1\n",
       "888    0\n",
       "Name: Survived, Length: 314, dtype: int64"
      ]
     },
     "execution_count": 17,
     "metadata": {},
     "output_type": "execute_result"
    }
   ],
   "source": [
    "women"
   ]
  },
  {
   "cell_type": "code",
   "execution_count": 18,
   "id": "5c105fc1",
   "metadata": {
    "execution": {
     "iopub.execute_input": "2022-06-03T11:42:56.591636Z",
     "iopub.status.busy": "2022-06-03T11:42:56.590737Z",
     "iopub.status.idle": "2022-06-03T11:42:56.596208Z",
     "shell.execute_reply": "2022-06-03T11:42:56.595609Z"
    },
    "papermill": {
     "duration": 0.025433,
     "end_time": "2022-06-03T11:42:56.598078",
     "exception": false,
     "start_time": "2022-06-03T11:42:56.572645",
     "status": "completed"
    },
    "tags": []
   },
   "outputs": [
    {
     "data": {
      "text/plain": [
       "233"
      ]
     },
     "execution_count": 18,
     "metadata": {},
     "output_type": "execute_result"
    }
   ],
   "source": [
    "sum(women)"
   ]
  },
  {
   "cell_type": "code",
   "execution_count": 19,
   "id": "16d507b2",
   "metadata": {
    "execution": {
     "iopub.execute_input": "2022-06-03T11:42:56.635459Z",
     "iopub.status.busy": "2022-06-03T11:42:56.634447Z",
     "iopub.status.idle": "2022-06-03T11:42:56.640918Z",
     "shell.execute_reply": "2022-06-03T11:42:56.639971Z"
    },
    "papermill": {
     "duration": 0.027138,
     "end_time": "2022-06-03T11:42:56.642988",
     "exception": false,
     "start_time": "2022-06-03T11:42:56.615850",
     "status": "completed"
    },
    "tags": []
   },
   "outputs": [
    {
     "data": {
      "text/plain": [
       "314"
      ]
     },
     "execution_count": 19,
     "metadata": {},
     "output_type": "execute_result"
    }
   ],
   "source": [
    "len(women)"
   ]
  },
  {
   "cell_type": "code",
   "execution_count": 20,
   "id": "c4fa77ea",
   "metadata": {
    "execution": {
     "iopub.execute_input": "2022-06-03T11:42:56.680693Z",
     "iopub.status.busy": "2022-06-03T11:42:56.680111Z",
     "iopub.status.idle": "2022-06-03T11:42:56.686121Z",
     "shell.execute_reply": "2022-06-03T11:42:56.685204Z"
    },
    "papermill": {
     "duration": 0.02724,
     "end_time": "2022-06-03T11:42:56.688073",
     "exception": false,
     "start_time": "2022-06-03T11:42:56.660833",
     "status": "completed"
    },
    "tags": []
   },
   "outputs": [
    {
     "data": {
      "text/plain": [
       "pandas.core.series.Series"
      ]
     },
     "execution_count": 20,
     "metadata": {},
     "output_type": "execute_result"
    }
   ],
   "source": [
    "type(women)"
   ]
  },
  {
   "cell_type": "code",
   "execution_count": 21,
   "id": "59152eb7",
   "metadata": {
    "execution": {
     "iopub.execute_input": "2022-06-03T11:42:56.724676Z",
     "iopub.status.busy": "2022-06-03T11:42:56.724244Z",
     "iopub.status.idle": "2022-06-03T11:42:56.729240Z",
     "shell.execute_reply": "2022-06-03T11:42:56.728326Z"
    },
    "papermill": {
     "duration": 0.02584,
     "end_time": "2022-06-03T11:42:56.731342",
     "exception": false,
     "start_time": "2022-06-03T11:42:56.705502",
     "status": "completed"
    },
    "tags": []
   },
   "outputs": [],
   "source": [
    "num01 = pd.Series([0,1,1,2,2])"
   ]
  },
  {
   "cell_type": "code",
   "execution_count": 22,
   "id": "ce532910",
   "metadata": {
    "execution": {
     "iopub.execute_input": "2022-06-03T11:42:56.768737Z",
     "iopub.status.busy": "2022-06-03T11:42:56.767489Z",
     "iopub.status.idle": "2022-06-03T11:42:56.774299Z",
     "shell.execute_reply": "2022-06-03T11:42:56.773291Z"
    },
    "papermill": {
     "duration": 0.027291,
     "end_time": "2022-06-03T11:42:56.776183",
     "exception": false,
     "start_time": "2022-06-03T11:42:56.748892",
     "status": "completed"
    },
    "tags": []
   },
   "outputs": [
    {
     "data": {
      "text/plain": [
       "0    0\n",
       "1    1\n",
       "2    1\n",
       "3    2\n",
       "4    2\n",
       "dtype: int64"
      ]
     },
     "execution_count": 22,
     "metadata": {},
     "output_type": "execute_result"
    }
   ],
   "source": [
    "num01"
   ]
  },
  {
   "cell_type": "code",
   "execution_count": 23,
   "id": "30de252c",
   "metadata": {
    "execution": {
     "iopub.execute_input": "2022-06-03T11:42:56.813255Z",
     "iopub.status.busy": "2022-06-03T11:42:56.812018Z",
     "iopub.status.idle": "2022-06-03T11:42:56.818914Z",
     "shell.execute_reply": "2022-06-03T11:42:56.817851Z"
    },
    "papermill": {
     "duration": 0.027407,
     "end_time": "2022-06-03T11:42:56.820946",
     "exception": false,
     "start_time": "2022-06-03T11:42:56.793539",
     "status": "completed"
    },
    "tags": []
   },
   "outputs": [
    {
     "data": {
      "text/plain": [
       "6"
      ]
     },
     "execution_count": 23,
     "metadata": {},
     "output_type": "execute_result"
    }
   ],
   "source": [
    "sum(num01)"
   ]
  },
  {
   "cell_type": "code",
   "execution_count": 24,
   "id": "69f93446",
   "metadata": {
    "execution": {
     "iopub.execute_input": "2022-06-03T11:42:56.859472Z",
     "iopub.status.busy": "2022-06-03T11:42:56.858865Z",
     "iopub.status.idle": "2022-06-03T11:42:56.865426Z",
     "shell.execute_reply": "2022-06-03T11:42:56.864600Z"
    },
    "papermill": {
     "duration": 0.027927,
     "end_time": "2022-06-03T11:42:56.867434",
     "exception": false,
     "start_time": "2022-06-03T11:42:56.839507",
     "status": "completed"
    },
    "tags": []
   },
   "outputs": [
    {
     "data": {
      "text/plain": [
       "0.7420382165605095"
      ]
     },
     "execution_count": 24,
     "metadata": {},
     "output_type": "execute_result"
    }
   ],
   "source": [
    "rate_women = sum(women)/len(women)\n",
    "rate_women"
   ]
  },
  {
   "cell_type": "code",
   "execution_count": 25,
   "id": "9af39921",
   "metadata": {
    "execution": {
     "iopub.execute_input": "2022-06-03T11:42:56.904775Z",
     "iopub.status.busy": "2022-06-03T11:42:56.904063Z",
     "iopub.status.idle": "2022-06-03T11:42:56.909263Z",
     "shell.execute_reply": "2022-06-03T11:42:56.908044Z"
    },
    "papermill": {
     "duration": 0.026019,
     "end_time": "2022-06-03T11:42:56.911157",
     "exception": false,
     "start_time": "2022-06-03T11:42:56.885138",
     "status": "completed"
    },
    "tags": []
   },
   "outputs": [
    {
     "name": "stdout",
     "output_type": "stream",
     "text": [
      "% of women who survived: 0.7420382165605095\n"
     ]
    }
   ],
   "source": [
    "print(\"% of women who survived:\", rate_women)"
   ]
  },
  {
   "cell_type": "code",
   "execution_count": 26,
   "id": "32ca00ed",
   "metadata": {
    "execution": {
     "iopub.execute_input": "2022-06-03T11:42:56.951224Z",
     "iopub.status.busy": "2022-06-03T11:42:56.950277Z",
     "iopub.status.idle": "2022-06-03T11:42:56.956878Z",
     "shell.execute_reply": "2022-06-03T11:42:56.955843Z"
    },
    "papermill": {
     "duration": 0.029005,
     "end_time": "2022-06-03T11:42:56.959461",
     "exception": false,
     "start_time": "2022-06-03T11:42:56.930456",
     "status": "completed"
    },
    "tags": []
   },
   "outputs": [],
   "source": [
    "men = train_data.loc[train_data.Sex=='male'][\"Survived\"]"
   ]
  },
  {
   "cell_type": "code",
   "execution_count": 27,
   "id": "e1b882fb",
   "metadata": {
    "execution": {
     "iopub.execute_input": "2022-06-03T11:42:56.999045Z",
     "iopub.status.busy": "2022-06-03T11:42:56.998614Z",
     "iopub.status.idle": "2022-06-03T11:42:57.005643Z",
     "shell.execute_reply": "2022-06-03T11:42:57.004871Z"
    },
    "papermill": {
     "duration": 0.029454,
     "end_time": "2022-06-03T11:42:57.007489",
     "exception": false,
     "start_time": "2022-06-03T11:42:56.978035",
     "status": "completed"
    },
    "tags": []
   },
   "outputs": [
    {
     "data": {
      "text/plain": [
       "0      0\n",
       "4      0\n",
       "5      0\n",
       "6      0\n",
       "7      0\n",
       "      ..\n",
       "883    0\n",
       "884    0\n",
       "886    0\n",
       "889    1\n",
       "890    0\n",
       "Name: Survived, Length: 577, dtype: int64"
      ]
     },
     "execution_count": 27,
     "metadata": {},
     "output_type": "execute_result"
    }
   ],
   "source": [
    "men"
   ]
  },
  {
   "cell_type": "code",
   "execution_count": 28,
   "id": "ef5ebb2a",
   "metadata": {
    "execution": {
     "iopub.execute_input": "2022-06-03T11:42:57.045764Z",
     "iopub.status.busy": "2022-06-03T11:42:57.044682Z",
     "iopub.status.idle": "2022-06-03T11:42:57.050889Z",
     "shell.execute_reply": "2022-06-03T11:42:57.050220Z"
    },
    "papermill": {
     "duration": 0.027274,
     "end_time": "2022-06-03T11:42:57.052609",
     "exception": false,
     "start_time": "2022-06-03T11:42:57.025335",
     "status": "completed"
    },
    "tags": []
   },
   "outputs": [
    {
     "data": {
      "text/plain": [
       "0.18890814558058924"
      ]
     },
     "execution_count": 28,
     "metadata": {},
     "output_type": "execute_result"
    }
   ],
   "source": [
    "rate_men = sum(men)/len(men)\n",
    "rate_men"
   ]
  },
  {
   "cell_type": "code",
   "execution_count": 29,
   "id": "6d9ff8a0",
   "metadata": {
    "execution": {
     "iopub.execute_input": "2022-06-03T11:42:57.091400Z",
     "iopub.status.busy": "2022-06-03T11:42:57.090579Z",
     "iopub.status.idle": "2022-06-03T11:42:57.095806Z",
     "shell.execute_reply": "2022-06-03T11:42:57.094590Z"
    },
    "papermill": {
     "duration": 0.027251,
     "end_time": "2022-06-03T11:42:57.097887",
     "exception": false,
     "start_time": "2022-06-03T11:42:57.070636",
     "status": "completed"
    },
    "tags": []
   },
   "outputs": [
    {
     "name": "stdout",
     "output_type": "stream",
     "text": [
      "% of men who survived: 0.18890814558058924\n"
     ]
    }
   ],
   "source": [
    "print(\"% of men who survived:\", rate_men)"
   ]
  },
  {
   "cell_type": "code",
   "execution_count": null,
   "id": "e545a9bf",
   "metadata": {
    "papermill": {
     "duration": 0.017854,
     "end_time": "2022-06-03T11:42:57.134296",
     "exception": false,
     "start_time": "2022-06-03T11:42:57.116442",
     "status": "completed"
    },
    "tags": []
   },
   "outputs": [],
   "source": []
  },
  {
   "cell_type": "code",
   "execution_count": 30,
   "id": "e979afc0",
   "metadata": {
    "execution": {
     "iopub.execute_input": "2022-06-03T11:42:57.173856Z",
     "iopub.status.busy": "2022-06-03T11:42:57.173455Z",
     "iopub.status.idle": "2022-06-03T11:42:58.605326Z",
     "shell.execute_reply": "2022-06-03T11:42:58.604331Z"
    },
    "papermill": {
     "duration": 1.454665,
     "end_time": "2022-06-03T11:42:58.607980",
     "exception": false,
     "start_time": "2022-06-03T11:42:57.153315",
     "status": "completed"
    },
    "tags": []
   },
   "outputs": [],
   "source": [
    "from sklearn.ensemble import RandomForestClassifier"
   ]
  },
  {
   "cell_type": "code",
   "execution_count": 31,
   "id": "4d487655",
   "metadata": {
    "execution": {
     "iopub.execute_input": "2022-06-03T11:42:58.646700Z",
     "iopub.status.busy": "2022-06-03T11:42:58.646300Z",
     "iopub.status.idle": "2022-06-03T11:42:58.651922Z",
     "shell.execute_reply": "2022-06-03T11:42:58.651136Z"
    },
    "papermill": {
     "duration": 0.027834,
     "end_time": "2022-06-03T11:42:58.654474",
     "exception": false,
     "start_time": "2022-06-03T11:42:58.626640",
     "status": "completed"
    },
    "tags": []
   },
   "outputs": [
    {
     "data": {
      "text/plain": [
       "sklearn.ensemble._forest.RandomForestClassifier"
      ]
     },
     "execution_count": 31,
     "metadata": {},
     "output_type": "execute_result"
    }
   ],
   "source": [
    "RandomForestClassifier"
   ]
  },
  {
   "cell_type": "code",
   "execution_count": 32,
   "id": "225d2176",
   "metadata": {
    "execution": {
     "iopub.execute_input": "2022-06-03T11:42:58.694184Z",
     "iopub.status.busy": "2022-06-03T11:42:58.693210Z",
     "iopub.status.idle": "2022-06-03T11:42:58.697582Z",
     "shell.execute_reply": "2022-06-03T11:42:58.696905Z"
    },
    "papermill": {
     "duration": 0.02623,
     "end_time": "2022-06-03T11:42:58.699607",
     "exception": false,
     "start_time": "2022-06-03T11:42:58.673377",
     "status": "completed"
    },
    "tags": []
   },
   "outputs": [],
   "source": [
    "y = train_data[\"Survived\"]"
   ]
  },
  {
   "cell_type": "code",
   "execution_count": 33,
   "id": "d2f13e65",
   "metadata": {
    "execution": {
     "iopub.execute_input": "2022-06-03T11:42:58.739153Z",
     "iopub.status.busy": "2022-06-03T11:42:58.738141Z",
     "iopub.status.idle": "2022-06-03T11:42:58.746551Z",
     "shell.execute_reply": "2022-06-03T11:42:58.745856Z"
    },
    "papermill": {
     "duration": 0.030106,
     "end_time": "2022-06-03T11:42:58.748490",
     "exception": false,
     "start_time": "2022-06-03T11:42:58.718384",
     "status": "completed"
    },
    "tags": []
   },
   "outputs": [
    {
     "data": {
      "text/plain": [
       "0      0\n",
       "1      1\n",
       "2      1\n",
       "3      1\n",
       "4      0\n",
       "      ..\n",
       "886    0\n",
       "887    1\n",
       "888    0\n",
       "889    1\n",
       "890    0\n",
       "Name: Survived, Length: 891, dtype: int64"
      ]
     },
     "execution_count": 33,
     "metadata": {},
     "output_type": "execute_result"
    }
   ],
   "source": [
    "y"
   ]
  },
  {
   "cell_type": "code",
   "execution_count": 34,
   "id": "32ce9a9f",
   "metadata": {
    "execution": {
     "iopub.execute_input": "2022-06-03T11:42:58.788523Z",
     "iopub.status.busy": "2022-06-03T11:42:58.787961Z",
     "iopub.status.idle": "2022-06-03T11:42:58.794041Z",
     "shell.execute_reply": "2022-06-03T11:42:58.793082Z"
    },
    "papermill": {
     "duration": 0.028564,
     "end_time": "2022-06-03T11:42:58.796000",
     "exception": false,
     "start_time": "2022-06-03T11:42:58.767436",
     "status": "completed"
    },
    "tags": []
   },
   "outputs": [
    {
     "data": {
      "text/plain": [
       "pandas.core.series.Series"
      ]
     },
     "execution_count": 34,
     "metadata": {},
     "output_type": "execute_result"
    }
   ],
   "source": [
    "type(y)"
   ]
  },
  {
   "cell_type": "code",
   "execution_count": 35,
   "id": "414c1c19",
   "metadata": {
    "execution": {
     "iopub.execute_input": "2022-06-03T11:42:58.836024Z",
     "iopub.status.busy": "2022-06-03T11:42:58.835398Z",
     "iopub.status.idle": "2022-06-03T11:42:58.841655Z",
     "shell.execute_reply": "2022-06-03T11:42:58.840863Z"
    },
    "papermill": {
     "duration": 0.029155,
     "end_time": "2022-06-03T11:42:58.843701",
     "exception": false,
     "start_time": "2022-06-03T11:42:58.814546",
     "status": "completed"
    },
    "tags": []
   },
   "outputs": [
    {
     "data": {
      "text/plain": [
       "pandas.core.frame.DataFrame"
      ]
     },
     "execution_count": 35,
     "metadata": {},
     "output_type": "execute_result"
    }
   ],
   "source": [
    "type(train_data)"
   ]
  },
  {
   "cell_type": "code",
   "execution_count": 36,
   "id": "d55add2b",
   "metadata": {
    "execution": {
     "iopub.execute_input": "2022-06-03T11:42:58.883148Z",
     "iopub.status.busy": "2022-06-03T11:42:58.882464Z",
     "iopub.status.idle": "2022-06-03T11:42:58.887303Z",
     "shell.execute_reply": "2022-06-03T11:42:58.886614Z"
    },
    "papermill": {
     "duration": 0.02706,
     "end_time": "2022-06-03T11:42:58.889341",
     "exception": false,
     "start_time": "2022-06-03T11:42:58.862281",
     "status": "completed"
    },
    "tags": []
   },
   "outputs": [],
   "source": [
    "features = [\"Pclass\", \"Sex\", \"SibSp\", \"Parch\"]"
   ]
  },
  {
   "cell_type": "code",
   "execution_count": 37,
   "id": "a9da0655",
   "metadata": {
    "execution": {
     "iopub.execute_input": "2022-06-03T11:42:58.929768Z",
     "iopub.status.busy": "2022-06-03T11:42:58.929020Z",
     "iopub.status.idle": "2022-06-03T11:42:58.939310Z",
     "shell.execute_reply": "2022-06-03T11:42:58.938197Z"
    },
    "papermill": {
     "duration": 0.03271,
     "end_time": "2022-06-03T11:42:58.941682",
     "exception": false,
     "start_time": "2022-06-03T11:42:58.908972",
     "status": "completed"
    },
    "tags": []
   },
   "outputs": [],
   "source": [
    "X = pd.get_dummies(train_data[features])"
   ]
  },
  {
   "cell_type": "code",
   "execution_count": 38,
   "id": "158edc6c",
   "metadata": {
    "execution": {
     "iopub.execute_input": "2022-06-03T11:42:58.982998Z",
     "iopub.status.busy": "2022-06-03T11:42:58.982177Z",
     "iopub.status.idle": "2022-06-03T11:42:58.995537Z",
     "shell.execute_reply": "2022-06-03T11:42:58.994613Z"
    },
    "papermill": {
     "duration": 0.036966,
     "end_time": "2022-06-03T11:42:58.997702",
     "exception": false,
     "start_time": "2022-06-03T11:42:58.960736",
     "status": "completed"
    },
    "tags": []
   },
   "outputs": [
    {
     "data": {
      "text/html": [
       "<div>\n",
       "<style scoped>\n",
       "    .dataframe tbody tr th:only-of-type {\n",
       "        vertical-align: middle;\n",
       "    }\n",
       "\n",
       "    .dataframe tbody tr th {\n",
       "        vertical-align: top;\n",
       "    }\n",
       "\n",
       "    .dataframe thead th {\n",
       "        text-align: right;\n",
       "    }\n",
       "</style>\n",
       "<table border=\"1\" class=\"dataframe\">\n",
       "  <thead>\n",
       "    <tr style=\"text-align: right;\">\n",
       "      <th></th>\n",
       "      <th>Pclass</th>\n",
       "      <th>SibSp</th>\n",
       "      <th>Parch</th>\n",
       "      <th>Sex_female</th>\n",
       "      <th>Sex_male</th>\n",
       "    </tr>\n",
       "  </thead>\n",
       "  <tbody>\n",
       "    <tr>\n",
       "      <th>0</th>\n",
       "      <td>3</td>\n",
       "      <td>1</td>\n",
       "      <td>0</td>\n",
       "      <td>0</td>\n",
       "      <td>1</td>\n",
       "    </tr>\n",
       "    <tr>\n",
       "      <th>1</th>\n",
       "      <td>1</td>\n",
       "      <td>1</td>\n",
       "      <td>0</td>\n",
       "      <td>1</td>\n",
       "      <td>0</td>\n",
       "    </tr>\n",
       "    <tr>\n",
       "      <th>2</th>\n",
       "      <td>3</td>\n",
       "      <td>0</td>\n",
       "      <td>0</td>\n",
       "      <td>1</td>\n",
       "      <td>0</td>\n",
       "    </tr>\n",
       "    <tr>\n",
       "      <th>3</th>\n",
       "      <td>1</td>\n",
       "      <td>1</td>\n",
       "      <td>0</td>\n",
       "      <td>1</td>\n",
       "      <td>0</td>\n",
       "    </tr>\n",
       "    <tr>\n",
       "      <th>4</th>\n",
       "      <td>3</td>\n",
       "      <td>0</td>\n",
       "      <td>0</td>\n",
       "      <td>0</td>\n",
       "      <td>1</td>\n",
       "    </tr>\n",
       "    <tr>\n",
       "      <th>...</th>\n",
       "      <td>...</td>\n",
       "      <td>...</td>\n",
       "      <td>...</td>\n",
       "      <td>...</td>\n",
       "      <td>...</td>\n",
       "    </tr>\n",
       "    <tr>\n",
       "      <th>886</th>\n",
       "      <td>2</td>\n",
       "      <td>0</td>\n",
       "      <td>0</td>\n",
       "      <td>0</td>\n",
       "      <td>1</td>\n",
       "    </tr>\n",
       "    <tr>\n",
       "      <th>887</th>\n",
       "      <td>1</td>\n",
       "      <td>0</td>\n",
       "      <td>0</td>\n",
       "      <td>1</td>\n",
       "      <td>0</td>\n",
       "    </tr>\n",
       "    <tr>\n",
       "      <th>888</th>\n",
       "      <td>3</td>\n",
       "      <td>1</td>\n",
       "      <td>2</td>\n",
       "      <td>1</td>\n",
       "      <td>0</td>\n",
       "    </tr>\n",
       "    <tr>\n",
       "      <th>889</th>\n",
       "      <td>1</td>\n",
       "      <td>0</td>\n",
       "      <td>0</td>\n",
       "      <td>0</td>\n",
       "      <td>1</td>\n",
       "    </tr>\n",
       "    <tr>\n",
       "      <th>890</th>\n",
       "      <td>3</td>\n",
       "      <td>0</td>\n",
       "      <td>0</td>\n",
       "      <td>0</td>\n",
       "      <td>1</td>\n",
       "    </tr>\n",
       "  </tbody>\n",
       "</table>\n",
       "<p>891 rows × 5 columns</p>\n",
       "</div>"
      ],
      "text/plain": [
       "     Pclass  SibSp  Parch  Sex_female  Sex_male\n",
       "0         3      1      0           0         1\n",
       "1         1      1      0           1         0\n",
       "2         3      0      0           1         0\n",
       "3         1      1      0           1         0\n",
       "4         3      0      0           0         1\n",
       "..      ...    ...    ...         ...       ...\n",
       "886       2      0      0           0         1\n",
       "887       1      0      0           1         0\n",
       "888       3      1      2           1         0\n",
       "889       1      0      0           0         1\n",
       "890       3      0      0           0         1\n",
       "\n",
       "[891 rows x 5 columns]"
      ]
     },
     "execution_count": 38,
     "metadata": {},
     "output_type": "execute_result"
    }
   ],
   "source": [
    "X"
   ]
  },
  {
   "cell_type": "code",
   "execution_count": 39,
   "id": "0aae7880",
   "metadata": {
    "execution": {
     "iopub.execute_input": "2022-06-03T11:42:59.037635Z",
     "iopub.status.busy": "2022-06-03T11:42:59.036911Z",
     "iopub.status.idle": "2022-06-03T11:42:59.053010Z",
     "shell.execute_reply": "2022-06-03T11:42:59.052114Z"
    },
    "papermill": {
     "duration": 0.038525,
     "end_time": "2022-06-03T11:42:59.055130",
     "exception": false,
     "start_time": "2022-06-03T11:42:59.016605",
     "status": "completed"
    },
    "tags": []
   },
   "outputs": [
    {
     "data": {
      "text/html": [
       "<div>\n",
       "<style scoped>\n",
       "    .dataframe tbody tr th:only-of-type {\n",
       "        vertical-align: middle;\n",
       "    }\n",
       "\n",
       "    .dataframe tbody tr th {\n",
       "        vertical-align: top;\n",
       "    }\n",
       "\n",
       "    .dataframe thead th {\n",
       "        text-align: right;\n",
       "    }\n",
       "</style>\n",
       "<table border=\"1\" class=\"dataframe\">\n",
       "  <thead>\n",
       "    <tr style=\"text-align: right;\">\n",
       "      <th></th>\n",
       "      <th>PassengerId</th>\n",
       "      <th>Survived</th>\n",
       "      <th>Pclass</th>\n",
       "      <th>Name</th>\n",
       "      <th>Sex</th>\n",
       "      <th>Age</th>\n",
       "      <th>SibSp</th>\n",
       "      <th>Parch</th>\n",
       "      <th>Ticket</th>\n",
       "      <th>Fare</th>\n",
       "      <th>Cabin</th>\n",
       "      <th>Embarked</th>\n",
       "    </tr>\n",
       "  </thead>\n",
       "  <tbody>\n",
       "    <tr>\n",
       "      <th>0</th>\n",
       "      <td>1</td>\n",
       "      <td>0</td>\n",
       "      <td>3</td>\n",
       "      <td>Braund, Mr. Owen Harris</td>\n",
       "      <td>male</td>\n",
       "      <td>22.0</td>\n",
       "      <td>1</td>\n",
       "      <td>0</td>\n",
       "      <td>A/5 21171</td>\n",
       "      <td>7.2500</td>\n",
       "      <td>NaN</td>\n",
       "      <td>S</td>\n",
       "    </tr>\n",
       "    <tr>\n",
       "      <th>1</th>\n",
       "      <td>2</td>\n",
       "      <td>1</td>\n",
       "      <td>1</td>\n",
       "      <td>Cumings, Mrs. John Bradley (Florence Briggs Th...</td>\n",
       "      <td>female</td>\n",
       "      <td>38.0</td>\n",
       "      <td>1</td>\n",
       "      <td>0</td>\n",
       "      <td>PC 17599</td>\n",
       "      <td>71.2833</td>\n",
       "      <td>C85</td>\n",
       "      <td>C</td>\n",
       "    </tr>\n",
       "    <tr>\n",
       "      <th>2</th>\n",
       "      <td>3</td>\n",
       "      <td>1</td>\n",
       "      <td>3</td>\n",
       "      <td>Heikkinen, Miss. Laina</td>\n",
       "      <td>female</td>\n",
       "      <td>26.0</td>\n",
       "      <td>0</td>\n",
       "      <td>0</td>\n",
       "      <td>STON/O2. 3101282</td>\n",
       "      <td>7.9250</td>\n",
       "      <td>NaN</td>\n",
       "      <td>S</td>\n",
       "    </tr>\n",
       "    <tr>\n",
       "      <th>3</th>\n",
       "      <td>4</td>\n",
       "      <td>1</td>\n",
       "      <td>1</td>\n",
       "      <td>Futrelle, Mrs. Jacques Heath (Lily May Peel)</td>\n",
       "      <td>female</td>\n",
       "      <td>35.0</td>\n",
       "      <td>1</td>\n",
       "      <td>0</td>\n",
       "      <td>113803</td>\n",
       "      <td>53.1000</td>\n",
       "      <td>C123</td>\n",
       "      <td>S</td>\n",
       "    </tr>\n",
       "    <tr>\n",
       "      <th>4</th>\n",
       "      <td>5</td>\n",
       "      <td>0</td>\n",
       "      <td>3</td>\n",
       "      <td>Allen, Mr. William Henry</td>\n",
       "      <td>male</td>\n",
       "      <td>35.0</td>\n",
       "      <td>0</td>\n",
       "      <td>0</td>\n",
       "      <td>373450</td>\n",
       "      <td>8.0500</td>\n",
       "      <td>NaN</td>\n",
       "      <td>S</td>\n",
       "    </tr>\n",
       "  </tbody>\n",
       "</table>\n",
       "</div>"
      ],
      "text/plain": [
       "   PassengerId  Survived  Pclass  \\\n",
       "0            1         0       3   \n",
       "1            2         1       1   \n",
       "2            3         1       3   \n",
       "3            4         1       1   \n",
       "4            5         0       3   \n",
       "\n",
       "                                                Name     Sex   Age  SibSp  \\\n",
       "0                            Braund, Mr. Owen Harris    male  22.0      1   \n",
       "1  Cumings, Mrs. John Bradley (Florence Briggs Th...  female  38.0      1   \n",
       "2                             Heikkinen, Miss. Laina  female  26.0      0   \n",
       "3       Futrelle, Mrs. Jacques Heath (Lily May Peel)  female  35.0      1   \n",
       "4                           Allen, Mr. William Henry    male  35.0      0   \n",
       "\n",
       "   Parch            Ticket     Fare Cabin Embarked  \n",
       "0      0         A/5 21171   7.2500   NaN        S  \n",
       "1      0          PC 17599  71.2833   C85        C  \n",
       "2      0  STON/O2. 3101282   7.9250   NaN        S  \n",
       "3      0            113803  53.1000  C123        S  \n",
       "4      0            373450   8.0500   NaN        S  "
      ]
     },
     "execution_count": 39,
     "metadata": {},
     "output_type": "execute_result"
    }
   ],
   "source": [
    "train_data.head()"
   ]
  },
  {
   "cell_type": "code",
   "execution_count": 40,
   "id": "822a6334",
   "metadata": {
    "execution": {
     "iopub.execute_input": "2022-06-03T11:42:59.095201Z",
     "iopub.status.busy": "2022-06-03T11:42:59.094506Z",
     "iopub.status.idle": "2022-06-03T11:42:59.100778Z",
     "shell.execute_reply": "2022-06-03T11:42:59.099867Z"
    },
    "papermill": {
     "duration": 0.028384,
     "end_time": "2022-06-03T11:42:59.102695",
     "exception": false,
     "start_time": "2022-06-03T11:42:59.074311",
     "status": "completed"
    },
    "tags": []
   },
   "outputs": [
    {
     "data": {
      "text/plain": [
       "function"
      ]
     },
     "execution_count": 40,
     "metadata": {},
     "output_type": "execute_result"
    }
   ],
   "source": [
    "type(pd.get_dummies)"
   ]
  },
  {
   "cell_type": "code",
   "execution_count": 41,
   "id": "97a00c33",
   "metadata": {
    "execution": {
     "iopub.execute_input": "2022-06-03T11:42:59.142541Z",
     "iopub.status.busy": "2022-06-03T11:42:59.141818Z",
     "iopub.status.idle": "2022-06-03T11:42:59.151068Z",
     "shell.execute_reply": "2022-06-03T11:42:59.150284Z"
    },
    "papermill": {
     "duration": 0.031678,
     "end_time": "2022-06-03T11:42:59.153221",
     "exception": false,
     "start_time": "2022-06-03T11:42:59.121543",
     "status": "completed"
    },
    "tags": []
   },
   "outputs": [],
   "source": [
    "X_test = pd.get_dummies(test_data[features])"
   ]
  },
  {
   "cell_type": "code",
   "execution_count": 42,
   "id": "6d436680",
   "metadata": {
    "execution": {
     "iopub.execute_input": "2022-06-03T11:42:59.193668Z",
     "iopub.status.busy": "2022-06-03T11:42:59.192962Z",
     "iopub.status.idle": "2022-06-03T11:42:59.205956Z",
     "shell.execute_reply": "2022-06-03T11:42:59.205008Z"
    },
    "papermill": {
     "duration": 0.03558,
     "end_time": "2022-06-03T11:42:59.208072",
     "exception": false,
     "start_time": "2022-06-03T11:42:59.172492",
     "status": "completed"
    },
    "tags": []
   },
   "outputs": [
    {
     "data": {
      "text/html": [
       "<div>\n",
       "<style scoped>\n",
       "    .dataframe tbody tr th:only-of-type {\n",
       "        vertical-align: middle;\n",
       "    }\n",
       "\n",
       "    .dataframe tbody tr th {\n",
       "        vertical-align: top;\n",
       "    }\n",
       "\n",
       "    .dataframe thead th {\n",
       "        text-align: right;\n",
       "    }\n",
       "</style>\n",
       "<table border=\"1\" class=\"dataframe\">\n",
       "  <thead>\n",
       "    <tr style=\"text-align: right;\">\n",
       "      <th></th>\n",
       "      <th>Pclass</th>\n",
       "      <th>SibSp</th>\n",
       "      <th>Parch</th>\n",
       "      <th>Sex_female</th>\n",
       "      <th>Sex_male</th>\n",
       "    </tr>\n",
       "  </thead>\n",
       "  <tbody>\n",
       "    <tr>\n",
       "      <th>0</th>\n",
       "      <td>3</td>\n",
       "      <td>0</td>\n",
       "      <td>0</td>\n",
       "      <td>0</td>\n",
       "      <td>1</td>\n",
       "    </tr>\n",
       "    <tr>\n",
       "      <th>1</th>\n",
       "      <td>3</td>\n",
       "      <td>1</td>\n",
       "      <td>0</td>\n",
       "      <td>1</td>\n",
       "      <td>0</td>\n",
       "    </tr>\n",
       "    <tr>\n",
       "      <th>2</th>\n",
       "      <td>2</td>\n",
       "      <td>0</td>\n",
       "      <td>0</td>\n",
       "      <td>0</td>\n",
       "      <td>1</td>\n",
       "    </tr>\n",
       "    <tr>\n",
       "      <th>3</th>\n",
       "      <td>3</td>\n",
       "      <td>0</td>\n",
       "      <td>0</td>\n",
       "      <td>0</td>\n",
       "      <td>1</td>\n",
       "    </tr>\n",
       "    <tr>\n",
       "      <th>4</th>\n",
       "      <td>3</td>\n",
       "      <td>1</td>\n",
       "      <td>1</td>\n",
       "      <td>1</td>\n",
       "      <td>0</td>\n",
       "    </tr>\n",
       "    <tr>\n",
       "      <th>...</th>\n",
       "      <td>...</td>\n",
       "      <td>...</td>\n",
       "      <td>...</td>\n",
       "      <td>...</td>\n",
       "      <td>...</td>\n",
       "    </tr>\n",
       "    <tr>\n",
       "      <th>413</th>\n",
       "      <td>3</td>\n",
       "      <td>0</td>\n",
       "      <td>0</td>\n",
       "      <td>0</td>\n",
       "      <td>1</td>\n",
       "    </tr>\n",
       "    <tr>\n",
       "      <th>414</th>\n",
       "      <td>1</td>\n",
       "      <td>0</td>\n",
       "      <td>0</td>\n",
       "      <td>1</td>\n",
       "      <td>0</td>\n",
       "    </tr>\n",
       "    <tr>\n",
       "      <th>415</th>\n",
       "      <td>3</td>\n",
       "      <td>0</td>\n",
       "      <td>0</td>\n",
       "      <td>0</td>\n",
       "      <td>1</td>\n",
       "    </tr>\n",
       "    <tr>\n",
       "      <th>416</th>\n",
       "      <td>3</td>\n",
       "      <td>0</td>\n",
       "      <td>0</td>\n",
       "      <td>0</td>\n",
       "      <td>1</td>\n",
       "    </tr>\n",
       "    <tr>\n",
       "      <th>417</th>\n",
       "      <td>3</td>\n",
       "      <td>1</td>\n",
       "      <td>1</td>\n",
       "      <td>0</td>\n",
       "      <td>1</td>\n",
       "    </tr>\n",
       "  </tbody>\n",
       "</table>\n",
       "<p>418 rows × 5 columns</p>\n",
       "</div>"
      ],
      "text/plain": [
       "     Pclass  SibSp  Parch  Sex_female  Sex_male\n",
       "0         3      0      0           0         1\n",
       "1         3      1      0           1         0\n",
       "2         2      0      0           0         1\n",
       "3         3      0      0           0         1\n",
       "4         3      1      1           1         0\n",
       "..      ...    ...    ...         ...       ...\n",
       "413       3      0      0           0         1\n",
       "414       1      0      0           1         0\n",
       "415       3      0      0           0         1\n",
       "416       3      0      0           0         1\n",
       "417       3      1      1           0         1\n",
       "\n",
       "[418 rows x 5 columns]"
      ]
     },
     "execution_count": 42,
     "metadata": {},
     "output_type": "execute_result"
    }
   ],
   "source": [
    "X_test"
   ]
  },
  {
   "cell_type": "code",
   "execution_count": 43,
   "id": "2225d410",
   "metadata": {
    "execution": {
     "iopub.execute_input": "2022-06-03T11:42:59.249545Z",
     "iopub.status.busy": "2022-06-03T11:42:59.248830Z",
     "iopub.status.idle": "2022-06-03T11:42:59.254063Z",
     "shell.execute_reply": "2022-06-03T11:42:59.253026Z"
    },
    "papermill": {
     "duration": 0.028449,
     "end_time": "2022-06-03T11:42:59.256193",
     "exception": false,
     "start_time": "2022-06-03T11:42:59.227744",
     "status": "completed"
    },
    "tags": []
   },
   "outputs": [],
   "source": [
    "model = RandomForestClassifier(n_estimators=100, max_depth=5, random_state=1)"
   ]
  },
  {
   "cell_type": "code",
   "execution_count": 44,
   "id": "d9c7eff2",
   "metadata": {
    "execution": {
     "iopub.execute_input": "2022-06-03T11:42:59.298542Z",
     "iopub.status.busy": "2022-06-03T11:42:59.297578Z",
     "iopub.status.idle": "2022-06-03T11:42:59.508034Z",
     "shell.execute_reply": "2022-06-03T11:42:59.506552Z"
    },
    "papermill": {
     "duration": 0.233748,
     "end_time": "2022-06-03T11:42:59.510377",
     "exception": false,
     "start_time": "2022-06-03T11:42:59.276629",
     "status": "completed"
    },
    "tags": []
   },
   "outputs": [
    {
     "data": {
      "text/plain": [
       "RandomForestClassifier(max_depth=5, random_state=1)"
      ]
     },
     "execution_count": 44,
     "metadata": {},
     "output_type": "execute_result"
    }
   ],
   "source": [
    "model.fit(X, y)"
   ]
  },
  {
   "cell_type": "code",
   "execution_count": 45,
   "id": "e9f4e576",
   "metadata": {
    "execution": {
     "iopub.execute_input": "2022-06-03T11:42:59.552389Z",
     "iopub.status.busy": "2022-06-03T11:42:59.551990Z",
     "iopub.status.idle": "2022-06-03T11:42:59.577157Z",
     "shell.execute_reply": "2022-06-03T11:42:59.576244Z"
    },
    "papermill": {
     "duration": 0.048785,
     "end_time": "2022-06-03T11:42:59.579490",
     "exception": false,
     "start_time": "2022-06-03T11:42:59.530705",
     "status": "completed"
    },
    "tags": []
   },
   "outputs": [],
   "source": [
    "predictions = model.predict(X_test)"
   ]
  },
  {
   "cell_type": "code",
   "execution_count": 46,
   "id": "4cf7733a",
   "metadata": {
    "execution": {
     "iopub.execute_input": "2022-06-03T11:42:59.621611Z",
     "iopub.status.busy": "2022-06-03T11:42:59.620708Z",
     "iopub.status.idle": "2022-06-03T11:42:59.628855Z",
     "shell.execute_reply": "2022-06-03T11:42:59.627870Z"
    },
    "papermill": {
     "duration": 0.031813,
     "end_time": "2022-06-03T11:42:59.631460",
     "exception": false,
     "start_time": "2022-06-03T11:42:59.599647",
     "status": "completed"
    },
    "tags": []
   },
   "outputs": [
    {
     "data": {
      "text/plain": [
       "array([0, 1, 0, 0, 1, 0, 1, 0, 1, 0, 0, 0, 1, 0, 1, 1, 0, 0, 1, 1, 0, 0,\n",
       "       1, 0, 1, 0, 1, 0, 0, 0, 0, 0, 0, 0, 0, 0, 1, 1, 0, 0, 0, 0, 0, 1,\n",
       "       1, 0, 0, 0, 1, 1, 0, 0, 1, 1, 0, 0, 0, 0, 0, 1, 0, 0, 0, 1, 1, 1,\n",
       "       1, 0, 0, 1, 1, 0, 1, 0, 1, 0, 0, 1, 0, 1, 0, 0, 0, 0, 0, 0, 1, 1,\n",
       "       1, 0, 1, 0, 1, 0, 0, 0, 1, 0, 1, 0, 1, 0, 0, 0, 1, 0, 0, 0, 0, 0,\n",
       "       0, 1, 1, 1, 1, 0, 0, 1, 0, 1, 1, 0, 1, 0, 0, 1, 0, 1, 0, 0, 0, 0,\n",
       "       0, 0, 0, 0, 0, 0, 1, 0, 0, 1, 1, 0, 0, 0, 0, 0, 0, 0, 1, 0, 0, 1,\n",
       "       0, 0, 1, 1, 0, 1, 1, 0, 1, 0, 0, 1, 0, 0, 1, 1, 0, 0, 0, 0, 0, 1,\n",
       "       1, 0, 1, 1, 0, 0, 1, 0, 1, 0, 1, 0, 0, 0, 0, 0, 0, 0, 1, 0, 0, 1,\n",
       "       0, 1, 1, 0, 0, 1, 0, 0, 1, 0, 1, 0, 0, 0, 0, 1, 0, 0, 1, 0, 1, 0,\n",
       "       1, 0, 1, 0, 1, 1, 0, 1, 0, 0, 0, 1, 0, 0, 0, 0, 0, 0, 1, 1, 1, 1,\n",
       "       0, 0, 0, 0, 1, 0, 1, 1, 1, 0, 0, 0, 0, 0, 0, 0, 1, 0, 0, 0, 1, 1,\n",
       "       0, 0, 0, 0, 1, 0, 0, 0, 1, 1, 0, 1, 0, 0, 0, 0, 1, 0, 1, 1, 1, 0,\n",
       "       0, 0, 0, 0, 0, 1, 0, 0, 0, 0, 1, 0, 0, 0, 0, 0, 0, 0, 1, 1, 1, 0,\n",
       "       0, 1, 0, 0, 0, 1, 1, 1, 0, 0, 0, 0, 0, 0, 0, 0, 1, 0, 1, 0, 0, 0,\n",
       "       1, 0, 0, 1, 0, 0, 0, 0, 0, 0, 0, 0, 0, 1, 0, 1, 0, 1, 0, 1, 1, 0,\n",
       "       0, 0, 0, 0, 1, 0, 0, 1, 0, 1, 1, 0, 1, 0, 0, 1, 1, 0, 0, 1, 0, 0,\n",
       "       1, 1, 1, 0, 0, 0, 0, 0, 1, 1, 0, 1, 0, 0, 0, 0, 0, 1, 0, 0, 0, 1,\n",
       "       0, 1, 0, 0, 1, 0, 1, 0, 0, 0, 0, 0, 1, 1, 1, 1, 1, 0, 1, 0, 0, 0])"
      ]
     },
     "execution_count": 46,
     "metadata": {},
     "output_type": "execute_result"
    }
   ],
   "source": [
    "predictions"
   ]
  },
  {
   "cell_type": "code",
   "execution_count": 47,
   "id": "5ff77569",
   "metadata": {
    "execution": {
     "iopub.execute_input": "2022-06-03T11:42:59.675211Z",
     "iopub.status.busy": "2022-06-03T11:42:59.674514Z",
     "iopub.status.idle": "2022-06-03T11:42:59.680619Z",
     "shell.execute_reply": "2022-06-03T11:42:59.679804Z"
    },
    "papermill": {
     "duration": 0.030111,
     "end_time": "2022-06-03T11:42:59.682555",
     "exception": false,
     "start_time": "2022-06-03T11:42:59.652444",
     "status": "completed"
    },
    "tags": []
   },
   "outputs": [
    {
     "data": {
      "text/plain": [
       "numpy.ndarray"
      ]
     },
     "execution_count": 47,
     "metadata": {},
     "output_type": "execute_result"
    }
   ],
   "source": [
    "type(predictions)"
   ]
  },
  {
   "cell_type": "code",
   "execution_count": 48,
   "id": "eac32bda",
   "metadata": {
    "execution": {
     "iopub.execute_input": "2022-06-03T11:42:59.725048Z",
     "iopub.status.busy": "2022-06-03T11:42:59.724403Z",
     "iopub.status.idle": "2022-06-03T11:42:59.730416Z",
     "shell.execute_reply": "2022-06-03T11:42:59.729665Z"
    },
    "papermill": {
     "duration": 0.030205,
     "end_time": "2022-06-03T11:42:59.732557",
     "exception": false,
     "start_time": "2022-06-03T11:42:59.702352",
     "status": "completed"
    },
    "tags": []
   },
   "outputs": [],
   "source": [
    "output = pd.DataFrame({'PassengerId': test_data.PassengerId, 'Survived': predictions})"
   ]
  },
  {
   "cell_type": "code",
   "execution_count": 49,
   "id": "3ec6fa64",
   "metadata": {
    "execution": {
     "iopub.execute_input": "2022-06-03T11:42:59.775165Z",
     "iopub.status.busy": "2022-06-03T11:42:59.774585Z",
     "iopub.status.idle": "2022-06-03T11:42:59.783485Z",
     "shell.execute_reply": "2022-06-03T11:42:59.782495Z"
    },
    "papermill": {
     "duration": 0.032364,
     "end_time": "2022-06-03T11:42:59.785571",
     "exception": false,
     "start_time": "2022-06-03T11:42:59.753207",
     "status": "completed"
    },
    "tags": []
   },
   "outputs": [],
   "source": [
    "output.to_csv('submission.csv', index=False)"
   ]
  },
  {
   "cell_type": "code",
   "execution_count": 50,
   "id": "37d9a150",
   "metadata": {
    "execution": {
     "iopub.execute_input": "2022-06-03T11:42:59.829019Z",
     "iopub.status.busy": "2022-06-03T11:42:59.828005Z",
     "iopub.status.idle": "2022-06-03T11:42:59.834686Z",
     "shell.execute_reply": "2022-06-03T11:42:59.833488Z"
    },
    "papermill": {
     "duration": 0.030745,
     "end_time": "2022-06-03T11:42:59.836770",
     "exception": false,
     "start_time": "2022-06-03T11:42:59.806025",
     "status": "completed"
    },
    "tags": []
   },
   "outputs": [
    {
     "name": "stdout",
     "output_type": "stream",
     "text": [
      "You submission was successfully saved!\n"
     ]
    }
   ],
   "source": [
    "print(\"You submission was successfully saved!\")"
   ]
  },
  {
   "cell_type": "code",
   "execution_count": null,
   "id": "38e53784",
   "metadata": {
    "papermill": {
     "duration": 0.020306,
     "end_time": "2022-06-03T11:42:59.877599",
     "exception": false,
     "start_time": "2022-06-03T11:42:59.857293",
     "status": "completed"
    },
    "tags": []
   },
   "outputs": [],
   "source": []
  },
  {
   "cell_type": "code",
   "execution_count": null,
   "id": "49bab02e",
   "metadata": {
    "papermill": {
     "duration": 0.020238,
     "end_time": "2022-06-03T11:42:59.918555",
     "exception": false,
     "start_time": "2022-06-03T11:42:59.898317",
     "status": "completed"
    },
    "tags": []
   },
   "outputs": [],
   "source": []
  },
  {
   "cell_type": "code",
   "execution_count": null,
   "id": "10aad1c2",
   "metadata": {
    "papermill": {
     "duration": 0.019954,
     "end_time": "2022-06-03T11:42:59.959089",
     "exception": false,
     "start_time": "2022-06-03T11:42:59.939135",
     "status": "completed"
    },
    "tags": []
   },
   "outputs": [],
   "source": []
  },
  {
   "cell_type": "code",
   "execution_count": null,
   "id": "7f0ec942",
   "metadata": {
    "papermill": {
     "duration": 0.019443,
     "end_time": "2022-06-03T11:42:59.998913",
     "exception": false,
     "start_time": "2022-06-03T11:42:59.979470",
     "status": "completed"
    },
    "tags": []
   },
   "outputs": [],
   "source": []
  },
  {
   "cell_type": "code",
   "execution_count": null,
   "id": "a98a9525",
   "metadata": {
    "papermill": {
     "duration": 0.019722,
     "end_time": "2022-06-03T11:43:00.038446",
     "exception": false,
     "start_time": "2022-06-03T11:43:00.018724",
     "status": "completed"
    },
    "tags": []
   },
   "outputs": [],
   "source": []
  },
  {
   "cell_type": "code",
   "execution_count": null,
   "id": "524e20b1",
   "metadata": {
    "papermill": {
     "duration": 0.01935,
     "end_time": "2022-06-03T11:43:00.077589",
     "exception": false,
     "start_time": "2022-06-03T11:43:00.058239",
     "status": "completed"
    },
    "tags": []
   },
   "outputs": [],
   "source": []
  },
  {
   "cell_type": "code",
   "execution_count": null,
   "id": "121faf1c",
   "metadata": {
    "papermill": {
     "duration": 0.019401,
     "end_time": "2022-06-03T11:43:00.116813",
     "exception": false,
     "start_time": "2022-06-03T11:43:00.097412",
     "status": "completed"
    },
    "tags": []
   },
   "outputs": [],
   "source": []
  },
  {
   "cell_type": "code",
   "execution_count": null,
   "id": "42450245",
   "metadata": {
    "papermill": {
     "duration": 0.020267,
     "end_time": "2022-06-03T11:43:00.156720",
     "exception": false,
     "start_time": "2022-06-03T11:43:00.136453",
     "status": "completed"
    },
    "tags": []
   },
   "outputs": [],
   "source": []
  },
  {
   "cell_type": "code",
   "execution_count": null,
   "id": "08ec5576",
   "metadata": {
    "papermill": {
     "duration": 0.019874,
     "end_time": "2022-06-03T11:43:00.197067",
     "exception": false,
     "start_time": "2022-06-03T11:43:00.177193",
     "status": "completed"
    },
    "tags": []
   },
   "outputs": [],
   "source": []
  },
  {
   "cell_type": "code",
   "execution_count": null,
   "id": "d640a7bd",
   "metadata": {
    "papermill": {
     "duration": 0.019567,
     "end_time": "2022-06-03T11:43:00.236312",
     "exception": false,
     "start_time": "2022-06-03T11:43:00.216745",
     "status": "completed"
    },
    "tags": []
   },
   "outputs": [],
   "source": []
  },
  {
   "cell_type": "code",
   "execution_count": null,
   "id": "e5e0ae4d",
   "metadata": {
    "papermill": {
     "duration": 0.019369,
     "end_time": "2022-06-03T11:43:00.275483",
     "exception": false,
     "start_time": "2022-06-03T11:43:00.256114",
     "status": "completed"
    },
    "tags": []
   },
   "outputs": [],
   "source": []
  },
  {
   "cell_type": "code",
   "execution_count": null,
   "id": "58dca5ba",
   "metadata": {
    "papermill": {
     "duration": 0.01943,
     "end_time": "2022-06-03T11:43:00.314709",
     "exception": false,
     "start_time": "2022-06-03T11:43:00.295279",
     "status": "completed"
    },
    "tags": []
   },
   "outputs": [],
   "source": []
  }
 ],
 "metadata": {
  "kernelspec": {
   "display_name": "Python 3",
   "language": "python",
   "name": "python3"
  },
  "language_info": {
   "codemirror_mode": {
    "name": "ipython",
    "version": 3
   },
   "file_extension": ".py",
   "mimetype": "text/x-python",
   "name": "python",
   "nbconvert_exporter": "python",
   "pygments_lexer": "ipython3",
   "version": "3.7.12"
  },
  "papermill": {
   "default_parameters": {},
   "duration": 16.374952,
   "end_time": "2022-06-03T11:43:01.155971",
   "environment_variables": {},
   "exception": null,
   "input_path": "__notebook__.ipynb",
   "output_path": "__notebook__.ipynb",
   "parameters": {},
   "start_time": "2022-06-03T11:42:44.781019",
   "version": "2.3.4"
  }
 },
 "nbformat": 4,
 "nbformat_minor": 5
}
